{
 "cells": [
  {
   "cell_type": "code",
   "execution_count": 43,
   "id": "c194f664-9ca4-45ba-bd10-b504439ac672",
   "metadata": {},
   "outputs": [],
   "source": [
    "import numpy as np\n",
    "import sympy as sp\n",
    "import matplotlib.pyplot as plt\n",
    "from IPython.display import display, Latex, Math"
   ]
  },
  {
   "cell_type": "markdown",
   "id": "e494df39-c883-4128-a9b1-e381174b029a",
   "metadata": {},
   "source": [
    "# E4.11"
   ]
  },
  {
   "cell_type": "markdown",
   "id": "a4b174cc-0a5f-4302-bfe9-94e4d791b7a8",
   "metadata": {},
   "source": [
    "## a)"
   ]
  },
  {
   "cell_type": "markdown",
   "id": "0abf16dd-898d-4300-b91a-b228d76c20d3",
   "metadata": {},
   "source": [
    "To find $T(s) = \\frac{Y(s)}{R(s)}$ we consider the system without the input disturbance.\n",
    "We can then reduce the blockdiagram by removing the feedback"
   ]
  },
  {
   "cell_type": "code",
   "execution_count": 44,
   "id": "d900b41e-bdf2-4ae9-85a9-ea31f575c425",
   "metadata": {},
   "outputs": [],
   "source": [
    "def eq_disp(varstring, expr):\n",
    "    display(Latex(f\"${varstring}={sp.latex(expr)}$\"))\n",
    "\n",
    "def reduce_feedback(G_fwd, G_bwd):\n",
    "    \"\"\"Assumes feedback is deducted from signal, if not\n",
    "    change sign of feedback\"\"\"\n",
    "    return sp.simplify(G_fwd/(1+G_fwd*G_bwd))\n",
    "K, t, s, R, Td, Y = sp.symbols('K, t, s, R, T_d, Y')\n",
    "G = K/(s+10)\n",
    "H = 14/(s**2 + 5*s + 6)"
   ]
  },
  {
   "cell_type": "code",
   "execution_count": 45,
   "id": "156dffcf-1d8d-472e-b009-bd9f1f40dc89",
   "metadata": {},
   "outputs": [
    {
     "data": {
      "text/latex": [
       "$T=\\frac{K \\left(s^{2} + 5 s + 6\\right)}{14 K + \\left(s + 10\\right) \\left(s^{2} + 5 s + 6\\right)}$"
      ],
      "text/plain": [
       "<IPython.core.display.Latex object>"
      ]
     },
     "metadata": {},
     "output_type": "display_data"
    }
   ],
   "source": [
    "T = reduce_feedback(G, H)\n",
    "eq_disp('T', T)"
   ]
  },
  {
   "cell_type": "markdown",
   "id": "bf69fbfd-cbba-46e3-8fe3-1d7e4c8ffad3",
   "metadata": {},
   "source": [
    "## b)"
   ]
  },
  {
   "cell_type": "markdown",
   "id": "e966cb02-8d1d-412e-aa65-59716da76444",
   "metadata": {},
   "source": [
    "We compute $Y(s)$ by\n",
    "$$Y(s) = TR(s)$$\n",
    "$E(s)$ can then be computed"
   ]
  },
  {
   "cell_type": "code",
   "execution_count": 51,
   "id": "9e042843-3806-4c59-8be0-30caed9ef5da",
   "metadata": {},
   "outputs": [
    {
     "data": {
      "text/latex": [
       "$E(s)=\\frac{K \\left(s^{2} + 5 s + 6\\right) - 14 K - \\left(s + 10\\right) \\left(s^{2} + 5 s + 6\\right)}{s \\left(14 K + \\left(s + 10\\right) \\left(s^{2} + 5 s + 6\\right)\\right)}$"
      ],
      "text/plain": [
       "<IPython.core.display.Latex object>"
      ]
     },
     "metadata": {},
     "output_type": "display_data"
    }
   ],
   "source": [
    "step = 1/s\n",
    "Y = T*R\n",
    "E = sp.simplify(Y - R)\n",
    "E_step = E.subs(R, step)\n",
    "eq_disp('E(s)', E_step)"
   ]
  },
  {
   "cell_type": "markdown",
   "id": "c68192b2-0dcb-4b84-a624-60437798be5b",
   "metadata": {},
   "source": [
    "To find the steady state error, we let $t\\rightarrow \\infty$, which in Laplace domain corresponds to $s=0$.  "
   ]
  },
  {
   "cell_type": "code",
   "execution_count": 55,
   "id": "c0ba23ba-bfae-4877-86d1-f57ea020d971",
   "metadata": {},
   "outputs": [
    {
     "data": {
      "text/latex": [
       "$E(s=0)=\\frac{\\tilde{\\infty} \\left(K + 1\\right)}{7 K + 30}$"
      ],
      "text/plain": [
       "<IPython.core.display.Latex object>"
      ]
     },
     "metadata": {},
     "output_type": "display_data"
    }
   ],
   "source": [
    "E_step_steady = sp.simplify(E_step.subs(s, 0))\n",
    "eq_disp('E(s=0)',E_step_steady)"
   ]
  },
  {
   "cell_type": "markdown",
   "id": "b7cc2e23-e03d-47d4-9f7b-683e1cc2ce44",
   "metadata": {},
   "source": [
    "We observe that the system is unstable since the error will increase to infinity at steady state"
   ]
  },
  {
   "cell_type": "code",
   "execution_count": null,
   "id": "bb2ff157-63d5-47e6-a5ea-a25cc163cf3a",
   "metadata": {},
   "outputs": [],
   "source": []
  },
  {
   "cell_type": "markdown",
   "id": "ed05fd6d-cbb0-4c76-985a-32b25207089a",
   "metadata": {},
   "source": [
    "# E4.15"
   ]
  },
  {
   "cell_type": "markdown",
   "id": "8b4092a9-a64a-45a5-9640-30efa526a83c",
   "metadata": {},
   "source": [
    "# P4.6"
   ]
  },
  {
   "cell_type": "markdown",
   "id": "635b8a29-404f-44d1-bc65-5088bc52bdef",
   "metadata": {},
   "source": [
    "# P4.17"
   ]
  }
 ],
 "metadata": {
  "kernelspec": {
   "display_name": "Python 3 (ipykernel)",
   "language": "python",
   "name": "python3"
  },
  "language_info": {
   "codemirror_mode": {
    "name": "ipython",
    "version": 3
   },
   "file_extension": ".py",
   "mimetype": "text/x-python",
   "name": "python",
   "nbconvert_exporter": "python",
   "pygments_lexer": "ipython3",
   "version": "3.9.12"
  }
 },
 "nbformat": 4,
 "nbformat_minor": 5
}
