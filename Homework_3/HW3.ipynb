{
 "cells": [
  {
   "cell_type": "code",
   "execution_count": 1,
   "id": "c194f664-9ca4-45ba-bd10-b504439ac672",
   "metadata": {},
   "outputs": [],
   "source": [
    "import numpy as np\n",
    "import sympy as sp\n",
    "import matplotlib.pyplot as plt\n",
    "from IPython.display import display, Latex, Math"
   ]
  },
  {
   "cell_type": "markdown",
   "id": "e494df39-c883-4128-a9b1-e381174b029a",
   "metadata": {},
   "source": [
    "# E4.11"
   ]
  },
  {
   "cell_type": "markdown",
   "id": "a4b174cc-0a5f-4302-bfe9-94e4d791b7a8",
   "metadata": {},
   "source": [
    "## a)"
   ]
  },
  {
   "cell_type": "markdown",
   "id": "0abf16dd-898d-4300-b91a-b228d76c20d3",
   "metadata": {},
   "source": [
    "To find $T(s) = \\frac{Y(s)}{R(s)}$ we consider the system without the input disturbance.\n",
    "We can then reduce the blockdiagram by removing the feedback"
   ]
  },
  {
   "cell_type": "code",
   "execution_count": 2,
   "id": "d900b41e-bdf2-4ae9-85a9-ea31f575c425",
   "metadata": {},
   "outputs": [],
   "source": [
    "def eq_disp(varstring, expr):\n",
    "    display(Latex(f\"${varstring}={sp.latex(expr)}$\"))\n",
    "\n",
    "def reduce_feedback(G_fwd, G_bwd):\n",
    "    \"\"\"Assumes feedback is deducted from signal, if not\n",
    "    change sign of feedback\"\"\"\n",
    "    return sp.simplify(G_fwd/(1+G_fwd*G_bwd))\n",
    "K, t, s, R, Td, Y = sp.symbols('K, t, s, R, T_d, Y')\n",
    "G = K/(s+10)\n",
    "H = 14/(s**2 + 5*s + 6)"
   ]
  },
  {
   "cell_type": "code",
   "execution_count": 3,
   "id": "156dffcf-1d8d-472e-b009-bd9f1f40dc89",
   "metadata": {},
   "outputs": [
    {
     "data": {
      "text/latex": [
       "$T=\\frac{K \\left(s^{2} + 5 s + 6\\right)}{14 K + \\left(s + 10\\right) \\left(s^{2} + 5 s + 6\\right)}$"
      ],
      "text/plain": [
       "<IPython.core.display.Latex object>"
      ]
     },
     "metadata": {},
     "output_type": "display_data"
    }
   ],
   "source": [
    "T = reduce_feedback(G, H)\n",
    "eq_disp('T', T)"
   ]
  },
  {
   "cell_type": "markdown",
   "id": "bf69fbfd-cbba-46e3-8fe3-1d7e4c8ffad3",
   "metadata": {},
   "source": [
    "## b)"
   ]
  },
  {
   "cell_type": "markdown",
   "id": "e966cb02-8d1d-412e-aa65-59716da76444",
   "metadata": {},
   "source": [
    "The steady state tracking error of a step input: $R(s)=\\frac{1}{s}$, is given by:\n",
    "$$e_{ss} = 1-\\lim _{s \\rightarrow 0}T(s)$$"
   ]
  },
  {
   "cell_type": "code",
   "execution_count": 4,
   "id": "c0ba23ba-bfae-4877-86d1-f57ea020d971",
   "metadata": {
    "tags": []
   },
   "outputs": [
    {
     "data": {
      "text/latex": [
       "$e_{ss}=- \\frac{6 K}{14 K + 60} + 1$"
      ],
      "text/plain": [
       "<IPython.core.display.Latex object>"
      ]
     },
     "metadata": {},
     "output_type": "display_data"
    }
   ],
   "source": [
    "T0 = sp.limit(T, s, 0)\n",
    "eq_disp('e_{ss}',1-T0)"
   ]
  },
  {
   "cell_type": "markdown",
   "id": "b7cc2e23-e03d-47d4-9f7b-683e1cc2ce44",
   "metadata": {},
   "source": [
    "The steady state error is zero if K is such that the first term equals 1"
   ]
  },
  {
   "cell_type": "markdown",
   "id": "13084700-4fb1-45f2-88b7-d57bfcc42951",
   "metadata": {},
   "source": [
    "## c)"
   ]
  },
  {
   "cell_type": "markdown",
   "id": "e4afc215-de03-4bae-86b3-bc956f6a1cf2",
   "metadata": {},
   "source": [
    "To calculate $\\frac{Y(s)}{T_d(s)}$ we consider the system without $R(s)$.  \n",
    "We can reduce the system by removing the feedback loop"
   ]
  },
  {
   "cell_type": "code",
   "execution_count": 5,
   "id": "2471f6ee-6290-49f3-abe2-d7469b649210",
   "metadata": {},
   "outputs": [
    {
     "data": {
      "text/latex": [
       "$T_2=\\frac{K \\left(s^{2} + 5 s + 6\\right)}{14 K + \\left(s + 10\\right) \\left(s^{2} + 5 s + 6\\right)}$"
      ],
      "text/plain": [
       "<IPython.core.display.Latex object>"
      ]
     },
     "metadata": {},
     "output_type": "display_data"
    }
   ],
   "source": [
    "T2 = reduce_feedback(1, H*G)\n",
    "eq_disp('T_2', T)"
   ]
  },
  {
   "cell_type": "markdown",
   "id": "6dd8717f-0059-453c-b652-51511ac87b31",
   "metadata": {},
   "source": [
    "We compute $Y(s)$ by\n",
    "$$Y(s) = T_2T_d(s)$$\n",
    "$e_{ss}$ for a unit step disturbance is given by\n",
    "$$e_{ss} = \\lim _{s \\rightarrow 0}-T_2(s)$$"
   ]
  },
  {
   "cell_type": "code",
   "execution_count": 6,
   "id": "1648a4ab-2fee-437c-85dd-150a05fc9ded",
   "metadata": {},
   "outputs": [
    {
     "data": {
      "text/latex": [
       "$e_{ss}=- \\frac{60}{14 K + 60}$"
      ],
      "text/plain": [
       "<IPython.core.display.Latex object>"
      ]
     },
     "metadata": {},
     "output_type": "display_data"
    }
   ],
   "source": [
    "T0 = sp.limit(-T2, s, 0)\n",
    "eq_disp('e_{ss}',T0)"
   ]
  },
  {
   "cell_type": "markdown",
   "id": "195954f7-c64c-484c-985a-d0ee6cf33e1a",
   "metadata": {},
   "source": [
    "To find the steady state error, we use the final value theorem:\n",
    "$$\\lim _{t \\rightarrow \\infty} e(t)=\\lim _{s \\rightarrow 0} s E(s)$$"
   ]
  },
  {
   "cell_type": "code",
   "execution_count": 7,
   "id": "f7d1dbff-f4cb-47bc-9d3b-bc18adefe542",
   "metadata": {
    "tags": []
   },
   "outputs": [
    {
     "ename": "NameError",
     "evalue": "name 'E_step' is not defined",
     "output_type": "error",
     "traceback": [
      "\u001b[0;31m---------------------------------------------------------------------------\u001b[0m",
      "\u001b[0;31mNameError\u001b[0m                                 Traceback (most recent call last)",
      "\u001b[0;32m/var/folders/mr/8dv953yx4cg4k1jrzprcqlzw0000gn/T/ipykernel_1933/2338994755.py\u001b[0m in \u001b[0;36m<module>\u001b[0;34m\u001b[0m\n\u001b[0;32m----> 1\u001b[0;31m \u001b[0mE_step_steady2\u001b[0m \u001b[0;34m=\u001b[0m \u001b[0msp\u001b[0m\u001b[0;34m.\u001b[0m\u001b[0mlimit\u001b[0m\u001b[0;34m(\u001b[0m\u001b[0;34m(\u001b[0m\u001b[0ms\u001b[0m\u001b[0;34m*\u001b[0m\u001b[0mE_step\u001b[0m\u001b[0;34m)\u001b[0m\u001b[0;34m,\u001b[0m\u001b[0ms\u001b[0m\u001b[0;34m,\u001b[0m\u001b[0;36m0\u001b[0m\u001b[0;34m)\u001b[0m\u001b[0;34m\u001b[0m\u001b[0;34m\u001b[0m\u001b[0m\n\u001b[0m\u001b[1;32m      2\u001b[0m \u001b[0meq_disp\u001b[0m\u001b[0;34m(\u001b[0m\u001b[0;34m'E(s=0)'\u001b[0m\u001b[0;34m,\u001b[0m\u001b[0mE_step_steady2\u001b[0m\u001b[0;34m)\u001b[0m\u001b[0;34m\u001b[0m\u001b[0;34m\u001b[0m\u001b[0m\n",
      "\u001b[0;31mNameError\u001b[0m: name 'E_step' is not defined"
     ]
    }
   ],
   "source": [
    "E_step_steady2 = sp.limit((s*E_step),s,0)\n",
    "eq_disp('E(s=0)',E_step_steady2)"
   ]
  },
  {
   "cell_type": "markdown",
   "id": "5af3cf71-76ea-4a19-b0d5-9ebc63caf4f1",
   "metadata": {},
   "source": [
    "## d)"
   ]
  },
  {
   "cell_type": "markdown",
   "id": "f0e06669-b4c1-46cd-9ecb-9e34f1697818",
   "metadata": {},
   "source": [
    "The sensitivity is calculated by:\n",
    "$$S_K^T=\\frac{\\partial T}{\\partial K}\\frac{K}{T}$$\n",
    "The parameter sensitivity can be calculated by:\n",
    "$$S_\\alpha^T=S_G^T S_\\alpha^G$$\n",
    "Where G is the block that holds the parameter of interest"
   ]
  },
  {
   "cell_type": "code",
   "execution_count": 8,
   "id": "d3001081-2653-4825-9441-eb07c6b771cb",
   "metadata": {},
   "outputs": [
    {
     "data": {
      "text/latex": [
       "$S_K^T=\\frac{1}{G H + 1}$"
      ],
      "text/plain": [
       "<IPython.core.display.Latex object>"
      ]
     },
     "metadata": {},
     "output_type": "display_data"
    }
   ],
   "source": [
    "Gsym, Hsym = sp.symbols('G, H')\n",
    "Tsym = reduce_feedback(Gsym, Hsym)\n",
    "S_TG = sp.simplify(Tsym.diff(Gsym)*Gsym/Tsym) \n",
    "S_GK = sp.simplify(G.diff(K)*K/G)\n",
    "eq_disp('S_K^T',S_TG*S_GK)"
   ]
  },
  {
   "cell_type": "markdown",
   "id": "ed05fd6d-cbb0-4c76-985a-32b25207089a",
   "metadata": {},
   "source": [
    "# E4.15"
   ]
  },
  {
   "cell_type": "markdown",
   "id": "4d91272d-2bc0-4caa-9c64-7677964d13d2",
   "metadata": {},
   "source": [
    "## a)"
   ]
  },
  {
   "cell_type": "code",
   "execution_count": 14,
   "id": "cbc66db6-dece-46a8-9605-3ece75bc9b44",
   "metadata": {},
   "outputs": [],
   "source": [
    "K = 120\n",
    "K1 = 10\n",
    "G = 1/(s*(s+10))"
   ]
  },
  {
   "cell_type": "markdown",
   "id": "7543eeca-7abd-403c-a1f7-e273db1a0f47",
   "metadata": {},
   "source": [
    "The steady state tracking error of a step input: $R(s)=\\frac{1}{s}$, is given by:\n",
    "$$e_{ss} = 1-\\lim _{s \\rightarrow 0}T(s)$$"
   ]
  },
  {
   "cell_type": "code",
   "execution_count": 15,
   "id": "3fb5867e-f377-4f68-9c4f-ad355422cc1c",
   "metadata": {},
   "outputs": [
    {
     "data": {
      "text/latex": [
       "$e_{ss}=0$"
      ],
      "text/plain": [
       "<IPython.core.display.Latex object>"
      ]
     },
     "metadata": {},
     "output_type": "display_data"
    }
   ],
   "source": [
    "T = reduce_feedback(K*G, 1)\n",
    "T0 = sp.limit(T, s, 0)\n",
    "eq_disp('e_{ss}', 1-T0)"
   ]
  },
  {
   "cell_type": "markdown",
   "id": "2870026b-9cb8-4db8-aea4-913eaabfcc81",
   "metadata": {},
   "source": [
    "## b)"
   ]
  },
  {
   "cell_type": "markdown",
   "id": "595aae2f-d284-495e-9557-1def59e156b3",
   "metadata": {},
   "source": [
    "We use the final value theorem to find the steady state response using the laplace domain.\n",
    "$$Y = T_2(s)T_d$$\n",
    "$$y_{ss} = \\lim _{s \\rightarrow 0}T_2(s)$$"
   ]
  },
  {
   "cell_type": "code",
   "execution_count": 16,
   "id": "55efed9f-a088-4982-bea3-dc927ad78e8b",
   "metadata": {},
   "outputs": [
    {
     "data": {
      "text/latex": [
       "$y_{ss}=\\frac{1}{120}$"
      ],
      "text/plain": [
       "<IPython.core.display.Latex object>"
      ]
     },
     "metadata": {},
     "output_type": "display_data"
    }
   ],
   "source": [
    "T2 = reduce_feedback(G, K)\n",
    "y_ss = sp.limit(T2, s, 0)\n",
    "eq_disp('y_{ss}', y_ss)"
   ]
  },
  {
   "cell_type": "markdown",
   "id": "8b4092a9-a64a-45a5-9640-30efa526a83c",
   "metadata": {},
   "source": [
    "# P4.6"
   ]
  },
  {
   "cell_type": "markdown",
   "id": "fc4301d4",
   "metadata": {},
   "source": [
    "## a)"
   ]
  },
  {
   "cell_type": "code",
   "execution_count": null,
   "id": "d955572c",
   "metadata": {},
   "outputs": [],
   "source": [
    "tau_e = 20\n"
   ]
  },
  {
   "cell_type": "code",
   "execution_count": null,
   "id": "b1dc47e6",
   "metadata": {},
   "outputs": [],
   "source": []
  },
  {
   "cell_type": "markdown",
   "id": "635b8a29-404f-44d1-bc65-5088bc52bdef",
   "metadata": {},
   "source": [
    "# P4.17"
   ]
  }
 ],
 "metadata": {
  "kernelspec": {
   "display_name": "Python 3 (ipykernel)",
   "language": "python",
   "name": "python3"
  },
  "language_info": {
   "codemirror_mode": {
    "name": "ipython",
    "version": 3
   },
   "file_extension": ".py",
   "mimetype": "text/x-python",
   "name": "python",
   "nbconvert_exporter": "python",
   "pygments_lexer": "ipython3",
   "version": "3.9.7"
  }
 },
 "nbformat": 4,
 "nbformat_minor": 5
}
