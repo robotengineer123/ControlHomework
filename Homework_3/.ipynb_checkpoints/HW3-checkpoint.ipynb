{
 "cells": [
  {
   "cell_type": "code",
   "execution_count": 1,
   "id": "c194f664-9ca4-45ba-bd10-b504439ac672",
   "metadata": {},
   "outputs": [],
   "source": [
    "import numpy as np\n",
    "import sympy as sp"
   ]
  },
  {
   "cell_type": "markdown",
   "id": "e494df39-c883-4128-a9b1-e381174b029a",
   "metadata": {},
   "source": [
    "# E4.11"
   ]
  },
  {
   "cell_type": "markdown",
   "id": "ed05fd6d-cbb0-4c76-985a-32b25207089a",
   "metadata": {},
   "source": [
    "# E4.15"
   ]
  },
  {
   "cell_type": "markdown",
   "id": "8b4092a9-a64a-45a5-9640-30efa526a83c",
   "metadata": {},
   "source": [
    "# P4.6"
   ]
  },
  {
   "cell_type": "markdown",
   "id": "635b8a29-404f-44d1-bc65-5088bc52bdef",
   "metadata": {},
   "source": [
    "# P4.17"
   ]
  }
 ],
 "metadata": {
  "kernelspec": {
   "display_name": "Python 3 (ipykernel)",
   "language": "python",
   "name": "python3"
  },
  "language_info": {
   "codemirror_mode": {
    "name": "ipython",
    "version": 3
   },
   "file_extension": ".py",
   "mimetype": "text/x-python",
   "name": "python",
   "nbconvert_exporter": "python",
   "pygments_lexer": "ipython3",
   "version": "3.9.12"
  }
 },
 "nbformat": 4,
 "nbformat_minor": 5
}
