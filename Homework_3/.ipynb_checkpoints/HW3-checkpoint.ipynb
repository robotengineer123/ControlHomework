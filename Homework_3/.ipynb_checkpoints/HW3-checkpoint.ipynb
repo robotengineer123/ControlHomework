{
 "cells": [
  {
   "cell_type": "code",
   "execution_count": 1,
   "id": "c194f664-9ca4-45ba-bd10-b504439ac672",
   "metadata": {},
   "outputs": [],
   "source": [
    "import numpy as np\n",
    "import sympy as sp\n",
    "import matplotlib.pyplot as plt\n",
    "from IPython.display import display, Latex, Math"
   ]
  },
  {
   "cell_type": "markdown",
   "id": "e494df39-c883-4128-a9b1-e381174b029a",
   "metadata": {},
   "source": [
    "# E4.11"
   ]
  },
  {
   "cell_type": "markdown",
   "id": "a4b174cc-0a5f-4302-bfe9-94e4d791b7a8",
   "metadata": {},
   "source": [
    "## a)"
   ]
  },
  {
   "cell_type": "markdown",
   "id": "0abf16dd-898d-4300-b91a-b228d76c20d3",
   "metadata": {},
   "source": [
    "To find $T(s) = \\frac{Y(s)}{R(s)}$ we consider the system without the input disturbance.\n",
    "We can then reduce the blockdiagram by removing the feedback"
   ]
  },
  {
   "cell_type": "code",
   "execution_count": 2,
   "id": "d900b41e-bdf2-4ae9-85a9-ea31f575c425",
   "metadata": {},
   "outputs": [],
   "source": [
    "def eq_disp(varstring, expr):\n",
    "    display(Latex(f\"${varstring}={sp.latex(expr)}$\"))\n",
    "\n",
    "def reduce_feedback(G_fwd, G_bwd):\n",
    "    \"\"\"Assumes feedback is deducted from signal, if not\n",
    "    change sign of feedback\"\"\"\n",
    "    return sp.simplify(G_fwd/(1+G_fwd*G_bwd))\n",
    "K, t, s, R, Td, Y = sp.symbols('K, t, s, R, T_d, Y')\n",
    "G = K/(s+10)\n",
    "H = 14/(s**2 + 5*s + 6)"
   ]
  },
  {
   "cell_type": "code",
   "execution_count": 3,
   "id": "156dffcf-1d8d-472e-b009-bd9f1f40dc89",
   "metadata": {},
   "outputs": [
    {
     "data": {
      "text/latex": [
       "$T=\\frac{K \\left(s^{2} + 5 s + 6\\right)}{14 K + \\left(s + 10\\right) \\left(s^{2} + 5 s + 6\\right)}$"
      ],
      "text/plain": [
       "<IPython.core.display.Latex object>"
      ]
     },
     "metadata": {},
     "output_type": "display_data"
    }
   ],
   "source": [
    "T = reduce_feedback(G, H)\n",
    "eq_disp('T', T)"
   ]
  },
  {
   "cell_type": "markdown",
   "id": "bf69fbfd-cbba-46e3-8fe3-1d7e4c8ffad3",
   "metadata": {},
   "source": [
    "## b)"
   ]
  },
  {
   "cell_type": "markdown",
   "id": "e966cb02-8d1d-412e-aa65-59716da76444",
   "metadata": {},
   "source": [
    "The steady state tracking error of a step input: $R(s)=\\frac{1}{s}$, is given by:\n",
    "$$e_{ss} = 1-\\lim _{s \\rightarrow 0}T(s)$$"
   ]
  },
  {
   "cell_type": "code",
   "execution_count": 4,
   "id": "c0ba23ba-bfae-4877-86d1-f57ea020d971",
   "metadata": {
    "tags": []
   },
   "outputs": [
    {
     "data": {
      "text/latex": [
       "$e_{ss}=- \\frac{6 K}{14 K + 60} + 1$"
      ],
      "text/plain": [
       "<IPython.core.display.Latex object>"
      ]
     },
     "metadata": {},
     "output_type": "display_data"
    }
   ],
   "source": [
    "T0 = sp.limit(T, s, 0)\n",
    "eq_disp('e_{ss}',1-T0)"
   ]
  },
  {
   "cell_type": "markdown",
   "id": "b7cc2e23-e03d-47d4-9f7b-683e1cc2ce44",
   "metadata": {},
   "source": [
    "The steady state error is zero if K is such that the first term equals 1"
   ]
  },
  {
   "cell_type": "markdown",
   "id": "13084700-4fb1-45f2-88b7-d57bfcc42951",
   "metadata": {},
   "source": [
    "## c)"
   ]
  },
  {
   "cell_type": "markdown",
   "id": "e4afc215-de03-4bae-86b3-bc956f6a1cf2",
   "metadata": {},
   "source": [
    "To calculate $\\frac{Y(s)}{T_d(s)}$ we consider the system without $R(s)$.  \n",
    "We can reduce the system by removing the feedback loop"
   ]
  },
  {
   "cell_type": "code",
   "execution_count": 5,
   "id": "2471f6ee-6290-49f3-abe2-d7469b649210",
   "metadata": {},
   "outputs": [
    {
     "data": {
      "text/latex": [
       "$T_2=\\frac{K \\left(s^{2} + 5 s + 6\\right)}{14 K + \\left(s + 10\\right) \\left(s^{2} + 5 s + 6\\right)}$"
      ],
      "text/plain": [
       "<IPython.core.display.Latex object>"
      ]
     },
     "metadata": {},
     "output_type": "display_data"
    }
   ],
   "source": [
    "T2 = reduce_feedback(1, H*G)\n",
    "eq_disp('T_2', T)"
   ]
  },
  {
   "cell_type": "markdown",
   "id": "6dd8717f-0059-453c-b652-51511ac87b31",
   "metadata": {},
   "source": [
    "We compute $Y(s)$ by\n",
    "$$Y(s) = T_2T_d(s)$$\n",
    "$e_{ss}$ for a unit step disturbance is given by\n",
    "$$e_{ss} = \\lim _{s \\rightarrow 0}T_2(s)$$"
   ]
  },
  {
   "cell_type": "code",
   "execution_count": 6,
   "id": "1648a4ab-2fee-437c-85dd-150a05fc9ded",
   "metadata": {},
   "outputs": [
    {
     "data": {
      "text/latex": [
       "$e_{ss}=- \\frac{60}{14 K + 60}$"
      ],
      "text/plain": [
       "<IPython.core.display.Latex object>"
      ]
     },
     "metadata": {},
     "output_type": "display_data"
    }
   ],
   "source": [
    "T0 = sp.limit(-T2, s, 0)\n",
    "eq_disp('e_{ss}',T0)"
   ]
  },
  {
   "cell_type": "markdown",
   "id": "5af3cf71-76ea-4a19-b0d5-9ebc63caf4f1",
   "metadata": {},
   "source": [
    "## d)"
   ]
  },
  {
   "cell_type": "markdown",
   "id": "f0e06669-b4c1-46cd-9ecb-9e34f1697818",
   "metadata": {},
   "source": [
    "The sensitivity is calculated by:\n",
    "$$S_K^T=\\frac{\\partial T}{\\partial K}\\frac{K}{T}$$\n",
    "The parameter sensitivity can be calculated by:\n",
    "$$S_\\alpha^T=S_G^T S_\\alpha^G$$\n",
    "Where G is the block that holds the parameter of interest"
   ]
  },
  {
   "cell_type": "code",
   "execution_count": 7,
   "id": "d3001081-2653-4825-9441-eb07c6b771cb",
   "metadata": {},
   "outputs": [
    {
     "data": {
      "text/latex": [
       "$S_K^T=\\frac{1}{G H + 1}$"
      ],
      "text/plain": [
       "<IPython.core.display.Latex object>"
      ]
     },
     "metadata": {},
     "output_type": "display_data"
    }
   ],
   "source": [
    "Gsym, Hsym = sp.symbols('G, H')\n",
    "Tsym = reduce_feedback(Gsym, Hsym)\n",
    "S_TG = sp.simplify(Tsym.diff(Gsym)*Gsym/Tsym) \n",
    "S_GK = sp.simplify(G.diff(K)*K/G)\n",
    "eq_disp('S_K^T',S_TG*S_GK)"
   ]
  },
  {
   "cell_type": "markdown",
   "id": "ed05fd6d-cbb0-4c76-985a-32b25207089a",
   "metadata": {},
   "source": [
    "# E4.15"
   ]
  },
  {
   "cell_type": "markdown",
   "id": "4d91272d-2bc0-4caa-9c64-7677964d13d2",
   "metadata": {},
   "source": [
    "## a)"
   ]
  },
  {
   "cell_type": "code",
   "execution_count": 8,
   "id": "cbc66db6-dece-46a8-9605-3ece75bc9b44",
   "metadata": {},
   "outputs": [],
   "source": [
    "K = 120\n",
    "K1 = 10\n",
    "G = 1/(s*(s+10))"
   ]
  },
  {
   "cell_type": "markdown",
   "id": "7543eeca-7abd-403c-a1f7-e273db1a0f47",
   "metadata": {},
   "source": [
    "The steady state tracking error of a step input: $R(s)=\\frac{1}{s}$, is given by:\n",
    "$$e_{ss} = 1-\\lim _{s \\rightarrow 0}T(s)$$"
   ]
  },
  {
   "cell_type": "code",
   "execution_count": 9,
   "id": "3fb5867e-f377-4f68-9c4f-ad355422cc1c",
   "metadata": {},
   "outputs": [
    {
     "data": {
      "text/latex": [
       "$e_{ss}=0$"
      ],
      "text/plain": [
       "<IPython.core.display.Latex object>"
      ]
     },
     "metadata": {},
     "output_type": "display_data"
    }
   ],
   "source": [
    "T = reduce_feedback(K*G, 1)\n",
    "T0 = sp.limit(T, s, 0)\n",
    "eq_disp('e_{ss}', 1-T0)"
   ]
  },
  {
   "cell_type": "markdown",
   "id": "2870026b-9cb8-4db8-aea4-913eaabfcc81",
   "metadata": {},
   "source": [
    "## b)"
   ]
  },
  {
   "cell_type": "markdown",
   "id": "595aae2f-d284-495e-9557-1def59e156b3",
   "metadata": {},
   "source": [
    "We use the final value theorem to find the steady state response using the laplace domain.\n",
    "$$Y = T_2(s)T_d$$\n",
    "$$y_{ss} = \\lim _{s \\rightarrow 0}T_2(s)$$"
   ]
  },
  {
   "cell_type": "code",
   "execution_count": 10,
   "id": "55efed9f-a088-4982-bea3-dc927ad78e8b",
   "metadata": {},
   "outputs": [
    {
     "data": {
      "text/latex": [
       "$y_{ss}=\\frac{1}{120}$"
      ],
      "text/plain": [
       "<IPython.core.display.Latex object>"
      ]
     },
     "metadata": {},
     "output_type": "display_data"
    }
   ],
   "source": [
    "T2 = reduce_feedback(G, K)\n",
    "y_ss = sp.limit(T2, s, 0)\n",
    "eq_disp('y_{ss}', y_ss)"
   ]
  },
  {
   "cell_type": "markdown",
   "id": "8b4092a9-a64a-45a5-9640-30efa526a83c",
   "metadata": {},
   "source": [
    "# P4.6"
   ]
  },
  {
   "cell_type": "code",
   "execution_count": 11,
   "id": "9d8ecbda",
   "metadata": {},
   "outputs": [],
   "source": [
    "Tsym, Gsym, G1sym, Td, R = sp.symbols('T, G, G_1, T_d, R')\n",
    "Ke, tau_1, Ktsym, Kg, K1, s, d = sp.symbols('K_e, tau_1, K_t, K_g, K1, s, d')\n",
    "\n",
    "tau_e = 20\n",
    "G = Ke/(tau_e+1)\n",
    "G1 = K1/(tau_1+1)\n",
    "Kt = 1"
   ]
  },
  {
   "cell_type": "markdown",
   "id": "ee7134c9",
   "metadata": {},
   "source": [
    "## a)"
   ]
  },
  {
   "cell_type": "markdown",
   "id": "04d6c6b6",
   "metadata": {},
   "source": [
    "The transfer function of the system is found by reducing the feedback loop. $T_d(s)$ is assumed to be 0 and the transfer function is\n",
    "$$T(s) = \\frac{V(s)}{R(s)}$$"
   ]
  },
  {
   "cell_type": "code",
   "execution_count": 12,
   "id": "2d5ef327",
   "metadata": {},
   "outputs": [
    {
     "data": {
      "text/latex": [
       "$T_{vr}(s)=\\frac{G G_{1}}{G G_{1} K_{t} + 1}$"
      ],
      "text/plain": [
       "<IPython.core.display.Latex object>"
      ]
     },
     "metadata": {},
     "output_type": "display_data"
    }
   ],
   "source": [
    "Tsym = reduce_feedback(G1sym*Gsym, Ktsym)\n",
    "eq_disp('T_{vr}(s)', Tsym)"
   ]
  },
  {
   "cell_type": "markdown",
   "id": "d409a840",
   "metadata": {},
   "source": [
    "Inserting transfer functions"
   ]
  },
  {
   "cell_type": "code",
   "execution_count": 13,
   "id": "2f05c269",
   "metadata": {},
   "outputs": [
    {
     "data": {
      "text/latex": [
       "$T_{vr}(s)=\\frac{K_{1} K_{e}}{K_{1} K_{e} + 21 \\tau_{1} + 21}$"
      ],
      "text/plain": [
       "<IPython.core.display.Latex object>"
      ]
     },
     "metadata": {},
     "output_type": "display_data"
    }
   ],
   "source": [
    "T_vr = reduce_feedback(G1*G, Kt)\n",
    "eq_disp('T_{vr}(s)', T_vr)"
   ]
  },
  {
   "cell_type": "markdown",
   "id": "94a8089b",
   "metadata": {},
   "source": [
    "Sensitivity of the system transfer function, $T(s)$, to changes in the engine and vehicle transfer function, $G(s)$ is\n",
    "\n",
    "$$S_G^T=\\frac{\\partial T}{\\partial G}\\frac{G}{T}$$\n",
    "\n",
    "The sensitivity of $G(s)$ to the engine gain, $K_e$, is\n",
    "\n",
    "$$S_{K_e}^G=\\frac{\\partial G}{\\partial K_e}\\frac{K_e}{G}$$\n",
    "\n",
    "\n",
    "The sensitivity of the system transfer function to the engine gain is\n",
    "$$S_{K_e}^T=S_G^T S_{K_e}^G$$"
   ]
  },
  {
   "cell_type": "code",
   "execution_count": 14,
   "id": "1f3d553d",
   "metadata": {},
   "outputs": [
    {
     "data": {
      "text/latex": [
       "$S^T_G=\\frac{1}{G G_{1} K_{t} + 1}$"
      ],
      "text/plain": [
       "<IPython.core.display.Latex object>"
      ]
     },
     "metadata": {},
     "output_type": "display_data"
    },
    {
     "data": {
      "text/latex": [
       "$S^G_{K_e}=1$"
      ],
      "text/plain": [
       "<IPython.core.display.Latex object>"
      ]
     },
     "metadata": {},
     "output_type": "display_data"
    }
   ],
   "source": [
    "S_TG = sp.simplify(Tsym.diff(Gsym)*Gsym/Tsym)\n",
    "S_GKe = sp.simplify(G.diff(Ke)*Ke/G)\n",
    "\n",
    "eq_disp('S^T_G', S_TG)\n",
    "eq_disp('S^G_{K_e}', S_GKe)"
   ]
  },
  {
   "cell_type": "code",
   "execution_count": 15,
   "id": "9b63084d",
   "metadata": {},
   "outputs": [],
   "source": [
    "S_TKe = S_TG.subs([(Gsym,G),(G1sym,G1),(Ktsym,Kt)])*S_GKe"
   ]
  },
  {
   "cell_type": "markdown",
   "id": "fa40b6ee",
   "metadata": {},
   "source": [
    "So the sensitivity of the system to changes in the engine gain is"
   ]
  },
  {
   "cell_type": "code",
   "execution_count": 16,
   "id": "f396ef8d",
   "metadata": {},
   "outputs": [
    {
     "data": {
      "text/latex": [
       "$S^T_{K_e}=\\frac{1}{\\frac{K_{1} K_{e}}{21 \\left(\\tau_{1} + 1\\right)} + 1}$"
      ],
      "text/plain": [
       "<IPython.core.display.Latex object>"
      ]
     },
     "metadata": {},
     "output_type": "display_data"
    }
   ],
   "source": [
    "eq_disp('S^T_{K_e}', S_TKe)"
   ]
  },
  {
   "cell_type": "markdown",
   "id": "78b5efc7",
   "metadata": {},
   "source": [
    "## b)"
   ]
  },
  {
   "cell_type": "markdown",
   "id": "220fd363",
   "metadata": {},
   "source": [
    "Assuming that $R(s)=0$"
   ]
  },
  {
   "cell_type": "code",
   "execution_count": 17,
   "id": "61de9086",
   "metadata": {},
   "outputs": [
    {
     "data": {
      "text/latex": [
       "$T_{vd}(s)=\\frac{G K_{g}}{G G_{1} K_{g} K_{t} - 1}$"
      ],
      "text/plain": [
       "<IPython.core.display.Latex object>"
      ]
     },
     "metadata": {},
     "output_type": "display_data"
    }
   ],
   "source": [
    "Tsym = reduce_feedback((-Kg)*Gsym,Ktsym*G1sym)\n",
    "eq_disp('T_{vd}(s)', Tsym)"
   ]
  },
  {
   "cell_type": "code",
   "execution_count": 18,
   "id": "05f0342c",
   "metadata": {},
   "outputs": [
    {
     "data": {
      "text/latex": [
       "$T_{vd}(s)=\\frac{K_{e} K_{g} \\left(\\tau_{1} + 1\\right)}{K_{1} K_{e} K_{g} - 21 \\tau_{1} - 21}$"
      ],
      "text/plain": [
       "<IPython.core.display.Latex object>"
      ]
     },
     "metadata": {},
     "output_type": "display_data"
    }
   ],
   "source": [
    "T_vd = reduce_feedback((-Kg)*G,Kt*G1)\n",
    "eq_disp('T_{vd}(s)', T_vd)"
   ]
  },
  {
   "cell_type": "markdown",
   "id": "4846f15d",
   "metadata": {},
   "source": [
    "The speed is\n",
    "$$V(s) = T_{vd}(s) T_d(s)$$\n",
    "So the effect of the load torque on the speed is given by"
   ]
  },
  {
   "cell_type": "code",
   "execution_count": 19,
   "id": "386b2233",
   "metadata": {},
   "outputs": [
    {
     "data": {
      "text/latex": [
       "$V(s)=\\frac{K_{e} K_{g} T_{d} \\left(\\tau_{1} + 1\\right)}{K_{1} K_{e} K_{g} - 21 \\tau_{1} - 21}$"
      ],
      "text/plain": [
       "<IPython.core.display.Latex object>"
      ]
     },
     "metadata": {},
     "output_type": "display_data"
    }
   ],
   "source": [
    "V = T_vd*Td\n",
    "eq_disp('V(s)',V)"
   ]
  },
  {
   "cell_type": "markdown",
   "id": "e9ccc30c",
   "metadata": {},
   "source": [
    "## c)"
   ]
  },
  {
   "cell_type": "markdown",
   "id": "9020c7d9",
   "metadata": {},
   "source": [
    "Both the input from the speed setting and from the load torque is now taken into account. The system is assumed to be linear so by the principle of superposition the following is obtained\n",
    "$$V(s) = T_{vr}(s)R(s) + T_{vd}(s)T_d(s)$$"
   ]
  },
  {
   "cell_type": "code",
   "execution_count": 20,
   "id": "fdb63bc2",
   "metadata": {},
   "outputs": [
    {
     "data": {
      "text/latex": [
       "$V(s)=\\frac{K_{1} K_{e} R}{K_{1} K_{e} + 21 \\tau_{1} + 21} + \\frac{K_{e} K_{g} T_{d} \\left(\\tau_{1} + 1\\right)}{K_{1} K_{e} K_{g} - 21 \\tau_{1} - 21}$"
      ],
      "text/plain": [
       "<IPython.core.display.Latex object>"
      ]
     },
     "metadata": {},
     "output_type": "display_data"
    }
   ],
   "source": [
    "V = T_vr*R + T_vd*Td\n",
    "eq_disp('V(s)',V)"
   ]
  },
  {
   "cell_type": "markdown",
   "id": "3809a781",
   "metadata": {},
   "source": [
    "Inserting the step inputs\n",
    "$$R(s)=\\frac{30}{s} \\frac{km}{h}=\\frac{8.33}{s} \\frac{m}{sec}$$\n",
    "and\n",
    "$$T_d=\\frac{\\Delta d}{s}$$\n",
    "While assuming that when $\\frac{K_g}{K_1}=2\\Leftrightarrow K_g=2 K_1$, $K_e K_1 >> 1$"
   ]
  },
  {
   "cell_type": "code",
   "execution_count": 21,
   "id": "f48d92ec",
   "metadata": {},
   "outputs": [
    {
     "data": {
      "text/latex": [
       "$V(s)=\\frac{2 K_{1} K_{e} d \\left(\\tau_{1} + 1\\right)}{s \\left(2 K_{1}^{2} K_{e} - 21 \\tau_{1} - 21\\right)} + \\frac{8.33 K_{1} K_{e}}{s \\left(K_{1} K_{e} + 21 \\tau_{1} + 21\\right)}$"
      ],
      "text/plain": [
       "<IPython.core.display.Latex object>"
      ]
     },
     "metadata": {},
     "output_type": "display_data"
    }
   ],
   "source": [
    "V = V.subs([(R,8.33/s),(Td,d/s),(Kg,2*K1)])\n",
    "eq_disp('V(s)',V)"
   ]
  },
  {
   "cell_type": "markdown",
   "id": "2c68670b",
   "metadata": {},
   "source": [
    "Th final value theorem states\n",
    "$$\\lim_{t\\to\\infty} v(t)= \\lim_{s\\to 0} sV(s)$$"
   ]
  },
  {
   "cell_type": "code",
   "execution_count": 22,
   "id": "39fba572",
   "metadata": {},
   "outputs": [
    {
     "data": {
      "text/latex": [
       "$v(t=\\infty)=\\frac{K_{1} K_{e} \\left(- 16.66 K_{1}^{2} K_{e} - 2 d \\left(\\tau_{1} + 1\\right) \\left(K_{1} K_{e} + 21 \\tau_{1} + 21\\right) + 174.93 \\tau_{1} + 174.93\\right)}{\\left(K_{1} K_{e} + 21 \\tau_{1} + 21\\right) \\left(- 2 K_{1}^{2} K_{e} + 21 \\tau_{1} + 21\\right)}$"
      ],
      "text/plain": [
       "<IPython.core.display.Latex object>"
      ]
     },
     "metadata": {},
     "output_type": "display_data"
    }
   ],
   "source": [
    "v_ss = sp.limit(sp.simplify(V*s), s, 0)\n",
    "eq_disp('v(t=\\infty)',v_ss)"
   ]
  },
  {
   "cell_type": "markdown",
   "id": "037256af",
   "metadata": {},
   "source": [
    "At stall $v(\\infty)=0$"
   ]
  },
  {
   "cell_type": "code",
   "execution_count": 23,
   "id": "ce005405",
   "metadata": {},
   "outputs": [
    {
     "data": {
      "text/latex": [
       "$\\Delta d=\\frac{4.165 \\left(- 2.0 K_{1}^{2} K_{e} + 21.0 \\tau_{1} + 21.0\\right)}{K_{1} K_{e} \\tau_{1} + K_{1} K_{e} + 21.0 \\tau_{1}^{2} + 42.0 \\tau_{1} + 21.0}$"
      ],
      "text/plain": [
       "<IPython.core.display.Latex object>"
      ]
     },
     "metadata": {},
     "output_type": "display_data"
    }
   ],
   "source": [
    "Dd = sp.solve(v_ss,d)[0]\n",
    "eq_disp('\\Delta d',Dd)"
   ]
  },
  {
   "cell_type": "markdown",
   "id": "f17feb5d",
   "metadata": {},
   "source": [
    "Where $K_e K_1 >> 1$"
   ]
  },
  {
   "cell_type": "markdown",
   "id": "635b8a29-404f-44d1-bc65-5088bc52bdef",
   "metadata": {},
   "source": [
    "# P4.17"
   ]
  },
  {
   "cell_type": "code",
   "execution_count": 24,
   "id": "a80bef71",
   "metadata": {},
   "outputs": [],
   "source": [
    "Km = 30\n",
    "Rf = 1\n",
    "Kf = 1\n",
    "Ki = 1\n",
    "J = 0.1\n",
    "b = 1\n",
    "\n",
    "s, K = sp.symbols('s, K')\n",
    "\n",
    "G = 1/(s*(J*s+b))"
   ]
  },
  {
   "cell_type": "markdown",
   "id": "25a6d50d",
   "metadata": {},
   "source": [
    "## a)"
   ]
  },
  {
   "cell_type": "markdown",
   "id": "eef858c5",
   "metadata": {},
   "source": [
    "Finding the system transfer function while $T_d(s)=0$ and $K=20$"
   ]
  },
  {
   "cell_type": "code",
   "execution_count": 25,
   "id": "0502310b",
   "metadata": {},
   "outputs": [
    {
     "data": {
      "text/latex": [
       "$T_{\\theta}=\\frac{600.0}{s \\left(0.1 s + 1\\right) + 600.0}$"
      ],
      "text/plain": [
       "<IPython.core.display.Latex object>"
      ]
     },
     "metadata": {},
     "output_type": "display_data"
    }
   ],
   "source": [
    "K = 20\n",
    "T_theta = reduce_feedback(Ki*K*Km/Rf*G,Kf/Ki)\n",
    "eq_disp('T_{\\\\theta}',T_theta)"
   ]
  },
  {
   "cell_type": "markdown",
   "id": "002ef24a",
   "metadata": {},
   "source": [
    "The response of the system is then\n",
    "$$\\theta (s) = T_{\\theta} \\theta_d(s)$$\n",
    "Where $\\theta_d(s)=\\frac{1}{s}$ is a step change in the input. So the response of the system is"
   ]
  },
  {
   "cell_type": "markdown",
   "id": "9a1e6d0a",
   "metadata": {},
   "source": [
    "We can construct the partial fractions according to:\n",
    "$$T_{\\theta}(s)\\theta_d(s)=\\frac{K_{s 1}}{s+s_1}+\\frac{K_{s 2}}{s+s_2}+\\cdots+\\frac{K_{s n}}{s+s_n}$$\n",
    "First solve for the n poles "
   ]
  },
  {
   "cell_type": "code",
   "execution_count": 26,
   "id": "1bd24fb2",
   "metadata": {},
   "outputs": [
    {
     "data": {
      "text/latex": [
       "$-s_0=0.0$"
      ],
      "text/plain": [
       "<IPython.core.display.Latex object>"
      ]
     },
     "metadata": {},
     "output_type": "display_data"
    },
    {
     "data": {
      "text/latex": [
       "$-s_1=-5.0 - 77.2981241687015 i$"
      ],
      "text/plain": [
       "<IPython.core.display.Latex object>"
      ]
     },
     "metadata": {},
     "output_type": "display_data"
    },
    {
     "data": {
      "text/latex": [
       "$-s_2=-5.0 + 77.2981241687015 i$"
      ],
      "text/plain": [
       "<IPython.core.display.Latex object>"
      ]
     },
     "metadata": {},
     "output_type": "display_data"
    }
   ],
   "source": [
    "theta_d = 1/s\n",
    "theta_s = T_theta*theta_d\n",
    "p, q = theta_s.as_numer_denom()\n",
    "poles = sp.solve(q,s)\n",
    "for i, pole in enumerate(poles):\n",
    "    eq_disp(f'-s_{i}', pole)"
   ]
  },
  {
   "cell_type": "markdown",
   "id": "ea777f32",
   "metadata": {},
   "source": [
    "Now we find the numerators $K_{s_i}$"
   ]
  },
  {
   "cell_type": "code",
   "execution_count": 27,
   "id": "f1296f76",
   "metadata": {},
   "outputs": [
    {
     "data": {
      "text/latex": [
       "$\\theta(s)=\\frac{1.0}{s}$"
      ],
      "text/plain": [
       "<IPython.core.display.Latex object>"
      ]
     },
     "metadata": {},
     "output_type": "display_data"
    }
   ],
   "source": [
    "K_s = []\n",
    "for pole in poles:\n",
    "    K_s.append(sp.simplify(p/q*(s-pole)).subs(s, pole))\n",
    "\n",
    "p_fracs = [K_s[i]/(s-poles[i]) for i in range(len(K_s))]\n",
    "theta_s = sum(p_fracs)\n",
    "eq_disp('\\\\theta(s)',theta_s)"
   ]
  },
  {
   "cell_type": "markdown",
   "id": "480a3722",
   "metadata": {},
   "source": [
    "Transform to the time domain"
   ]
  },
  {
   "cell_type": "code",
   "execution_count": 28,
   "id": "1189003b",
   "metadata": {},
   "outputs": [
    {
     "data": {
      "text/latex": [
       "$\\theta_{t}(t)=1.0 \\theta\\left(t\\right)$"
      ],
      "text/plain": [
       "<IPython.core.display.Latex object>"
      ]
     },
     "metadata": {},
     "output_type": "display_data"
    }
   ],
   "source": [
    "theta_t = sp.inverse_laplace_transform(theta_s, s, t)\n",
    "eq_disp('\\\\theta_{t}(t)',theta_t)"
   ]
  },
  {
   "cell_type": "markdown",
   "id": "69f6398e",
   "metadata": {},
   "source": [
    "Where $\\theta(t)$ is the Heaviside function or unit step function"
   ]
  },
  {
   "cell_type": "markdown",
   "id": "e8c63d35",
   "metadata": {},
   "source": [
    "## b)"
   ]
  },
  {
   "cell_type": "markdown",
   "id": "e1a42d6b",
   "metadata": {},
   "source": [
    "Finding the system transfer function while $\\theta_d(s)=0$"
   ]
  },
  {
   "cell_type": "code",
   "execution_count": 33,
   "id": "8bc267f9",
   "metadata": {},
   "outputs": [
    {
     "data": {
      "text/latex": [
       "$T_{\\theta,d}=- \\frac{1}{s \\left(0.1 s + 1\\right) - 600.0}$"
      ],
      "text/plain": [
       "<IPython.core.display.Latex object>"
      ]
     },
     "metadata": {},
     "output_type": "display_data"
    }
   ],
   "source": [
    "T_theta_d = reduce_feedback(-G,Kf*K*Km/Rf)\n",
    "eq_disp('T_{\\\\theta,d}',T_theta_d)"
   ]
  },
  {
   "cell_type": "markdown",
   "id": "30edcbf8",
   "metadata": {},
   "source": [
    "If a load disturbance of $T_d(s)=A/s$ is added\n",
    "$$\\theta(s)=T_{\\theta,d}T_d(s)$$"
   ]
  },
  {
   "cell_type": "code",
   "execution_count": 34,
   "id": "56875f3c",
   "metadata": {},
   "outputs": [
    {
     "data": {
      "text/latex": [
       "$\\theta(s)=- \\frac{A}{s \\left(s \\left(0.1 s + 1\\right) - 600.0\\right)}$"
      ],
      "text/plain": [
       "<IPython.core.display.Latex object>"
      ]
     },
     "metadata": {},
     "output_type": "display_data"
    }
   ],
   "source": [
    "A = sp.symbols('A')\n",
    "Td = A/s\n",
    "theta_sd = T_theta_d*Td\n",
    "eq_disp('\\\\theta(s)',theta_sd)"
   ]
  },
  {
   "cell_type": "markdown",
   "id": "95067e9e",
   "metadata": {},
   "source": [
    "## c)"
   ]
  },
  {
   "cell_type": "markdown",
   "id": "fac1ba45",
   "metadata": {},
   "source": [
    "Assuming that $T_d(s)=0$ and the tracking error signal is\n",
    "$$E(s)=\\theta_d(s) - \\theta(s)=\\theta_d(s) - T_{\\theta}(s)\\theta_d(s)=\\theta_d(s)(1-T_{\\theta}(s))$$\n",
    "Where the input is\n",
    "$$\\theta_d(t)=t\\Leftrightarrow \\theta_d(s)=\\frac{1}{s^2}$$\n",
    "So the steady state error is\n",
    "\\begin{align*}\n",
    "e_{ss}&=\\lim_{s \\to 0}s \\theta_d(s)(1-T_{\\theta})=\\lim_{s \\to 0}s \\frac{1}{s^2}(1-T_{\\theta}) \\\\\n",
    "&=\\lim_{s \\to 0}\\frac{1}{s}(1-T_{\\theta})\n",
    "\\end{align*}"
   ]
  },
  {
   "cell_type": "code",
   "execution_count": 40,
   "id": "533c4d44",
   "metadata": {},
   "outputs": [
    {
     "data": {
      "text/latex": [
       "$e_{ss}=0.0017$"
      ],
      "text/plain": [
       "<IPython.core.display.Latex object>"
      ]
     },
     "metadata": {},
     "output_type": "display_data"
    }
   ],
   "source": [
    "e_ss = sp.limit(1/s*(1-T_theta), s, 0)\n",
    "\n",
    "# Function for displaying expressions with 2 decimals\n",
    "def eq_disp_4f(varstring, expr):\n",
    "    expr = round(expr,4)\n",
    "    display(Latex(f\"${varstring}={sp.latex(expr)}$\"))\n",
    "\n",
    "eq_disp_4f('e_{ss}', e_ss)"
   ]
  }
 ],
 "metadata": {
  "kernelspec": {
   "display_name": "Python 3 (ipykernel)",
   "language": "python",
   "name": "python3"
  },
  "language_info": {
   "codemirror_mode": {
    "name": "ipython",
    "version": 3
   },
   "file_extension": ".py",
   "mimetype": "text/x-python",
   "name": "python",
   "nbconvert_exporter": "python",
   "pygments_lexer": "ipython3",
   "version": "3.9.7"
  }
 },
 "nbformat": 4,
 "nbformat_minor": 5
}
