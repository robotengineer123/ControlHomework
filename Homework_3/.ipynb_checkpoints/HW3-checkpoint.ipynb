{
 "cells": [
  {
   "cell_type": "code",
   "execution_count": 23,
   "id": "c194f664-9ca4-45ba-bd10-b504439ac672",
   "metadata": {},
   "outputs": [],
   "source": [
    "import numpy as np\n",
    "import sympy as sp\n",
    "import matplotlib.pyplot as plt\n",
    "from IPython.display import display, Latex, Math"
   ]
  },
  {
   "cell_type": "markdown",
   "id": "e494df39-c883-4128-a9b1-e381174b029a",
   "metadata": {},
   "source": [
    "# E4.11"
   ]
  },
  {
   "cell_type": "markdown",
   "id": "a4b174cc-0a5f-4302-bfe9-94e4d791b7a8",
   "metadata": {},
   "source": [
    "## a)"
   ]
  },
  {
   "cell_type": "markdown",
   "id": "0abf16dd-898d-4300-b91a-b228d76c20d3",
   "metadata": {},
   "source": [
    "To find $T(s) = \\frac{Y(s)}{R(s)}$ we consider the system without the input disturbance.\n",
    "We can then reduce the blockdiagram by removing the feedback"
   ]
  },
  {
   "cell_type": "code",
   "execution_count": 24,
   "id": "d900b41e-bdf2-4ae9-85a9-ea31f575c425",
   "metadata": {},
   "outputs": [],
   "source": [
    "def eq_disp(varstring, expr):\n",
    "    display(Latex(f\"${varstring}={sp.latex(expr)}$\"))\n",
    "\n",
    "def reduce_feedback(G_fwd, G_bwd):\n",
    "    \"\"\"Assumes feedback is deducted from signal, if not\n",
    "    change sign of feedback\"\"\"\n",
    "    return sp.simplify(G_fwd/(1+G_fwd*G_bwd))\n",
    "K, t, s, R, Td, Y = sp.symbols('K, t, s, R, T_d, Y')\n",
    "G = K/(s+10)\n",
    "H = 14/(s**2 + 5*s + 6)"
   ]
  },
  {
   "cell_type": "code",
   "execution_count": 25,
   "id": "156dffcf-1d8d-472e-b009-bd9f1f40dc89",
   "metadata": {},
   "outputs": [
    {
     "data": {
      "text/latex": [
       "$T=\\frac{K \\left(s^{2} + 5 s + 6\\right)}{14 K + \\left(s + 10\\right) \\left(s^{2} + 5 s + 6\\right)}$"
      ],
      "text/plain": [
       "<IPython.core.display.Latex object>"
      ]
     },
     "metadata": {},
     "output_type": "display_data"
    }
   ],
   "source": [
    "T = reduce_feedback(G, H)\n",
    "eq_disp('T', T)"
   ]
  },
  {
   "cell_type": "markdown",
   "id": "bf69fbfd-cbba-46e3-8fe3-1d7e4c8ffad3",
   "metadata": {},
   "source": [
    "## b)"
   ]
  },
  {
   "cell_type": "markdown",
   "id": "e966cb02-8d1d-412e-aa65-59716da76444",
   "metadata": {},
   "source": [
    "We compute $Y(s)$ by\n",
    "$$Y(s) = TR(s)$$\n",
    "$E(s)$ can then be computed"
   ]
  },
  {
   "cell_type": "code",
   "execution_count": 26,
   "id": "9e042843-3806-4c59-8be0-30caed9ef5da",
   "metadata": {},
   "outputs": [
    {
     "data": {
      "text/latex": [
       "$E(s)=\\frac{- K \\left(s^{2} + 5 s + 6\\right) + 14 K + \\left(s + 10\\right) \\left(s^{2} + 5 s + 6\\right)}{s \\left(14 K + \\left(s + 10\\right) \\left(s^{2} + 5 s + 6\\right)\\right)}$"
      ],
      "text/plain": [
       "<IPython.core.display.Latex object>"
      ]
     },
     "metadata": {},
     "output_type": "display_data"
    }
   ],
   "source": [
    "step = 1/s\n",
    "Y = T*R\n",
    "E = sp.simplify(R - Y)\n",
    "E_step = sp.simplify(E.subs(R, step))\n",
    "eq_disp('E(s)', E_step)"
   ]
  },
  {
   "cell_type": "markdown",
   "id": "c68192b2-0dcb-4b84-a624-60437798be5b",
   "metadata": {},
   "source": [
    "To find the steady state error, we use the final value theorem:\n",
    "$$\\lim _{t \\rightarrow \\infty} e(t)=\\lim _{s \\rightarrow 0} s E(s)$$"
   ]
  },
  {
   "cell_type": "code",
   "execution_count": 27,
   "id": "c0ba23ba-bfae-4877-86d1-f57ea020d971",
   "metadata": {
    "tags": []
   },
   "outputs": [
    {
     "data": {
      "text/latex": [
       "$E(s=0)=\\frac{8 K + 60}{14 K + 60}$"
      ],
      "text/plain": [
       "<IPython.core.display.Latex object>"
      ]
     },
     "metadata": {},
     "output_type": "display_data"
    }
   ],
   "source": [
    "E_step_steady = sp.limit((s*E_step), s, 0)\n",
    "eq_disp('E(s=0)',E_step_steady)"
   ]
  },
  {
   "cell_type": "markdown",
   "id": "b7cc2e23-e03d-47d4-9f7b-683e1cc2ce44",
   "metadata": {},
   "source": [
    "We observe that the system is unstable since the error will increase to infinity at steady state"
   ]
  },
  {
   "cell_type": "markdown",
   "id": "13084700-4fb1-45f2-88b7-d57bfcc42951",
   "metadata": {},
   "source": [
    "## c)"
   ]
  },
  {
   "cell_type": "markdown",
   "id": "e4afc215-de03-4bae-86b3-bc956f6a1cf2",
   "metadata": {},
   "source": [
    "To calculate $\\frac{Y(s)}{T_d(s)}$ we consider the system without $R(s)$.  \n",
    "We can reduce the system by removing the feedback loop"
   ]
  },
  {
   "cell_type": "code",
   "execution_count": 28,
   "id": "2471f6ee-6290-49f3-abe2-d7469b649210",
   "metadata": {},
   "outputs": [
    {
     "data": {
      "text/latex": [
       "$T_2=\\frac{K \\left(s^{2} + 5 s + 6\\right)}{14 K + \\left(s + 10\\right) \\left(s^{2} + 5 s + 6\\right)}$"
      ],
      "text/plain": [
       "<IPython.core.display.Latex object>"
      ]
     },
     "metadata": {},
     "output_type": "display_data"
    }
   ],
   "source": [
    "T2 = reduce_feedback(1, H*G)\n",
    "eq_disp('T_2', T)"
   ]
  },
  {
   "cell_type": "markdown",
   "id": "6dd8717f-0059-453c-b652-51511ac87b31",
   "metadata": {},
   "source": [
    "We compute $Y(s)$ by\n",
    "$$Y(s) = TT_d(s)$$\n",
    "Now the $E(s)$ can be computed for a unit step disturbance, (we consider $R=0$)"
   ]
  },
  {
   "cell_type": "code",
   "execution_count": 29,
   "id": "1648a4ab-2fee-437c-85dd-150a05fc9ded",
   "metadata": {},
   "outputs": [
    {
     "data": {
      "text/latex": [
       "$E(s)=- \\frac{\\left(s + 10\\right) \\left(s^{2} + 5 s + 6\\right)}{s \\left(14 K + \\left(s + 10\\right) \\left(s^{2} + 5 s + 6\\right)\\right)}$"
      ],
      "text/plain": [
       "<IPython.core.display.Latex object>"
      ]
     },
     "metadata": {},
     "output_type": "display_data"
    }
   ],
   "source": [
    "step = 1/s\n",
    "Y = T2*Td\n",
    "E = - Y\n",
    "E_step = sp.simplify(E.subs(Td, step))\n",
    "eq_disp('E(s)', E_step)"
   ]
  },
  {
   "cell_type": "markdown",
   "id": "195954f7-c64c-484c-985a-d0ee6cf33e1a",
   "metadata": {},
   "source": [
    "To find the steady state error, we use the final value theorem:\n",
    "$$\\lim _{t \\rightarrow \\infty} e(t)=\\lim _{s \\rightarrow 0} s E(s)$$"
   ]
  },
  {
   "cell_type": "code",
   "execution_count": 30,
   "id": "f7d1dbff-f4cb-47bc-9d3b-bc18adefe542",
   "metadata": {
    "tags": []
   },
   "outputs": [
    {
     "data": {
      "text/latex": [
       "$E(s=0)=- \\frac{60}{14 K + 60}$"
      ],
      "text/plain": [
       "<IPython.core.display.Latex object>"
      ]
     },
     "metadata": {},
     "output_type": "display_data"
    }
   ],
   "source": [
    "E_step_steady2 = sp.limit((s*E_step),s,0)\n",
    "eq_disp('E(s=0)',E_step_steady2)"
   ]
  },
  {
   "cell_type": "markdown",
   "id": "5af3cf71-76ea-4a19-b0d5-9ebc63caf4f1",
   "metadata": {},
   "source": [
    "## d)"
   ]
  },
  {
   "cell_type": "markdown",
   "id": "f0e06669-b4c1-46cd-9ecb-9e34f1697818",
   "metadata": {},
   "source": [
    "The sensitivity is calculated by:\n",
    "$$S_K^T=\\frac{\\partial T}{\\partial K}\\frac{K}{T}$$\n",
    "If we define $K$ as the controller $G_c=K$, and the process as $G=\\frac{1}{s+10}$. Then the sensitivity is given by"
   ]
  },
  {
   "cell_type": "code",
   "execution_count": 31,
   "id": "d3001081-2653-4825-9441-eb07c6b771cb",
   "metadata": {},
   "outputs": [
    {
     "data": {
      "text/latex": [
       "$\\displaystyle \\frac{1}{G H K + 1}$"
      ],
      "text/plain": [
       "1/(G*H*K + 1)"
      ]
     },
     "execution_count": 31,
     "metadata": {},
     "output_type": "execute_result"
    }
   ],
   "source": [
    "G, H = sp.symbols('G, H')\n",
    "T = reduce_feedback(K*G,H)\n",
    "S_kt = sp.simplify(T.diff(K)*K/T)\n",
    "S_kt"
   ]
  },
  {
   "cell_type": "markdown",
   "id": "ed05fd6d-cbb0-4c76-985a-32b25207089a",
   "metadata": {},
   "source": [
    "# E4.15"
   ]
  },
  {
   "cell_type": "markdown",
   "id": "4d91272d-2bc0-4caa-9c64-7677964d13d2",
   "metadata": {},
   "source": [
    "## a)"
   ]
  },
  {
   "cell_type": "code",
   "execution_count": 32,
   "id": "cbc66db6-dece-46a8-9605-3ece75bc9b44",
   "metadata": {},
   "outputs": [],
   "source": [
    "K = 120\n",
    "K1 = 10\n",
    "G = 1/(s*(s+10))"
   ]
  },
  {
   "cell_type": "markdown",
   "id": "d7271513-0172-4968-a207-3aa0b29f8cc8",
   "metadata": {},
   "source": [
    "First we calculate $Y(s)$ by superposition of $R(s)$ and $T_d(s)$. Then the tracking error can be caluclated"
   ]
  },
  {
   "cell_type": "code",
   "execution_count": 33,
   "id": "3fb5867e-f377-4f68-9c4f-ad355422cc1c",
   "metadata": {},
   "outputs": [
    {
     "data": {
      "text/latex": [
       "$\\displaystyle R \\left(1 - \\frac{120}{s \\left(s + 10\\right) + 120}\\right) - \\frac{T_{d}}{s \\left(s + 10\\right) + 120}$"
      ],
      "text/plain": [
       "R*(1 - 120/(s*(s + 10) + 120)) - T_d/(s*(s + 10) + 120)"
      ]
     },
     "execution_count": 33,
     "metadata": {},
     "output_type": "execute_result"
    }
   ],
   "source": [
    "Y = (reduce_feedback(K*G, 1)*R +\n",
    "    reduce_feedback(G, K)*Td)\n",
    "E = sp.collect(R-Y, R)\n",
    "E"
   ]
  },
  {
   "cell_type": "markdown",
   "id": "fd9591b9-77df-4aca-af78-15429d374830",
   "metadata": {},
   "source": [
    "Then we use the final value theorem to define the steady state error of a step input ($T_d=0$)"
   ]
  },
  {
   "cell_type": "code",
   "execution_count": 34,
   "id": "138ff891-9d9d-4b68-90f6-e5642219ad32",
   "metadata": {},
   "outputs": [
    {
     "data": {
      "text/latex": [
       "$\\displaystyle \\frac{1}{12}$"
      ],
      "text/plain": [
       "1/12"
      ]
     },
     "execution_count": 34,
     "metadata": {},
     "output_type": "execute_result"
    }
   ],
   "source": [
    "step = 1/s\n",
    "E_step = (E*step).subs(((R, step), (Td, 0)))\n",
    "e_ss = sp.limit(s*E_step, s, 0)\n",
    "e_ss"
   ]
  },
  {
   "cell_type": "code",
   "execution_count": 42,
   "id": "ccbb5a04-8498-4f50-b54d-a39408f4f2cd",
   "metadata": {},
   "outputs": [
    {
     "data": {
      "text/latex": [
       "$\\displaystyle \\frac{120}{s \\left(s + 10\\right) + 120}$"
      ],
      "text/plain": [
       "120/(s*(s + 10) + 120)"
      ]
     },
     "execution_count": 42,
     "metadata": {},
     "output_type": "execute_result"
    }
   ],
   "source": [
    "reduce_feedback(K*G, 1)"
   ]
  },
  {
   "cell_type": "code",
   "execution_count": 40,
   "id": "74df13bc-ed22-4645-bb20-08e8ea3d5db9",
   "metadata": {},
   "outputs": [
    {
     "data": {
      "text/latex": [
       "$\\displaystyle \\frac{s + 10}{s \\left(s + 10\\right) + 120}$"
      ],
      "text/plain": [
       "(s + 10)/(s*(s + 10) + 120)"
      ]
     },
     "execution_count": 40,
     "metadata": {},
     "output_type": "execute_result"
    }
   ],
   "source": [
    "sp.simplify(s*E_step)"
   ]
  },
  {
   "cell_type": "markdown",
   "id": "2870026b-9cb8-4db8-aea4-913eaabfcc81",
   "metadata": {},
   "source": [
    "## b)"
   ]
  },
  {
   "cell_type": "markdown",
   "id": "595aae2f-d284-495e-9557-1def59e156b3",
   "metadata": {},
   "source": [
    "We use the final value theorem and then transform back to time domain"
   ]
  },
  {
   "cell_type": "code",
   "execution_count": 36,
   "id": "55efed9f-a088-4982-bea3-dc927ad78e8b",
   "metadata": {},
   "outputs": [
    {
     "data": {
      "text/latex": [
       "$y_{ss}(s)=\\frac{1}{120}$"
      ],
      "text/plain": [
       "<IPython.core.display.Latex object>"
      ]
     },
     "metadata": {},
     "output_type": "display_data"
    }
   ],
   "source": [
    "y_ss_s = sp.limit((s*Y).subs({Td: step, R: 0}), s, 0)\n",
    "eq_disp('y_{ss}(s)', y_ss_s)"
   ]
  },
  {
   "cell_type": "code",
   "execution_count": 37,
   "id": "cdeee099-475f-4f4a-ac14-3a35a5bfc9dd",
   "metadata": {},
   "outputs": [
    {
     "data": {
      "text/latex": [
       "$y_{ss}(t)=\\frac{\\delta\\left(t\\right)}{120}$"
      ],
      "text/plain": [
       "<IPython.core.display.Latex object>"
      ]
     },
     "metadata": {},
     "output_type": "display_data"
    }
   ],
   "source": [
    "y_ss_t = sp.inverse_laplace_transform(y_ss, s, t)\n",
    "eq_disp('y_{ss}(t)', y_ss_t)"
   ]
  },
  {
   "cell_type": "code",
   "execution_count": null,
   "id": "c3ccb1c5-a0b5-4d44-9cd5-b30b0bee3b90",
   "metadata": {},
   "outputs": [],
   "source": []
  },
  {
   "cell_type": "markdown",
   "id": "8b4092a9-a64a-45a5-9640-30efa526a83c",
   "metadata": {},
   "source": [
    "# P4.6"
   ]
  },
  {
   "cell_type": "markdown",
   "id": "635b8a29-404f-44d1-bc65-5088bc52bdef",
   "metadata": {},
   "source": [
    "# P4.17"
   ]
  }
 ],
 "metadata": {
  "kernelspec": {
   "display_name": "Python 3 (ipykernel)",
   "language": "python",
   "name": "python3"
  },
  "language_info": {
   "codemirror_mode": {
    "name": "ipython",
    "version": 3
   },
   "file_extension": ".py",
   "mimetype": "text/x-python",
   "name": "python",
   "nbconvert_exporter": "python",
   "pygments_lexer": "ipython3",
   "version": "3.9.12"
  }
 },
 "nbformat": 4,
 "nbformat_minor": 5
}
