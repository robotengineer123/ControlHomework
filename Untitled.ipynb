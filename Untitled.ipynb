{
 "cells": [
  {
   "cell_type": "code",
   "execution_count": 3,
   "id": "cd1c7851-fe48-4a04-a5e6-49bb6255c6af",
   "metadata": {},
   "outputs": [],
   "source": [
    "import sympy as sp"
   ]
  },
  {
   "cell_type": "code",
   "execution_count": 9,
   "id": "fe44c4ca-e896-41b8-a3ed-aa9a3a835350",
   "metadata": {},
   "outputs": [
    {
     "data": {
      "text/latex": [
       "$\\displaystyle \\frac{1}{G Gc + 1}$"
      ],
      "text/plain": [
       "1/(G*Gc + 1)"
      ]
     },
     "execution_count": 9,
     "metadata": {},
     "output_type": "execute_result"
    }
   ],
   "source": [
    "G, Gc = sp.symbols('G, Gc')\n",
    "sp.simplify((Gc*G/(1+Gc*G)).diff(G)*(G/(Gc*G/(Gc*G+1))))"
   ]
  },
  {
   "cell_type": "code",
   "execution_count": null,
   "id": "e4744ba9-d6bb-41e6-b688-f32a802fa868",
   "metadata": {},
   "outputs": [],
   "source": []
  }
 ],
 "metadata": {
  "kernelspec": {
   "display_name": "Python 3 (ipykernel)",
   "language": "python",
   "name": "python3"
  },
  "language_info": {
   "codemirror_mode": {
    "name": "ipython",
    "version": 3
   },
   "file_extension": ".py",
   "mimetype": "text/x-python",
   "name": "python",
   "nbconvert_exporter": "python",
   "pygments_lexer": "ipython3",
   "version": "3.9.12"
  }
 },
 "nbformat": 4,
 "nbformat_minor": 5
}
