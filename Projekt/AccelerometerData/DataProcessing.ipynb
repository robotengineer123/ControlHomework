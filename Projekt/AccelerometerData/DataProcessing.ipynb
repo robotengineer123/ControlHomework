{
 "cells": [
  {
   "cell_type": "code",
   "execution_count": 9,
   "id": "cd17963f",
   "metadata": {},
   "outputs": [],
   "source": [
    "import numpy as np\n",
    "\n",
    "data = np.loadtxt('AccX_AccY_yaw_theta2.txt', delimiter=',')"
   ]
  },
  {
   "cell_type": "code",
   "execution_count": 13,
   "id": "240686a6",
   "metadata": {},
   "outputs": [],
   "source": [
    "s_rate = 5000*10**(-6)\n",
    "t = np.linspace(0, len())\n",
    "AccX = data[:,0]\n",
    "AccY = data[:,1]\n",
    "yaw = data[:,1]"
   ]
  },
  {
   "cell_type": "code",
   "execution_count": 14,
   "id": "63b41b4f",
   "metadata": {},
   "outputs": [
    {
     "data": {
      "text/plain": [
       "array([0.64, 0.79, 0.77, ..., 0.62, 0.62, 0.63])"
      ]
     },
     "execution_count": 14,
     "metadata": {},
     "output_type": "execute_result"
    }
   ],
   "source": [
    "AccX"
   ]
  }
 ],
 "metadata": {
  "kernelspec": {
   "display_name": "Python 3 (ipykernel)",
   "language": "python",
   "name": "python3"
  },
  "language_info": {
   "codemirror_mode": {
    "name": "ipython",
    "version": 3
   },
   "file_extension": ".py",
   "mimetype": "text/x-python",
   "name": "python",
   "nbconvert_exporter": "python",
   "pygments_lexer": "ipython3",
   "version": "3.9.13"
  }
 },
 "nbformat": 4,
 "nbformat_minor": 5
}
