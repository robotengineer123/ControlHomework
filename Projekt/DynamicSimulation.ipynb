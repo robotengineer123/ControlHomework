{
 "cells": [
  {
   "cell_type": "code",
   "execution_count": null,
   "id": "94647742",
   "metadata": {},
   "outputs": [],
   "source": [
    "import sympy as sp\n",
    "import numpy as np\n",
    "import control as ct"
   ]
  },
  {
   "cell_type": "code",
   "execution_count": null,
   "id": "7cd38eb5",
   "metadata": {},
   "outputs": [],
   "source": [
    "m1 = 0.269\n",
    "m2 = 0.511\n",
    "L1 = 0.307\n",
    "L2 = 0.307\n",
    "J1 = 1/12*m1*L1**2\n",
    "J2 = 1/12*m2*L2**2\n",
    "c1 = 0.1\n",
    "c2 = 0.2\n",
    "g = 9.82\n",
    "\n",
    "# Transfer functions\n",
    "T1 = s*(16*J_1*J_2*s + 4*J_1*l_2**2*m2*s + 16*J_2*c_1 + 4*J_2*l_1**2*m1*s + 16*J_2*l_1**2*m2*s + 4*c_1*l_2**2*m2 + l_1**2*l_2**2*m1*m2*s)/(16*J_1*J_2 + 4*J_1*l_2**2*m2 + 4*J_2*l_1**2*m1 + 16*J_2*l_1**2*m2 + l_1**2*l_2**2*m1*m2)\n",
    "T2 = s*(16*J_1*J_2*s + 16*J_1*c_2 + 4*J_1*l_2**2*m2*s + 4*J_2*l_1**2*m1*s + 16*J_2*l_1**2*m2*s + 4*c_2*l_1**2*m1 + 16*c_2*l_1**2*m2 + l_1**2*l_2**2*m1*m2*s)/(16*J_1*J_2 + 4*J_1*l_2**2*m2 + 4*J_2*l_1**2*m1 + 16*J_2*l_1**2*m2 + l_1**2*l_2**2*m1*m2)"
   ]
  },
  {
   "cell_type": "code",
   "execution_count": null,
   "id": "0b1f46d1",
   "metadata": {},
   "outputs": [],
   "source": []
  }
 ],
 "metadata": {
  "kernelspec": {
   "display_name": "base",
   "language": "python",
   "name": "python3"
  },
  "language_info": {
   "codemirror_mode": {
    "name": "ipython",
    "version": 3
   },
   "file_extension": ".py",
   "mimetype": "text/x-python",
   "name": "python",
   "nbconvert_exporter": "python",
   "pygments_lexer": "ipython3",
   "version": "3.9.13 (main, Oct 13 2022, 16:12:30) \n[Clang 12.0.0 ]"
  },
  "vscode": {
   "interpreter": {
    "hash": "84a8602bdb9b4f69e2f6ca9064356805b29640933189c7b6ccec0eb0f6653369"
   }
  }
 },
 "nbformat": 4,
 "nbformat_minor": 5
}
