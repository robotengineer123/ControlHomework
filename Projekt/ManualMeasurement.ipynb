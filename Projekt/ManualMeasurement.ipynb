{
 "cells": [
  {
   "cell_type": "code",
   "execution_count": 29,
   "id": "0093fcbe",
   "metadata": {},
   "outputs": [],
   "source": [
    "import pandas as pd\n",
    "from time import time"
   ]
  },
  {
   "cell_type": "code",
   "execution_count": 102,
   "id": "58293edd",
   "metadata": {},
   "outputs": [],
   "source": [
    "# create an empty dataframe with a datetime column\n",
    "df = pd.DataFrame(columns=['timestamp [s]'])"
   ]
  },
  {
   "cell_type": "code",
   "execution_count": 108,
   "id": "f291a9a2",
   "metadata": {},
   "outputs": [
    {
     "data": {
      "text/html": [
       "<div>\n",
       "<style scoped>\n",
       "    .dataframe tbody tr th:only-of-type {\n",
       "        vertical-align: middle;\n",
       "    }\n",
       "\n",
       "    .dataframe tbody tr th {\n",
       "        vertical-align: top;\n",
       "    }\n",
       "\n",
       "    .dataframe thead th {\n",
       "        text-align: right;\n",
       "    }\n",
       "</style>\n",
       "<table border=\"1\" class=\"dataframe\">\n",
       "  <thead>\n",
       "    <tr style=\"text-align: right;\">\n",
       "      <th></th>\n",
       "      <th>timestamp [s]</th>\n",
       "      <th>torque [Nm]</th>\n",
       "      <th>weight [kg]</th>\n",
       "    </tr>\n",
       "  </thead>\n",
       "  <tbody>\n",
       "    <tr>\n",
       "      <th>0</th>\n",
       "      <td>1.671209e+09</td>\n",
       "      <td>0.5</td>\n",
       "      <td>0.939</td>\n",
       "    </tr>\n",
       "    <tr>\n",
       "      <th>1</th>\n",
       "      <td>1.671209e+09</td>\n",
       "      <td>0.5</td>\n",
       "      <td>0.939</td>\n",
       "    </tr>\n",
       "    <tr>\n",
       "      <th>2</th>\n",
       "      <td>1.671209e+09</td>\n",
       "      <td>0.5</td>\n",
       "      <td>0.939</td>\n",
       "    </tr>\n",
       "    <tr>\n",
       "      <th>3</th>\n",
       "      <td>1.671209e+09</td>\n",
       "      <td>0.5</td>\n",
       "      <td>0.939</td>\n",
       "    </tr>\n",
       "    <tr>\n",
       "      <th>4</th>\n",
       "      <td>1.671209e+09</td>\n",
       "      <td>0.5</td>\n",
       "      <td>0.939</td>\n",
       "    </tr>\n",
       "    <tr>\n",
       "      <th>5</th>\n",
       "      <td>1.671209e+09</td>\n",
       "      <td>0.5</td>\n",
       "      <td>0.939</td>\n",
       "    </tr>\n",
       "  </tbody>\n",
       "</table>\n",
       "</div>"
      ],
      "text/plain": [
       "   timestamp [s]  torque [Nm]  weight [kg]\n",
       "0   1.671209e+09          0.5        0.939\n",
       "1   1.671209e+09          0.5        0.939\n",
       "2   1.671209e+09          0.5        0.939\n",
       "3   1.671209e+09          0.5        0.939\n",
       "4   1.671209e+09          0.5        0.939\n",
       "5   1.671209e+09          0.5        0.939"
      ]
     },
     "execution_count": 108,
     "metadata": {},
     "output_type": "execute_result"
    }
   ],
   "source": [
    "# get the current timestamp\n",
    "timestamp = time()\n",
    "\n",
    "# Conversion factor from the input given to the torque\n",
    "input_to_torque = 40\n",
    "\n",
    "# Enter data here (weight) [kg]\n",
    "input_torque = 20\n",
    "weight = 0.939\n",
    "torque = input_torque/input_to_torque\n",
    "\n",
    "\n",
    "# create a new row with the input data and timestamp\n",
    "new_row = {'timestamp [s]': timestamp, 'torque [Nm]': torque, 'weight [kg]': weight}\n",
    "\n",
    "# append the new row to the dataframe\n",
    "df = df.append(new_row, ignore_index=True)\n",
    "\n",
    "df"
   ]
  },
  {
   "cell_type": "code",
   "execution_count": 109,
   "id": "e0336a64",
   "metadata": {},
   "outputs": [],
   "source": [
    "first_value = df.iloc[0, df.columns.get_loc('timestamp [s]')]\n",
    "\n",
    "# subtract the number 3 from each value in the column\n",
    "df['timestamp [s]'] = df['timestamp [s]'].apply(lambda x: x - first_value)\n",
    "                                                \n",
    "# Write csv\n",
    "df.to_csv(\"weight_measurement2.csv\")"
   ]
  }
 ],
 "metadata": {
  "kernelspec": {
   "display_name": "Python 3 (ipykernel)",
   "language": "python",
   "name": "python3"
  },
  "language_info": {
   "codemirror_mode": {
    "name": "ipython",
    "version": 3
   },
   "file_extension": ".py",
   "mimetype": "text/x-python",
   "name": "python",
   "nbconvert_exporter": "python",
   "pygments_lexer": "ipython3",
   "version": "3.9.13"
  }
 },
 "nbformat": 4,
 "nbformat_minor": 5
}
