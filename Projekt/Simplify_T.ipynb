{
 "cells": [
  {
   "cell_type": "code",
   "execution_count": 10,
   "id": "eec60e57",
   "metadata": {},
   "outputs": [],
   "source": [
    "import sympy as sp\n",
    "from IPython.display import display, Latex, Math, Image"
   ]
  },
  {
   "cell_type": "code",
   "execution_count": 2,
   "id": "db2a977d",
   "metadata": {},
   "outputs": [],
   "source": [
    "Kp1, G1, Kd1, s, e, T = sp.symbols('K_p1, G_1, K_d1, s, e, T')"
   ]
  },
  {
   "cell_type": "markdown",
   "id": "a745a26b",
   "metadata": {},
   "source": [
    "# Closed loop transfer functions"
   ]
  },
  {
   "cell_type": "code",
   "execution_count": 8,
   "id": "b3ac5029",
   "metadata": {},
   "outputs": [
    {
     "data": {
      "text/latex": [
       "$\\displaystyle \\frac{G_{1} K_{p1}}{\\left(G_{1} K_{d1} e^{- T s} s + 1\\right) \\left(\\frac{G_{1} K_{p1} e^{- T s}}{G_{1} K_{d1} e^{- T s} s + 1} + 1\\right)}$"
      ],
      "text/plain": [
       "G_1*K_p1/((G_1*K_d1*s/e**(T*s) + 1)*(G_1*K_p1/(e**(T*s)*(G_1*K_d1*s/e**(T*s) + 1)) + 1))"
      ]
     },
     "execution_count": 8,
     "metadata": {},
     "output_type": "execute_result"
    }
   ],
   "source": [
    "((Kp1*G1)/(1+G1*Kd1*s*e**(-s*T)))/(1+(Kp1*G1)/(1+G1*Kd1*s*e**(-s*T))*e**(-s*T))"
   ]
  },
  {
   "cell_type": "code",
   "execution_count": 17,
   "id": "d3f6b946",
   "metadata": {},
   "outputs": [
    {
     "name": "stdout",
     "output_type": "stream",
     "text": [
      "\\frac{G_{1} K_{p1} e^{T s}}{G_{1} K_{d1} s + G_{1} K_{p1} + e^{T s}}\n"
     ]
    }
   ],
   "source": [
    "print(sp.latex(sp.simplify(((Kp1*G1)/(1+G1*Kd1*s*e**(-s*T)))/(1+(Kp1*G1)/(1+G1*Kd1*s*e**(-s*T))*e**(-s*T)))))"
   ]
  },
  {
   "cell_type": "markdown",
   "id": "77bdd199",
   "metadata": {},
   "source": [
    "# Loop function"
   ]
  },
  {
   "cell_type": "code",
   "execution_count": 15,
   "id": "104e924a",
   "metadata": {},
   "outputs": [
    {
     "data": {
      "text/latex": [
       "$\\displaystyle \\frac{G_{1} K_{p1} e^{- T s}}{G_{1} K_{d1} e^{- T s} s + 1}$"
      ],
      "text/plain": [
       "G_1*K_p1/(e**(T*s)*(G_1*K_d1*s/e**(T*s) + 1))"
      ]
     },
     "execution_count": 15,
     "metadata": {},
     "output_type": "execute_result"
    }
   ],
   "source": [
    "Kp1*G1/(1+G1*Kd1*s*e**(-s*T))*e**(-s*T)"
   ]
  },
  {
   "cell_type": "code",
   "execution_count": 18,
   "id": "75eec340",
   "metadata": {},
   "outputs": [
    {
     "name": "stdout",
     "output_type": "stream",
     "text": [
      "\\frac{G_{1} K_{p1} e^{- T s}}{G_{1} K_{d1} e^{- T s} s + 1}\n"
     ]
    }
   ],
   "source": [
    "print(sp.latex(Kp1*G1/(1+G1*Kd1*s*e**(-s*T))*e**(-s*T)))"
   ]
  }
 ],
 "metadata": {
  "kernelspec": {
   "display_name": "Python 3 (ipykernel)",
   "language": "python",
   "name": "python3"
  },
  "language_info": {
   "codemirror_mode": {
    "name": "ipython",
    "version": 3
   },
   "file_extension": ".py",
   "mimetype": "text/x-python",
   "name": "python",
   "nbconvert_exporter": "python",
   "pygments_lexer": "ipython3",
   "version": "3.9.13"
  }
 },
 "nbformat": 4,
 "nbformat_minor": 5
}
