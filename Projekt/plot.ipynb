{
 "cells": [
  {
   "cell_type": "markdown",
   "metadata": {
    "toc": true
   },
   "source": [
    "<h1>Table of Contents<span class=\"tocSkip\"></span></h1>\n",
    "<div class=\"toc\"><ul class=\"toc-item\"><li><span><a href=\"#Plot-experiment-response\" data-toc-modified-id=\"Plot-experiment-response-1\"><span class=\"toc-item-num\">1&nbsp;&nbsp;</span>Plot experiment response</a></span></li></ul></div>"
   ]
  },
  {
   "cell_type": "markdown",
   "metadata": {},
   "source": [
    "# Plot experiment response"
   ]
  },
  {
   "cell_type": "code",
   "execution_count": 66,
   "metadata": {},
   "outputs": [],
   "source": [
    "import numpy as np\n",
    "import matplotlib.pyplot as plt"
   ]
  },
  {
   "cell_type": "code",
   "execution_count": 67,
   "metadata": {},
   "outputs": [
    {
     "name": "stderr",
     "output_type": "stream",
     "text": [
      "C:\\Users\\osteb\\AppData\\Local\\Temp\\ipykernel_30744\\2943878679.py:2: UserWarning: loadtxt: Empty input file: \"position_data_06\"\n",
      "  M06 = np.loadtxt(\"position_data_06\")\n"
     ]
    }
   ],
   "source": [
    "M05 = np.loadtxt(\"position_data_05\")\n",
    "M06 = np.loadtxt(\"position_data_06\")"
   ]
  },
  {
   "cell_type": "code",
   "execution_count": 68,
   "metadata": {},
   "outputs": [
    {
     "ename": "IndexError",
     "evalue": "index 0 is out of bounds for axis 0 with size 0",
     "output_type": "error",
     "traceback": [
      "\u001b[1;31m---------------------------------------------------------------------------\u001b[0m",
      "\u001b[1;31mIndexError\u001b[0m                                Traceback (most recent call last)",
      "\u001b[1;32mc:\\Users\\osteb\\OneDrive - Aarhus universitet\\Kandidat\\10 semester\\Control and sensor tech\\Homeworks\\Projekt\\plot.ipynb Cell 3\u001b[0m in \u001b[0;36m<cell line: 8>\u001b[1;34m()\u001b[0m\n\u001b[0;32m      <a href='vscode-notebook-cell:/c%3A/Users/osteb/OneDrive%20-%20Aarhus%20universitet/Kandidat/10%20semester/Control%20and%20sensor%20tech/Homeworks/Projekt/plot.ipynb#W2sZmlsZQ%3D%3D?line=5'>6</a>\u001b[0m ax2\u001b[39m.\u001b[39mset_ylabel(\u001b[39mr\u001b[39m\u001b[39m\"\u001b[39m\u001b[39m$\u001b[39m\u001b[39m\\\u001b[39m\u001b[39mtheta_2[deg]$\u001b[39m\u001b[39m\"\u001b[39m)\n\u001b[0;32m      <a href='vscode-notebook-cell:/c%3A/Users/osteb/OneDrive%20-%20Aarhus%20universitet/Kandidat/10%20semester/Control%20and%20sensor%20tech/Homeworks/Projekt/plot.ipynb#W2sZmlsZQ%3D%3D?line=6'>7</a>\u001b[0m ax1\u001b[39m.\u001b[39mplot(M05[\u001b[39m0\u001b[39m], M05[\u001b[39m1\u001b[39m])\n\u001b[1;32m----> <a href='vscode-notebook-cell:/c%3A/Users/osteb/OneDrive%20-%20Aarhus%20universitet/Kandidat/10%20semester/Control%20and%20sensor%20tech/Homeworks/Projekt/plot.ipynb#W2sZmlsZQ%3D%3D?line=7'>8</a>\u001b[0m ax2\u001b[39m.\u001b[39mplot(M06[\u001b[39m0\u001b[39;49m], \u001b[39m-\u001b[39mM06[\u001b[39m1\u001b[39m])\n",
      "\u001b[1;31mIndexError\u001b[0m: index 0 is out of bounds for axis 0 with size 0"
     ]
    },
    {
     "data": {
      "image/png": "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",
      "text/plain": [
       "<Figure size 640x480 with 2 Axes>"
      ]
     },
     "metadata": {},
     "output_type": "display_data"
    }
   ],
   "source": [
    "fig, (ax1, ax2) = plt.subplots(2, sharex=True)\n",
    "fig.suptitle(\"Sytem step response\")\n",
    "ax1.set_title(\"Link 1\")\n",
    "ax2.set_title(\"Link 2\")\n",
    "ax1.set_ylabel(r\"$\\theta_1[deg]$\")\n",
    "ax2.set_ylabel(r\"$\\theta_2[deg]$\")\n",
    "ax1.plot(M05[0], M05[1])\n",
    "ax2.plot(M06[0], -M06[1])"
   ]
  },
  {
   "cell_type": "code",
   "execution_count": null,
   "metadata": {},
   "outputs": [],
   "source": [
    "motor_360_val = 35999\n",
    "angles = np.loadtxt(\"Angles_diff.csv\", delimiter=\",\").T\n"
   ]
  },
  {
   "cell_type": "code",
   "execution_count": null,
   "metadata": {},
   "outputs": [],
   "source": [
    "motor_360_val = 35999\n",
    "angles = np.loadtxt(\"Angles.csv\", delimiter=\",\").T"
   ]
  },
  {
   "cell_type": "code",
   "execution_count": null,
   "metadata": {},
   "outputs": [
    {
     "data": {
      "text/plain": [
       "array([ -9365.2, -13679. ,  -8871.8,  -3843.4,  -7245.1,  -9365.2])"
      ]
     },
     "execution_count": 7,
     "metadata": {},
     "output_type": "execute_result"
    }
   ],
   "source": [
    "angles[0]*100"
   ]
  },
  {
   "cell_type": "code",
   "execution_count": null,
   "metadata": {},
   "outputs": [
    {
     "data": {
      "text/plain": [
       "array([ -9365.2, -13679. ,  -8871.8,  -3843.4,  -7245.1,  -9365.2])"
      ]
     },
     "execution_count": 8,
     "metadata": {},
     "output_type": "execute_result"
    }
   ],
   "source": [
    "angles[0]*100"
   ]
  },
  {
   "cell_type": "code",
   "execution_count": null,
   "metadata": {},
   "outputs": [
    {
     "data": {
      "text/plain": [
       "299.0482"
      ]
     },
     "execution_count": 9,
     "metadata": {},
     "output_type": "execute_result"
    }
   ],
   "source": [
    "np.sum(angles[1])"
   ]
  },
  {
   "cell_type": "code",
   "execution_count": null,
   "metadata": {},
   "outputs": [],
   "source": [
    "angles = np.loadtxt(\"Angles.csv\", delimiter=\",\").T"
   ]
  }
 ],
 "metadata": {
  "kernelspec": {
   "display_name": "Python 3 (ipykernel)",
   "language": "python",
   "name": "python3"
  },
  "language_info": {
   "codemirror_mode": {
    "name": "ipython",
    "version": 3
   },
   "file_extension": ".py",
   "mimetype": "text/x-python",
   "name": "python",
   "nbconvert_exporter": "python",
   "pygments_lexer": "ipython3",
<<<<<<< HEAD
   "version": "3.9.12 (main, Apr  4 2022, 05:22:27) [MSC v.1916 64 bit (AMD64)]"
=======
   "version": "3.9.13"
  },
  "toc": {
   "base_numbering": 1,
   "nav_menu": {},
   "number_sections": true,
   "sideBar": true,
   "skip_h1_title": false,
   "title_cell": "Table of Contents",
   "title_sidebar": "Contents",
   "toc_cell": true,
   "toc_position": {},
   "toc_section_display": true,
   "toc_window_display": true
>>>>>>> 87c20b0695f067858b4c65fec0d6626fac7568e6
  },
  "vscode": {
   "interpreter": {
    "hash": "26e04c728766cb3a286926c7774992480ad79a49d3b860a30eec8d895b8ee1d8"
   }
  }
 },
 "nbformat": 4,
 "nbformat_minor": 2
}
