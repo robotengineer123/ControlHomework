{
 "cells": [
  {
   "cell_type": "code",
   "execution_count": 1,
   "metadata": {},
   "outputs": [],
   "source": [
    "import control as ct"
   ]
  },
  {
   "cell_type": "code",
   "execution_count": 70,
   "metadata": {},
   "outputs": [
    {
     "data": {
      "text/plain": [
       "0.8333333333333333"
      ]
     },
     "execution_count": 70,
     "metadata": {},
     "output_type": "execute_result"
    }
   ],
   "source": [
    "s = ct.tf('s')\n",
    "C = s+1\n",
    "E = 2/(s*(s+4))\n",
    "H = 3/(s**2 + 2*s +5)/0.5\n",
    "T = ct.feedback(E*C, H)\n",
    "T.dcgain()"
   ]
  },
  {
   "cell_type": "code",
   "execution_count": 51,
   "metadata": {},
   "outputs": [
    {
     "data": {
      "text/plain": [
       "{'RiseTime': 7.693588501312063,\n",
       " 'SettlingTime': 13.944629158628114,\n",
       " 'SettlingMin': 0.9003581234505357,\n",
       " 'SettlingMax': 1.0,\n",
       " 'Overshoot': 0,\n",
       " 'Undershoot': 0,\n",
       " 'Peak': 0.9992412485856494,\n",
       " 'PeakTime': 26.478767092015683,\n",
       " 'SteadyStateValue': 1.0}"
      ]
     },
     "execution_count": 51,
     "metadata": {},
     "output_type": "execute_result"
    }
   ],
   "source": [
    "ct.step_info(T)"
   ]
  }
 ],
 "metadata": {
  "kernelspec": {
   "display_name": "main",
   "language": "python",
   "name": "python3"
  },
  "language_info": {
   "codemirror_mode": {
    "name": "ipython",
    "version": 3
   },
   "file_extension": ".py",
   "mimetype": "text/x-python",
   "name": "python",
   "nbconvert_exporter": "python",
   "pygments_lexer": "ipython3",
   "version": "3.9.12 (main, Apr  4 2022, 05:22:27) [MSC v.1916 64 bit (AMD64)]"
  },
  "orig_nbformat": 4,
  "vscode": {
   "interpreter": {
    "hash": "189c722359e8ae24941e7529d2e8e4a55dd6824955770f169083d5c2e0c1346f"
   }
  }
 },
 "nbformat": 4,
 "nbformat_minor": 2
}
