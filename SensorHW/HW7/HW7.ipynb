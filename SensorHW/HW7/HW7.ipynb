{
 "cells": [
  {
   "cell_type": "markdown",
   "id": "9d6cea67",
   "metadata": {},
   "source": [
    "**Group number**  \n",
    "3\n",
    "\n",
    "**Group members**  \n",
    "Alexander Stoustrup  \n",
    "Mathias Tyranski  \n",
    "Benjamin Simonsen"
   ]
  },
  {
   "cell_type": "code",
   "execution_count": 1,
   "id": "a7a72f99",
   "metadata": {},
   "outputs": [],
   "source": [
    "import numpy as np\n",
    "from scipy.optimize import minimize\n",
    "import scipy.signal as si\n",
    "import sympy as sp\n",
    "import control as ct\n",
    "from typing import List\n",
    "from sympy.plotting import plot\n",
    "import matplotlib.pyplot as plt\n",
    "from IPython.display import display, Latex, Math, Image\n",
    "%matplotlib inline\n",
    "\n",
    "def eq_disp(varstring, expr, unit=\"\"):\n",
    "    display(Latex(f\"${varstring}={sp.latex(expr)} \\: {unit}$\"))\n",
    "    \n",
    "def reduce_feedback(G_fwd, G_bwd):\n",
    "    \"\"\"Assumes feedback is deducted from signal, if not\n",
    "    change sign of feedback\"\"\"\n",
    "    return sp.simplify(G_fwd/(1+G_fwd*G_bwd))"
   ]
  }
 ],
 "metadata": {
  "kernelspec": {
   "display_name": "Python 3 (ipykernel)",
   "language": "python",
   "name": "python3"
  },
  "language_info": {
   "codemirror_mode": {
    "name": "ipython",
    "version": 3
   },
   "file_extension": ".py",
   "mimetype": "text/x-python",
   "name": "python",
   "nbconvert_exporter": "python",
   "pygments_lexer": "ipython3",
   "version": "3.9.13"
  }
 },
 "nbformat": 4,
 "nbformat_minor": 5
}
