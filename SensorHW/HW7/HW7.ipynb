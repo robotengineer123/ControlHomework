{
 "cells": [
  {
   "cell_type": "markdown",
   "id": "9d6cea67",
   "metadata": {},
   "source": [
    "**Group number**  \n",
    "3\n",
    "\n",
    "**Group members**  \n",
    "Alexander Stoustrup  \n",
    "Mathias Tyranski  \n",
    "Benjamin Simonsen"
   ]
  },
  {
   "cell_type": "code",
   "execution_count": 1,
   "id": "a7a72f99",
   "metadata": {},
   "outputs": [],
   "source": [
    "import numpy as np\n",
    "from scipy.optimize import minimize\n",
    "import scipy.signal as si\n",
    "import sympy as sp\n",
    "import control as ct\n",
    "from typing import List\n",
    "from sympy.plotting import plot\n",
    "import matplotlib.pyplot as plt\n",
    "from IPython.display import display, Latex, Math, Image\n",
    "%matplotlib inline\n",
    "\n",
    "def eq_disp(varstring, expr, unit=\"\"):\n",
    "    display(Latex(f\"${varstring}={sp.latex(expr)} \\: {unit}$\"))\n",
    "    \n",
    "def reduce_feedback(G_fwd, G_bwd):\n",
    "    \"\"\"Assumes feedback is deducted from signal, if not\n",
    "    change sign of feedback\"\"\"\n",
    "    return sp.simplify(G_fwd/(1+G_fwd*G_bwd))"
   ]
  },
  {
   "cell_type": "markdown",
   "id": "fd647e2f",
   "metadata": {},
   "source": [
    "## Problem 1"
   ]
  },
  {
   "cell_type": "code",
   "execution_count": 2,
   "id": "61cbc696",
   "metadata": {},
   "outputs": [
    {
     "data": {
      "text/latex": [
       "$V_o=- \\frac{0.25 F P V_{i} X h}{E I} \\: $"
      ],
      "text/plain": [
       "<IPython.core.display.Latex object>"
      ]
     },
     "metadata": {},
     "output_type": "display_data"
    }
   ],
   "source": [
    "P, L, h, E, I, X, Vi, F=sp.symbols('P, L, h, E, I, X, V_i, F')\n",
    "eps1 = P*(L+X)*h/(2*E*I)\n",
    "eps2 = P*L*h/(2*E*I)\n",
    "eps3 = P*(L+X)*-h/(2*E*I)\n",
    "eps4 = P*L*-h/(2*E*I)\n",
    "\n",
    "Vo = (1/4*F*(eps3-eps4+eps2-eps1)*Vi).simplify()\n",
    "eq_disp(\"V_o\", Vo)"
   ]
  },
  {
   "cell_type": "markdown",
   "id": "32ba0bb5",
   "metadata": {},
   "source": [
    "L doesnt have an influence on the measured strain. This setup measures strain at the clamp as if P was applied at distance X instead of L. the advantage of the system is that it doesnt matter where the load is applied - (the value of L doesnt matter)"
   ]
  },
  {
   "cell_type": "markdown",
   "id": "70726279",
   "metadata": {},
   "source": [
    "## Problem 2"
   ]
  },
  {
   "cell_type": "code",
   "execution_count": 3,
   "id": "ea3e67a0",
   "metadata": {},
   "outputs": [],
   "source": [
    "d = 0.25\n",
    "A = d**2/4*np.pi\n",
    "R = 120\n",
    "dR = 0.01\n",
    "F = 500 \n",
    "E = 30*10**6 "
   ]
  },
  {
   "cell_type": "markdown",
   "id": "f108c51d",
   "metadata": {},
   "source": [
    "We can calulate the axial stress. The stress is proportional to the strain through the youngs modulus so we can find strain"
   ]
  },
  {
   "cell_type": "code",
   "execution_count": 4,
   "id": "a4fdea62",
   "metadata": {},
   "outputs": [],
   "source": [
    "sigma = F/A\n",
    "axial_strain = sigma/E"
   ]
  },
  {
   "cell_type": "markdown",
   "id": "1196d259",
   "metadata": {},
   "source": [
    "Now by the definition of the Gauge factor we calculate it"
   ]
  },
  {
   "cell_type": "code",
   "execution_count": 16,
   "id": "6796a67a",
   "metadata": {},
   "outputs": [
    {
     "data": {
      "text/latex": [
       "$GF=0.0445110441696305 \\: $"
      ],
      "text/plain": [
       "<IPython.core.display.Latex object>"
      ]
     },
     "metadata": {},
     "output_type": "display_data"
    }
   ],
   "source": [
    "GF = dR/R/axial_strain\n",
    "eq_disp(\"GF\", GF)"
   ]
  },
  {
   "cell_type": "markdown",
   "id": "27756c44",
   "metadata": {},
   "source": [
    "## Problem 3"
   ]
  },
  {
   "cell_type": "code",
   "execution_count": 6,
   "id": "fba9a3b4",
   "metadata": {},
   "outputs": [],
   "source": [
    "E = 200\n",
    "d = 10\n",
    "F = 50\n",
    "A = d**2/4*np.pi\n",
    "GF = 2.115\n",
    "R = 120"
   ]
  },
  {
   "cell_type": "markdown",
   "id": "ff621184",
   "metadata": {},
   "source": [
    "Stress in the bar is:"
   ]
  },
  {
   "cell_type": "code",
   "execution_count": 7,
   "id": "7c14f982",
   "metadata": {},
   "outputs": [
    {
     "data": {
      "text/latex": [
       "$\\sigma=0.63662 \\: GPa$"
      ],
      "text/plain": [
       "<IPython.core.display.Latex object>"
      ]
     },
     "metadata": {},
     "output_type": "display_data"
    }
   ],
   "source": [
    "sigma = F/A\n",
    "eq_disp('\\sigma',round(sigma,5), \"GPa\")"
   ]
  },
  {
   "cell_type": "markdown",
   "id": "7d3cdb47",
   "metadata": {},
   "source": [
    "Strain is:"
   ]
  },
  {
   "cell_type": "code",
   "execution_count": 8,
   "id": "e6ee599d",
   "metadata": {},
   "outputs": [],
   "source": [
    "strain = sigma/E"
   ]
  },
  {
   "cell_type": "markdown",
   "id": "37a99524",
   "metadata": {},
   "source": [
    "From the definition of gauge factor we find $\\Delta R$"
   ]
  },
  {
   "cell_type": "code",
   "execution_count": 9,
   "id": "82c16639",
   "metadata": {},
   "outputs": [
    {
     "data": {
      "text/latex": [
       "$\\Delta R=0.80787 \\: $"
      ],
      "text/plain": [
       "<IPython.core.display.Latex object>"
      ]
     },
     "metadata": {},
     "output_type": "display_data"
    }
   ],
   "source": [
    "dR = GF*strain*R\n",
    "eq_disp(\"\\Delta R\", round(dR,5))"
   ]
  },
  {
   "cell_type": "markdown",
   "id": "61951b9f",
   "metadata": {},
   "source": [
    "For a One-Gauge bridge measurement the ouput voltage is"
   ]
  },
  {
   "cell_type": "code",
   "execution_count": 10,
   "id": "b19c3272",
   "metadata": {},
   "outputs": [
    {
     "data": {
      "text/latex": [
       "$V_{out}=0.0016831 V_{i} \\: $"
      ],
      "text/plain": [
       "<IPython.core.display.Latex object>"
      ]
     },
     "metadata": {},
     "output_type": "display_data"
    }
   ],
   "source": [
    "Vo = 1/4*dR/R*Vi\n",
    "eq_disp(\"V_{out}\",sp.N(Vo,5))"
   ]
  },
  {
   "cell_type": "markdown",
   "id": "70564493",
   "metadata": {},
   "source": [
    "## Problem 4"
   ]
  },
  {
   "cell_type": "code",
   "execution_count": 11,
   "id": "b4260b41",
   "metadata": {},
   "outputs": [],
   "source": [
    "GF = 3\n",
    "R = 1000\n",
    "L = 100  #mm\n",
    "t = 20  #mm\n",
    "w = 40  #mm\n",
    "A = t*w\n",
    "E = 73.1"
   ]
  },
  {
   "cell_type": "markdown",
   "id": "019f1072",
   "metadata": {},
   "source": [
    "### 1)"
   ]
  },
  {
   "cell_type": "code",
   "execution_count": 12,
   "id": "5e552dc0",
   "metadata": {},
   "outputs": [],
   "source": [
    "F = 1*9.82/1000 #kN\n",
    "I = w*t**3/12"
   ]
  },
  {
   "cell_type": "markdown",
   "id": "8786e8b1",
   "metadata": {},
   "source": [
    "Assuming the strain gauge is mounted at the fixed end and assuming the load is applied as a transverse load the strain will be "
   ]
  },
  {
   "cell_type": "code",
   "execution_count": 13,
   "id": "cf10311d",
   "metadata": {},
   "outputs": [],
   "source": [
    "strain = F*(L)*t/(2*E*I)"
   ]
  },
  {
   "cell_type": "markdown",
   "id": "b33a3020",
   "metadata": {},
   "source": [
    "The additional resistance can now be calculated from the gauge factor"
   ]
  },
  {
   "cell_type": "code",
   "execution_count": 14,
   "id": "1c2a5bb1",
   "metadata": {},
   "outputs": [
    {
     "data": {
      "text/latex": [
       "$R=1000.01511 \\: $"
      ],
      "text/plain": [
       "<IPython.core.display.Latex object>"
      ]
     },
     "metadata": {},
     "output_type": "display_data"
    }
   ],
   "source": [
    "dR = GF*strain*R\n",
    "eq_disp(\"R\", round(dR+R,5))"
   ]
  },
  {
   "cell_type": "markdown",
   "id": "8ea2f853",
   "metadata": {},
   "source": [
    "### 2)"
   ]
  },
  {
   "cell_type": "markdown",
   "id": "3bdb6195",
   "metadata": {},
   "source": [
    "The voltage between the terminals is calculated from the strain"
   ]
  },
  {
   "cell_type": "code",
   "execution_count": 15,
   "id": "7cf65e74",
   "metadata": {},
   "outputs": [
    {
     "data": {
      "text/latex": [
       "$V_{out}=1.88911 \\cdot 10^{-5} \\: V$"
      ],
      "text/plain": [
       "<IPython.core.display.Latex object>"
      ]
     },
     "metadata": {},
     "output_type": "display_data"
    }
   ],
   "source": [
    "Vin = 5\n",
    "Vout = 1/4*GF*strain*Vin\n",
    "eq_disp(\"V_{out}\", round(Vout,10), \"V\")"
   ]
  }
 ],
 "metadata": {
  "kernelspec": {
   "display_name": "Python 3 (ipykernel)",
   "language": "python",
   "name": "python3"
  },
  "language_info": {
   "codemirror_mode": {
    "name": "ipython",
    "version": 3
   },
   "file_extension": ".py",
   "mimetype": "text/x-python",
   "name": "python",
   "nbconvert_exporter": "python",
   "pygments_lexer": "ipython3",
   "version": "3.9.12 (main, Apr  4 2022, 05:22:27) [MSC v.1916 64 bit (AMD64)]"
  },
  "vscode": {
   "interpreter": {
    "hash": "189c722359e8ae24941e7529d2e8e4a55dd6824955770f169083d5c2e0c1346f"
   }
  }
 },
 "nbformat": 4,
 "nbformat_minor": 5
}
