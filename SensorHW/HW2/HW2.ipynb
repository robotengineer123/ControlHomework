{
 "cells": [
  {
   "cell_type": "code",
   "execution_count": 55,
   "metadata": {},
   "outputs": [],
   "source": [
    "import numpy as np\n",
    "from scipy.optimize import minimize\n",
    "import scipy.signal as si\n",
    "import sympy as sp\n",
    "import control as ct\n",
    "from typing import List\n",
    "from sympy.plotting import plot\n",
    "import matplotlib.pyplot as plt\n",
    "from IPython.display import display, Latex, Math, Image\n",
    "%matplotlib inline\n",
    "\n",
    "def eq_disp(varstring, expr, unit=\"\"):\n",
    "    display(Latex(f\"${varstring}={sp.latex(expr)} \\: {unit}$\"))\n",
    "    \n",
    "def reduce_feedback(G_fwd, G_bwd):\n",
    "    \"\"\"Assumes feedback is deducted from signal, if not\n",
    "    change sign of feedback\"\"\"\n",
    "    return sp.simplify(G_fwd/(1+G_fwd*G_bwd))"
   ]
  },
  {
   "cell_type": "markdown",
   "metadata": {},
   "source": [
    "## 1) Transferfunction"
   ]
  },
  {
   "cell_type": "code",
   "execution_count": 56,
   "metadata": {},
   "outputs": [
    {
     "data": {
      "text/latex": [
       "$V=\\frac{0.0531}{\\left(0.00222 H_{pct} + 1.0\\right)^{0.5}} \\: $"
      ],
      "text/plain": [
       "<IPython.core.display.Latex object>"
      ]
     },
     "metadata": {},
     "output_type": "display_data"
    }
   ],
   "source": [
    "H = sp.symbols(r'H_{pct}') \n",
    "C = 0.9 + 0.002*H\n",
    "L = 10\n",
    "f = 1/(2*sp.pi*sp.sqrt(L*C))\n",
    "alpha = 1\n",
    "V = f*alpha\n",
    "eq_disp('V', sp.N(V,3))\n"
   ]
  },
  {
   "cell_type": "markdown",
   "metadata": {},
   "source": [
    "## 2) offset and range of possible outputs"
   ]
  },
  {
   "cell_type": "code",
   "execution_count": 57,
   "metadata": {},
   "outputs": [
    {
     "data": {
      "text/latex": [
       "$V_{out}([0, 100\\%])=\\mathtt{\\text{[0.0479, 0.0531]mV}} \\: $"
      ],
      "text/plain": [
       "<IPython.core.display.Latex object>"
      ]
     },
     "metadata": {},
     "output_type": "display_data"
    },
    {
     "data": {
      "text/latex": [
       "$offset=\\mathtt{\\text{0.0479mV}} \\: $"
      ],
      "text/plain": [
       "<IPython.core.display.Latex object>"
      ]
     },
     "metadata": {},
     "output_type": "display_data"
    }
   ],
   "source": [
    "V_f = sp.lambdify(H, V)\n",
    "range = np.r_[0:101:0.1]\n",
    "V_range = V_f(range)\n",
    "eq_disp('V_{out}([0, 100\\%])', f'[{np.min(V_range):.3}, {np.max(V_range):.3}]mV')\n",
    "eq_disp('offset', f'{np.min(V_range):.3}mV')"
   ]
  },
  {
   "cell_type": "markdown",
   "metadata": {},
   "source": [
    "## 3) Sensitivty"
   ]
  },
  {
   "cell_type": "code",
   "execution_count": 58,
   "metadata": {},
   "outputs": [
    {
     "data": {
      "text/latex": [
       "$\\frac{\\partial V_{out}}{\\partial H_{\\%}}(50\\%)=-5.03292 \\cdot 10^{-5} \\: $"
      ],
      "text/plain": [
       "<IPython.core.display.Latex object>"
      ]
     },
     "metadata": {},
     "output_type": "display_data"
    },
    {
     "data": {
      "text/latex": [
       "$\\frac{\\partial V_{out}}{\\partial H_{\\%}}(75\\%)=-4.67774 \\cdot 10^{-5} \\: $"
      ],
      "text/plain": [
       "<IPython.core.display.Latex object>"
      ]
     },
     "metadata": {},
     "output_type": "display_data"
    },
    {
     "data": {
      "text/latex": [
       "$\\frac{\\partial V_{out}}{\\partial H_{\\%}}(100\\%)=-4.36246 \\cdot 10^{-5} \\: $"
      ],
      "text/plain": [
       "<IPython.core.display.Latex object>"
      ]
     },
     "metadata": {},
     "output_type": "display_data"
    }
   ],
   "source": [
    "dV = V.diff(H)\n",
    "dV_f = sp.lambdify(H, dV)\n",
    "for humid in [50, 75, 100]:\n",
    "    eq_disp(r'\\frac{\\partial V_{out}}{\\partial H_{\\%}}'+f'({humid}\\%)', round(dV_f(humid),10))"
   ]
  },
  {
   "cell_type": "markdown",
   "metadata": {},
   "source": [
    "## 4) Taylor expansion"
   ]
  },
  {
   "cell_type": "code",
   "execution_count": 75,
   "metadata": {},
   "outputs": [
    {
     "data": {
      "text/latex": [
       "$V_{out}\\approx\\frac{1}{2 \\pi \\sqrt{C_{0} L}} - \\frac{C - C_{0}}{4 \\pi C_{0} \\sqrt{C_{0} L}} + \\frac{3 \\left(C - C_{0}\\right)^{2}}{16 \\pi C_{0}^{2} \\sqrt{C_{0} L}}$"
      ],
      "text/plain": [
       "<IPython.core.display.Latex object>"
      ]
     },
     "metadata": {},
     "output_type": "display_data"
    },
    {
     "data": {
      "text/latex": [
       "$V_{out}\\approx\\frac{0.0189}{C_{0}^{2.5}} - \\frac{0.0629}{C_{0}^{1.5}} + \\frac{0.0944}{C_{0}^{0.5}}$"
      ],
      "text/plain": [
       "<IPython.core.display.Latex object>"
      ]
     },
     "metadata": {},
     "output_type": "display_data"
    }
   ],
   "source": [
    "from math import factorial\n",
    "\n",
    "\n",
    "C0, C, L = sp.symbols(r'C_0, C, L') \n",
    "a = 1\n",
    "f = 1/(2*sp.pi*sp.sqrt(L*C))\n",
    "alpha = 1\n",
    "V = f*alpha\n",
    "Taylor = V.subs(C, C0) + V.diff(C).subs(C, C0)*(C - C0) + V.diff(C, 2).subs(C, C0)/(factorial(2))*(C - C0)**2\n",
    "display(Latex(r'$V_{out}\\approx'+ f\"{sp.latex(Taylor)}$\"))\n",
    "display(Latex(r'$V_{out}\\approx'+ f\"{sp.latex(sp.N(Taylor.subs({C: 1, L: 10}),3).simplify())}$\"))"
   ]
  }
 ],
 "metadata": {
  "kernelspec": {
   "display_name": "Python 3.9.12 ('main')",
   "language": "python",
   "name": "python3"
  },
  "language_info": {
   "codemirror_mode": {
    "name": "ipython",
    "version": 3
   },
   "file_extension": ".py",
   "mimetype": "text/x-python",
   "name": "python",
   "nbconvert_exporter": "python",
   "pygments_lexer": "ipython3",
   "version": "3.9.12"
  },
  "orig_nbformat": 4,
  "vscode": {
   "interpreter": {
    "hash": "189c722359e8ae24941e7529d2e8e4a55dd6824955770f169083d5c2e0c1346f"
   }
  }
 },
 "nbformat": 4,
 "nbformat_minor": 2
}
