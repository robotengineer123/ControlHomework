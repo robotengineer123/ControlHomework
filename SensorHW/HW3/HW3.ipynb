{
 "cells": [
  {
   "cell_type": "code",
   "execution_count": 2,
   "id": "b0e2700d",
   "metadata": {},
   "outputs": [],
   "source": [
    "import numpy as np\n",
    "from scipy.optimize import minimize\n",
    "import scipy.signal as si\n",
    "import sympy as sp\n",
    "import control as ct\n",
    "from typing import List\n",
    "from sympy.plotting import plot\n",
    "import matplotlib.pyplot as plt\n",
    "from IPython.display import display, Latex, Math, Image\n",
    "%matplotlib inline\n",
    "\n",
    "def eq_disp(varstring, expr, unit=\"\"):\n",
    "    display(Latex(f\"${varstring}={sp.latex(expr)} \\: {unit}$\"))\n",
    "    \n",
    "def reduce_feedback(G_fwd, G_bwd):\n",
    "    \"\"\"Assumes feedback is deducted from signal, if not\n",
    "    change sign of feedback\"\"\"\n",
    "    return sp.simplify(G_fwd/(1+G_fwd*G_bwd))"
   ]
  },
  {
   "cell_type": "markdown",
   "id": "72bf5b4c",
   "metadata": {},
   "source": [
    "# Problem 1"
   ]
  },
  {
   "cell_type": "markdown",
   "id": "3a6cb440",
   "metadata": {},
   "source": [
    "Measureing the voltage at $X_i$ without the resitor $R_m$ is given by:  \n",
    "From ohms law the current of the circuit is found:"
   ]
  },
  {
   "cell_type": "code",
   "execution_count": 7,
   "id": "2e831816",
   "metadata": {},
   "outputs": [
    {
     "data": {
      "text/latex": [
       "$\\displaystyle \\frac{E}{R_{t}}$"
      ],
      "text/plain": [
       "E/R_t"
      ]
     },
     "execution_count": 7,
     "metadata": {},
     "output_type": "execute_result"
    }
   ],
   "source": [
    "Rm, Ri, Rt, E = sp.symbols('R_m, R_i, R_t, E')\n",
    "I_nopot = E/Rt\n",
    "I_nopot"
   ]
  },
  {
   "cell_type": "markdown",
   "id": "e98f4004",
   "metadata": {},
   "source": [
    "Now from kirchovs law we can find the voltage at point $Xi$ in the circuit"
   ]
  },
  {
   "cell_type": "code",
   "execution_count": 8,
   "id": "1967fe37",
   "metadata": {},
   "outputs": [
    {
     "data": {
      "text/latex": [
       "$V1=\\frac{E \\left(- R_{i} + R_{t}\\right)}{R_{t}} \\: $"
      ],
      "text/plain": [
       "<IPython.core.display.Latex object>"
      ]
     },
     "metadata": {},
     "output_type": "display_data"
    }
   ],
   "source": [
    "V1 = I_nopot*(Rt-Ri)\n",
    "eq_disp('V1', V1)"
   ]
  },
  {
   "cell_type": "markdown",
   "id": "5e74daa9",
   "metadata": {},
   "source": [
    "We now do the same thing but considering the resistor $R_m$"
   ]
  },
  {
   "cell_type": "code",
   "execution_count": 5,
   "id": "adaf6cce",
   "metadata": {},
   "outputs": [
    {
     "data": {
      "text/latex": [
       "$\\displaystyle \\frac{E \\left(- R_{i} + R_{t}\\right)}{- R_{i} + R_{t} + \\frac{1}{\\frac{1}{R_{m}} + \\frac{1}{R_{i}}}}$"
      ],
      "text/plain": [
       "E*(-R_i + R_t)/(-R_i + R_t + 1/(1/R_m + 1/R_i))"
      ]
     },
     "execution_count": 5,
     "metadata": {},
     "output_type": "execute_result"
    }
   ],
   "source": [
    "R_pot = (Rt-Ri) + (1/Ri + 1/Rm)**(-1)\n",
    "I_pot = E/R_pot\n",
    "V2 = I_pot*(Rt-Ri)\n",
    "V2"
   ]
  },
  {
   "cell_type": "markdown",
   "id": "7c43c4b7",
   "metadata": {},
   "source": [
    "Now the difference between the measured voltage at $X_i$ between the two scenarios will be the error in the measurement"
   ]
  },
  {
   "cell_type": "code",
   "execution_count": 6,
   "id": "1be0d867",
   "metadata": {},
   "outputs": [
    {
     "data": {
      "text/latex": [
       "$\\displaystyle \\frac{E R_{i}^{2} \\left(- R_{i} + R_{t}\\right)}{R_{t} \\left(R_{i}^{2} - R_{i} R_{t} - R_{m} R_{t}\\right)}$"
      ],
      "text/plain": [
       "E*R_i**2*(-R_i + R_t)/(R_t*(R_i**2 - R_i*R_t - R_m*R_t))"
      ]
     },
     "execution_count": 6,
     "metadata": {},
     "output_type": "execute_result"
    }
   ],
   "source": [
    "sp.simplify(V1-V2)"
   ]
  },
  {
   "cell_type": "markdown",
   "id": "0b7b4eea",
   "metadata": {},
   "source": [
    "# Problem 2"
   ]
  },
  {
   "cell_type": "markdown",
   "id": "bdc60eae",
   "metadata": {},
   "source": [
    "The mean and standard deviation of the voltage data"
   ]
  },
  {
   "cell_type": "code",
   "execution_count": 17,
   "id": "09bd7537",
   "metadata": {},
   "outputs": [
    {
     "data": {
      "text/latex": [
       "$U=\\mathtt{\\text{[1.53 1.57 1.54 1.54 1.5  1.51 1.55 1.54 1.56 1.53]}} \\: V$"
      ],
      "text/plain": [
       "<IPython.core.display.Latex object>"
      ]
     },
     "metadata": {},
     "output_type": "display_data"
    }
   ],
   "source": [
    "U = np.array([1.53, 1.57, 1.54, 1.54, 1.50, 1.51, 1.55, 1.54, 1.56, 1.53])\n",
    "eq_disp('U', U, 'V')"
   ]
  },
  {
   "cell_type": "markdown",
   "id": "3871fa04",
   "metadata": {},
   "source": [
    "Is"
   ]
  },
  {
   "cell_type": "code",
   "execution_count": 18,
   "id": "eb6d809c",
   "metadata": {},
   "outputs": [
    {
     "data": {
      "text/latex": [
       "$\\bar{U}=1.537 \\: V$"
      ],
      "text/plain": [
       "<IPython.core.display.Latex object>"
      ]
     },
     "metadata": {},
     "output_type": "display_data"
    },
    {
     "data": {
      "text/latex": [
       "$\\sigma=0.02 \\: V$"
      ],
      "text/plain": [
       "<IPython.core.display.Latex object>"
      ]
     },
     "metadata": {},
     "output_type": "display_data"
    }
   ],
   "source": [
    "U_mean = np.mean(U)\n",
    "U_std = np.std(U)\n",
    "eq_disp('\\\\bar{U}', round(U_mean,4), 'V')\n",
    "eq_disp('\\\\sigma', round(U_std,4), 'V')"
   ]
  },
  {
   "cell_type": "markdown",
   "id": "4bb48af5",
   "metadata": {},
   "source": [
    "The standard error of the mean is"
   ]
  },
  {
   "cell_type": "code",
   "execution_count": 19,
   "id": "c75f4929",
   "metadata": {},
   "outputs": [
    {
     "data": {
      "text/latex": [
       "$\\alpha=0.0063 \\: V$"
      ],
      "text/plain": [
       "<IPython.core.display.Latex object>"
      ]
     },
     "metadata": {},
     "output_type": "display_data"
    }
   ],
   "source": [
    "alpha = U_std/np.sqrt(U.size)\n",
    "eq_disp('\\\\alpha', round(alpha,4), 'V')"
   ]
  },
  {
   "cell_type": "markdown",
   "id": "dcd85e79",
   "metadata": {},
   "source": [
    "If 1000 measurements with the same standard deviation, the standard error of the mean is"
   ]
  },
  {
   "cell_type": "code",
   "execution_count": 20,
   "id": "a5329063",
   "metadata": {},
   "outputs": [
    {
     "data": {
      "text/latex": [
       "$\\alpha_{1000}=0.0006 \\: V$"
      ],
      "text/plain": [
       "<IPython.core.display.Latex object>"
      ]
     },
     "metadata": {},
     "output_type": "display_data"
    }
   ],
   "source": [
    "alpha1000 = U_std/np.sqrt(1000)\n",
    "eq_disp('\\\\alpha_{1000}', round(alpha1000,4), 'V')"
   ]
  },
  {
   "cell_type": "markdown",
   "id": "bd01ea60",
   "metadata": {},
   "source": [
    "So the imnprovement is"
   ]
  },
  {
   "cell_type": "code",
   "execution_count": 21,
   "id": "2bb8f83f",
   "metadata": {},
   "outputs": [
    {
     "data": {
      "text/latex": [
       "$\\alpha - \\alpha_{1000}=0.0057 \\: V$"
      ],
      "text/plain": [
       "<IPython.core.display.Latex object>"
      ]
     },
     "metadata": {},
     "output_type": "display_data"
    }
   ],
   "source": [
    "alpha_impr = alpha - alpha1000\n",
    "eq_disp('\\\\alpha - \\\\alpha_{1000}', round(alpha_impr,4), 'V')"
   ]
  },
  {
   "cell_type": "markdown",
   "id": "02d50ad2",
   "metadata": {},
   "source": [
    "# Problem 3"
   ]
  },
  {
   "cell_type": "markdown",
   "id": "187963b2",
   "metadata": {},
   "source": [
    "## a)"
   ]
  },
  {
   "cell_type": "code",
   "execution_count": 22,
   "id": "414311fd",
   "metadata": {},
   "outputs": [],
   "source": [
    "t = 10\n",
    "h1 = 2\n",
    "h2 = 3\n",
    "d = 2\n",
    "Volume = (h2 - h1)*np.pi*(d/2)**2"
   ]
  },
  {
   "cell_type": "markdown",
   "id": "ba00f438",
   "metadata": {},
   "source": [
    "So the volume flow rate is"
   ]
  },
  {
   "cell_type": "code",
   "execution_count": 23,
   "id": "043819ee",
   "metadata": {},
   "outputs": [
    {
     "data": {
      "text/latex": [
       "$Q=0.314 \\: \\frac{m^3}{min}$"
      ],
      "text/plain": [
       "<IPython.core.display.Latex object>"
      ]
     },
     "metadata": {},
     "output_type": "display_data"
    }
   ],
   "source": [
    "Q = Volume/t\n",
    "eq_disp('Q', round(Q,3), '\\\\frac{m^3}{min}')"
   ]
  },
  {
   "cell_type": "markdown",
   "id": "f5c3764b",
   "metadata": {},
   "source": [
    "## b)"
   ]
  },
  {
   "cell_type": "markdown",
   "id": "7f1eeba0",
   "metadata": {},
   "source": [
    "If the error of each length measurement is $\\pm 1 \\%$ the maximum error of the volume flow rate is"
   ]
  },
  {
   "cell_type": "code",
   "execution_count": 24,
   "id": "d8e9d0ac",
   "metadata": {},
   "outputs": [
    {
     "data": {
      "text/latex": [
       "$Error_{max}=0.0095 \\: \\frac{m^3}{min}$"
      ],
      "text/plain": [
       "<IPython.core.display.Latex object>"
      ]
     },
     "metadata": {},
     "output_type": "display_data"
    }
   ],
   "source": [
    "h1_max = 2*1.01\n",
    "h2_max = 3*1.01\n",
    "d_max = 2*1.01\n",
    "Volume_max = (h2_max - h1_max)*np.pi*(d_max/2)**2\n",
    "Q_max = Volume_max/t\n",
    "Error_max = Q_max - Q\n",
    "eq_disp('Error_{max}', round(Error_max,4), '\\\\frac{m^3}{min}')"
   ]
  },
  {
   "cell_type": "markdown",
   "id": "88d14d46",
   "metadata": {},
   "source": [
    "## Problem 4"
   ]
  },
  {
   "cell_type": "markdown",
   "id": "d1f3dc72",
   "metadata": {},
   "source": [
    "### a)"
   ]
  },
  {
   "cell_type": "markdown",
   "id": "dffea238",
   "metadata": {},
   "source": [
    "We use the cumulative distribution function to find the chance that a sample is within the given range, then multiply by the population size"
   ]
  },
  {
   "cell_type": "code",
   "execution_count": 25,
   "id": "b2560947",
   "metadata": {},
   "outputs": [
    {
     "data": {
      "text/latex": [
       "$N=7965.56745540577 \\: $"
      ],
      "text/plain": [
       "<IPython.core.display.Latex object>"
      ]
     },
     "metadata": {},
     "output_type": "display_data"
    }
   ],
   "source": [
    "import statistics\n",
    "pop_sz = 10**5\n",
    "mean = 20 \n",
    "std = 2\n",
    "nd = statistics.NormalDist(mean, std)\n",
    "low_g = 19.8\n",
    "high_g = 20.2\n",
    "prob_of_interval = (nd.cdf(high_g)-nd.cdf(low_g))\n",
    "eq_disp('N', prob_of_interval*pop_sz)"
   ]
  },
  {
   "cell_type": "markdown",
   "id": "e26deee3",
   "metadata": {},
   "source": [
    "### b)"
   ]
  },
  {
   "cell_type": "markdown",
   "id": "b5bf453b",
   "metadata": {},
   "source": [
    "Once again use cummulative distribution function"
   ]
  },
  {
   "cell_type": "code",
   "execution_count": 29,
   "id": "7e787d54",
   "metadata": {},
   "outputs": [
    {
     "data": {
      "text/latex": [
       "$N=93319.2798731142 \\: $"
      ],
      "text/plain": [
       "<IPython.core.display.Latex object>"
      ]
     },
     "metadata": {},
     "output_type": "display_data"
    }
   ],
   "source": [
    "eq_disp('N', (1-nd.cdf(17))*pop_sz)"
   ]
  }
 ],
 "metadata": {
  "kernelspec": {
   "display_name": "Python 3 (ipykernel)",
   "language": "python",
   "name": "python3"
  },
  "language_info": {
   "codemirror_mode": {
    "name": "ipython",
    "version": 3
   },
   "file_extension": ".py",
   "mimetype": "text/x-python",
   "name": "python",
   "nbconvert_exporter": "python",
   "pygments_lexer": "ipython3",
   "version": "3.9.12"
  },
  "vscode": {
   "interpreter": {
    "hash": "189c722359e8ae24941e7529d2e8e4a55dd6824955770f169083d5c2e0c1346f"
   }
  }
 },
 "nbformat": 4,
 "nbformat_minor": 5
}
