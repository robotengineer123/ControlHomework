{
 "cells": [
  {
   "cell_type": "code",
   "execution_count": 1,
   "id": "b0e2700d",
   "metadata": {},
   "outputs": [],
   "source": [
    "import numpy as np\n",
    "from scipy.optimize import minimize\n",
    "import scipy.signal as si\n",
    "import sympy as sp\n",
    "import control as ct\n",
    "from typing import List\n",
    "from sympy.plotting import plot\n",
    "import matplotlib.pyplot as plt\n",
    "from IPython.display import display, Latex, Math, Image\n",
    "%matplotlib inline\n",
    "\n",
    "def eq_disp(varstring, expr, unit=\"\"):\n",
    "    display(Latex(f\"${varstring}={sp.latex(expr)} \\: {unit}$\"))\n",
    "    \n",
    "def reduce_feedback(G_fwd, G_bwd):\n",
    "    \"\"\"Assumes feedback is deducted from signal, if not\n",
    "    change sign of feedback\"\"\"\n",
    "    return sp.simplify(G_fwd/(1+G_fwd*G_bwd))"
   ]
  },
  {
   "cell_type": "markdown",
   "id": "72bf5b4c",
   "metadata": {},
   "source": [
    "# Problem 1"
   ]
  },
  {
   "cell_type": "code",
   "execution_count": null,
   "id": "2e831816",
   "metadata": {},
   "outputs": [],
   "source": []
  },
  {
   "cell_type": "markdown",
   "id": "0b7b4eea",
   "metadata": {},
   "source": [
    "# Problem 2"
   ]
  },
  {
   "cell_type": "markdown",
   "id": "bdc60eae",
   "metadata": {},
   "source": [
    "The mean and standard deviation of the voltage data"
   ]
  },
  {
   "cell_type": "code",
   "execution_count": 12,
   "id": "09bd7537",
   "metadata": {},
   "outputs": [
    {
     "data": {
      "text/latex": [
       "$U=\\mathtt{\\text{[1.53 1.57 1.54 1.54 1.5  1.51 1.55 1.54 1.56 1.53]}} \\: V$"
      ],
      "text/plain": [
       "<IPython.core.display.Latex object>"
      ]
     },
     "metadata": {},
     "output_type": "display_data"
    }
   ],
   "source": [
    "U = np.array([1.53, 1.57, 1.54, 1.54, 1.50, 1.51, 1.55, 1.54, 1.56, 1.53])\n",
    "eq_disp('U', U, 'V')"
   ]
  },
  {
   "cell_type": "markdown",
   "id": "3871fa04",
   "metadata": {},
   "source": [
    "Is"
   ]
  },
  {
   "cell_type": "code",
   "execution_count": 18,
   "id": "eb6d809c",
   "metadata": {},
   "outputs": [
    {
     "data": {
      "text/latex": [
       "$\\bar{U}=1.537 \\: V$"
      ],
      "text/plain": [
       "<IPython.core.display.Latex object>"
      ]
     },
     "metadata": {},
     "output_type": "display_data"
    },
    {
     "data": {
      "text/latex": [
       "$\\sigma=0.02 \\: V$"
      ],
      "text/plain": [
       "<IPython.core.display.Latex object>"
      ]
     },
     "metadata": {},
     "output_type": "display_data"
    }
   ],
   "source": [
    "U_mean = np.mean(data)\n",
    "U_std = np.std(data)\n",
    "eq_disp('\\\\bar{U}', round(U_mean,4), 'V')\n",
    "eq_disp('\\\\sigma', round(U_std,4), 'V')"
   ]
  },
  {
   "cell_type": "markdown",
   "id": "4bb48af5",
   "metadata": {},
   "source": [
    "The standard error of the mean is"
   ]
  },
  {
   "cell_type": "code",
   "execution_count": 20,
   "id": "c75f4929",
   "metadata": {},
   "outputs": [
    {
     "data": {
      "text/latex": [
       "$\\alpha=0.0063 \\: V$"
      ],
      "text/plain": [
       "<IPython.core.display.Latex object>"
      ]
     },
     "metadata": {},
     "output_type": "display_data"
    }
   ],
   "source": [
    "alpha = U_std/np.sqrt(U.size)\n",
    "eq_disp('\\\\alpha', round(alpha,4), 'V')"
   ]
  },
  {
   "cell_type": "markdown",
   "id": "dcd85e79",
   "metadata": {},
   "source": [
    "If 1000 measurements with the same standard deviation, the standard error of the mean is"
   ]
  },
  {
   "cell_type": "code",
   "execution_count": 22,
   "id": "a5329063",
   "metadata": {},
   "outputs": [
    {
     "data": {
      "text/latex": [
       "$\\alpha_{1000}=0.0006 \\: V$"
      ],
      "text/plain": [
       "<IPython.core.display.Latex object>"
      ]
     },
     "metadata": {},
     "output_type": "display_data"
    }
   ],
   "source": [
    "alpha1000 = U_std/np.sqrt(1000)\n",
    "eq_disp('\\\\alpha_{1000}', round(alpha1000,4), 'V')"
   ]
  },
  {
   "cell_type": "markdown",
   "id": "bd01ea60",
   "metadata": {},
   "source": [
    "So the imnprovement is"
   ]
  },
  {
   "cell_type": "code",
   "execution_count": 23,
   "id": "2bb8f83f",
   "metadata": {},
   "outputs": [
    {
     "data": {
      "text/latex": [
       "$\\alpha - \\alpha_{1000}=0.0057 \\: V$"
      ],
      "text/plain": [
       "<IPython.core.display.Latex object>"
      ]
     },
     "metadata": {},
     "output_type": "display_data"
    }
   ],
   "source": [
    "alpha_impr = alpha - alpha1000\n",
    "eq_disp('\\\\alpha - \\\\alpha_{1000}', round(alpha_impr,4), 'V')"
   ]
  },
  {
   "cell_type": "markdown",
   "id": "02d50ad2",
   "metadata": {},
   "source": [
    "# Problem 3"
   ]
  },
  {
   "cell_type": "markdown",
   "id": "187963b2",
   "metadata": {},
   "source": [
    "## a)"
   ]
  },
  {
   "cell_type": "code",
   "execution_count": 25,
   "id": "414311fd",
   "metadata": {},
   "outputs": [],
   "source": [
    "t = 10\n",
    "h1 = 2\n",
    "h2 = 3\n",
    "d = 2\n",
    "Volume = (h2 - h1)*np.pi*(d/2)**2"
   ]
  },
  {
   "cell_type": "markdown",
   "id": "ba00f438",
   "metadata": {},
   "source": [
    "So the volume flow rate is"
   ]
  },
  {
   "cell_type": "code",
   "execution_count": 27,
   "id": "043819ee",
   "metadata": {},
   "outputs": [
    {
     "data": {
      "text/latex": [
       "$Q=0.314 \\: \\frac{m^3}{min}$"
      ],
      "text/plain": [
       "<IPython.core.display.Latex object>"
      ]
     },
     "metadata": {},
     "output_type": "display_data"
    }
   ],
   "source": [
    "Q = Volume/t\n",
    "eq_disp('Q', round(Q,3), '\\\\frac{m^3}{min}')"
   ]
  },
  {
   "cell_type": "markdown",
   "id": "f5c3764b",
   "metadata": {},
   "source": [
    "## b)"
   ]
  },
  {
   "cell_type": "markdown",
   "id": "7f1eeba0",
   "metadata": {},
   "source": [
    "If the error of each length measurement is $\\pm 1 \\%$ the maximum error of the volume flow rate is"
   ]
  },
  {
   "cell_type": "code",
   "execution_count": 30,
   "id": "d8e9d0ac",
   "metadata": {},
   "outputs": [
    {
     "data": {
      "text/latex": [
       "$Error_{max}=0.0095 \\: \\frac{m^3}{min}$"
      ],
      "text/plain": [
       "<IPython.core.display.Latex object>"
      ]
     },
     "metadata": {},
     "output_type": "display_data"
    }
   ],
   "source": [
    "h1_max = 2*1.01\n",
    "h2_max = 3*1.01\n",
    "d_max = 2*1.01\n",
    "Volume_max = (h2_max - h1_max)*np.pi*(d_max/2)**2\n",
    "Q_max = Volume_max/t\n",
    "Error_max = Q_max - Q\n",
    "eq_disp('Error_{max}', round(Error_max,4), '\\\\frac{m^3}{min}')"
   ]
  }
 ],
 "metadata": {
  "kernelspec": {
   "display_name": "Python 3 (ipykernel)",
   "language": "python",
   "name": "python3"
  },
  "language_info": {
   "codemirror_mode": {
    "name": "ipython",
    "version": 3
   },
   "file_extension": ".py",
   "mimetype": "text/x-python",
   "name": "python",
   "nbconvert_exporter": "python",
   "pygments_lexer": "ipython3",
   "version": "3.9.13"
  }
 },
 "nbformat": 4,
 "nbformat_minor": 5
}
