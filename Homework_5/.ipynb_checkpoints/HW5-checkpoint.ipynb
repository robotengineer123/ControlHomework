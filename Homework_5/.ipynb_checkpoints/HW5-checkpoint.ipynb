{
 "cells": [
  {
   "cell_type": "code",
   "execution_count": 1,
   "metadata": {},
   "outputs": [],
   "source": [
    "import numpy as np\n",
    "from scipy.optimize import minimize\n",
    "import scipy.signal as si\n",
    "import sympy as sp\n",
    "import control as ct\n",
    "from typing import List\n",
    "from sympy.plotting import plot\n",
    "import matplotlib.pyplot as plt\n",
    "from IPython.display import display, Latex, Math\n",
    "def eq_disp(varstring, expr):\n",
    "    display(Latex(f\"${varstring}={sp.latex(expr)}$\"))\n",
    "\n",
    "def reduce_feedback(G_fwd, G_bwd):\n",
    "    \"\"\"Assumes feedback is deducted from signal, if not\n",
    "    change sign of feedback\"\"\"\n",
    "    return sp.simplify(G_fwd/(1+G_fwd*G_bwd))\n",
    "\n",
    "def RHarray(coeffs: List):\n",
    "    # first 2 rows from coefficients\n",
    "    n = len(coeffs)\n",
    "    arr = sp.zeros(n, n//2+2)\n",
    "    i = 0\n",
    "    for i in range(0,n,2):\n",
    "        arr[0, i//2] = coeffs[i]\n",
    "    for i in range(1,n,2):\n",
    "        arr[1, i//2] = coeffs[i]\n",
    "\n",
    "    for j in range(2, arr.shape[0]):\n",
    "        for i in range(arr.shape[1]-1):\n",
    "            a0 = arr[j-2,0]\n",
    "            a3 = a1 = arr[j-1,i+1]\n",
    "            a1 = arr[j-1,0]\n",
    "            a2 = arr[j-2,i+1]\n",
    "            arr[j, i] = (a1*a2-a0*a3)/a1\n",
    "    return arr\n",
    "\n"
   ]
  },
  {
   "cell_type": "code",
   "execution_count": 2,
   "metadata": {},
   "outputs": [],
   "source": [
    "K1, K2, K3, s, t = sp.symbols('K1, K2, K3, s, t')\n",
    "tau1, tau3, tau4 = 0.5, 1, 1/4\n",
    "Gs = K1/(tau1*s + 1)\n",
    "Gd = K3/((tau3*s + 1)*(tau4*s + 1))"
   ]
  },
  {
   "cell_type": "code",
   "execution_count": 3,
   "metadata": {},
   "outputs": [
    {
     "data": {
      "text/latex": [
       "$\\displaystyle \\frac{K_{1} K_{2} K_{3}}{K_{1} K_{2} K_{3} + \\left(0.25 s + 1\\right) \\left(0.5 s + 1\\right) \\left(s + 1\\right)}$"
      ],
      "text/plain": [
       "K1*K2*K3/(K1*K2*K3 + (0.25*s + 1)*(0.5*s + 1)*(s + 1))"
      ]
     },
     "execution_count": 3,
     "metadata": {},
     "output_type": "execute_result"
    }
   ],
   "source": [
    "T = reduce_feedback(Gs*K2*Gd, 1)\n",
    "T"
   ]
  },
  {
   "cell_type": "markdown",
   "metadata": {},
   "source": [
    "The coefficients of the characteristic equation are"
   ]
  },
  {
   "cell_type": "code",
   "execution_count": 4,
   "metadata": {},
   "outputs": [
    {
     "data": {
      "text/latex": [
       "$s^3: 0.125$"
      ],
      "text/plain": [
       "<IPython.core.display.Latex object>"
      ]
     },
     "metadata": {},
     "output_type": "display_data"
    },
    {
     "data": {
      "text/latex": [
       "$s^2: 0.875$"
      ],
      "text/plain": [
       "<IPython.core.display.Latex object>"
      ]
     },
     "metadata": {},
     "output_type": "display_data"
    },
    {
     "data": {
      "text/latex": [
       "$s^1: 1.75$"
      ],
      "text/plain": [
       "<IPython.core.display.Latex object>"
      ]
     },
     "metadata": {},
     "output_type": "display_data"
    },
    {
     "data": {
      "text/latex": [
       "$s^0: 1.0 K_{1} K_{2} K_{3} + 1.0$"
      ],
      "text/plain": [
       "<IPython.core.display.Latex object>"
      ]
     },
     "metadata": {},
     "output_type": "display_data"
    }
   ],
   "source": [
    "p, q = T.as_numer_denom()\n",
    "coeffs = sp.Poly(q, s).coeffs()\n",
    "for i, k in enumerate(coeffs):\n",
    "    display(Latex(f\"${f's^{len(coeffs)-1-i}'}: {sp.latex(k)}$\"))"
   ]
  },
  {
   "cell_type": "code",
   "execution_count": 5,
   "metadata": {},
   "outputs": [
    {
     "data": {
      "text/latex": [
       "$\\displaystyle \\left[\\begin{matrix}0.125 & 1.75 & 0 & 0\\\\0.875 & 1.0 K_{1} K_{2} K_{3} + 1.0 & 0 & 0\\\\- 0.142857142857143 K_{1} K_{2} K_{3} + 1.60714285714286 & 0 & 0 & 0\\\\1.0 K_{1} K_{2} K_{3} + 1.0 & 0 & 0 & 0\\end{matrix}\\right]$"
      ],
      "text/plain": [
       "Matrix([\n",
       "[                                         0.125,               1.75, 0, 0],\n",
       "[                                         0.875, 1.0*K1*K2*K3 + 1.0, 0, 0],\n",
       "[-0.142857142857143*K1*K2*K3 + 1.60714285714286,                  0, 0, 0],\n",
       "[                            1.0*K1*K2*K3 + 1.0,                  0, 0, 0]])"
      ]
     },
     "execution_count": 5,
     "metadata": {},
     "output_type": "execute_result"
    }
   ],
   "source": [
    "arr = RHarray(coeffs)\n",
    "arr"
   ]
  },
  {
   "cell_type": "markdown",
   "metadata": {},
   "source": [
    "Now applying the Routh Hurwitz criterion to the first columnm, all coefficients should be positive, which gives the bounding equation:"
   ]
  },
  {
   "cell_type": "code",
   "execution_count": 6,
   "metadata": {},
   "outputs": [
    {
     "data": {
      "text/latex": [
       "$\\displaystyle K_{1} K_{2} K_{3} < 11.25$"
      ],
      "text/plain": [
       "K1*K2*K3 < 11.25"
      ]
     },
     "execution_count": 6,
     "metadata": {},
     "output_type": "execute_result"
    }
   ],
   "source": [
    "K = sp.symbols('K', positive=True)\n",
    "sol = sp.solve([arr[2, 0].subs(K1*K2*K3, K) > 0, arr[3, 0].subs(K1*K2*K3, K) > 0], K).subs(K, K1*K2*K3)\n",
    "sol"
   ]
  },
  {
   "cell_type": "markdown",
   "metadata": {},
   "source": [
    "## b)"
   ]
  },
  {
   "cell_type": "code",
   "execution_count": 22,
   "metadata": {},
   "outputs": [
    {
     "data": {
      "text/latex": [
       "$$\\frac{3.75}{0.125 s^3 + 0.875 s^2 + 1.75 s + 4.75}$$"
      ],
      "text/plain": [
       "TransferFunction(array([3.75]), array([0.125, 0.875, 1.75 , 4.75 ]))"
      ]
     },
     "execution_count": 22,
     "metadata": {},
     "output_type": "execute_result"
    }
   ],
   "source": [
    "K = float(sol.rhs)/3\n",
    "s = ct.tf('s')\n",
    "T = K/(K+(0.25*s+1)*(0.5*s+1)*(s+1))\n",
    "T"
   ]
  },
  {
   "cell_type": "markdown",
   "metadata": {},
   "source": [
    "We can analyse the poles of the system to see if it can be reduced to a second order system"
   ]
  },
  {
   "cell_type": "code",
   "execution_count": 8,
   "metadata": {},
   "outputs": [
    {
     "data": {
      "text/latex": [
       "$-s_0=\\mathtt{\\text{(-5.714+0j)}}$"
      ],
      "text/plain": [
       "<IPython.core.display.Latex object>"
      ]
     },
     "metadata": {},
     "output_type": "display_data"
    },
    {
     "data": {
      "text/latex": [
       "$-s_1=\\mathtt{\\text{(-0.643+2.497j)}}$"
      ],
      "text/plain": [
       "<IPython.core.display.Latex object>"
      ]
     },
     "metadata": {},
     "output_type": "display_data"
    },
    {
     "data": {
      "text/latex": [
       "$-s_2=\\mathtt{\\text{(-0.643-2.497j)}}$"
      ],
      "text/plain": [
       "<IPython.core.display.Latex object>"
      ]
     },
     "metadata": {},
     "output_type": "display_data"
    }
   ],
   "source": [
    "poles = T.poles()\n",
    "for i, p in enumerate(poles):\n",
    "    eq_disp(f'-s_{i}', np.round(p,3))"
   ]
  },
  {
   "cell_type": "markdown",
   "metadata": {},
   "source": [
    "Since one poles real value is approximately 10 times larger than the others it can be neglected so we simplify to a second order system"
   ]
  },
  {
   "cell_type": "code",
   "execution_count": 9,
   "metadata": {},
   "outputs": [
    {
     "data": {
      "text/latex": [
       "$$\\frac{3.75}{s^2 + 1.286 s + 6.651}$$"
      ],
      "text/plain": [
       "TransferFunction(array([3.75]), array([1.        +0.j, 1.28626173+0.j, 6.65063714+0.j]))"
      ]
     },
     "execution_count": 9,
     "metadata": {},
     "output_type": "execute_result"
    }
   ],
   "source": [
    "T_reduced = sum(T.num[0])/np.prod([s-p for p in poles[1:]])\n",
    "T_reduced"
   ]
  },
  {
   "cell_type": "markdown",
   "metadata": {},
   "source": [
    "Get damping ratio and natural frequency"
   ]
  },
  {
   "cell_type": "code",
   "execution_count": 10,
   "metadata": {},
   "outputs": [
    {
     "name": "stderr",
     "output_type": "stream",
     "text": [
      "c:\\Users\\osteb\\anaconda3\\envs\\main\\lib\\site-packages\\control\\xferfcn.py:1055: ComplexWarning: Casting complex values to real discards the imaginary part\n",
      "  den[j, :maxindex+1] = poly(poles[j])\n",
      "c:\\Users\\osteb\\anaconda3\\envs\\main\\lib\\site-packages\\control\\xferfcn.py:1085: ComplexWarning: Casting complex values to real discards the imaginary part\n",
      "  num[i, j, maxindex+1-len(numpoly):maxindex+1] = numpoly\n"
     ]
    },
    {
     "data": {
      "text/latex": [
       "$\\omega=2.579$"
      ],
      "text/plain": [
       "<IPython.core.display.Latex object>"
      ]
     },
     "metadata": {},
     "output_type": "display_data"
    },
    {
     "data": {
      "text/latex": [
       "$\\zeta=0.249$"
      ],
      "text/plain": [
       "<IPython.core.display.Latex object>"
      ]
     },
     "metadata": {},
     "output_type": "display_data"
    }
   ],
   "source": [
    "omega, zeta, _ =T_reduced.damp()\n",
    "omega = omega[0]\n",
    "zeta = zeta[0]\n",
    "eq_disp('\\omega', round(omega,3))\n",
    "eq_disp('\\zeta', round(zeta,3))"
   ]
  },
  {
   "cell_type": "markdown",
   "id": "f198f07c",
   "metadata": {},
   "source": [
    "The setling time at 2% threshold is calculated by:\n",
    "$$\n",
    "T_s=4 \\tau=\\frac{4}{\\xi \\omega_n}\n",
    "$$"
   ]
  },
  {
   "cell_type": "code",
   "execution_count": 11,
   "metadata": {},
   "outputs": [
    {
     "data": {
      "text/latex": [
       "$T_s=6.22$"
      ],
      "text/plain": [
       "<IPython.core.display.Latex object>"
      ]
     },
     "metadata": {},
     "output_type": "display_data"
    }
   ],
   "source": [
    "Ts = 4/(zeta*omega)\n",
    "eq_disp('T_s', round(Ts,3))"
   ]
  },
  {
   "cell_type": "markdown",
   "metadata": {},
   "source": [
    "We see that the settling time is larger than the requirment"
   ]
  },
  {
   "cell_type": "markdown",
   "metadata": {},
   "source": [
    "## c)"
   ]
  },
  {
   "cell_type": "markdown",
   "metadata": {},
   "source": [
    "The value of K that meets requirements is found by plotting the setling time for a range of values of K"
   ]
  },
  {
   "cell_type": "code",
   "execution_count": 12,
   "metadata": {},
   "outputs": [
    {
     "data": {
      "image/png": "[encoded data removed]",
      "text/plain": [
       "<Figure size 640x480 with 1 Axes>"
      ]
     },
     "metadata": {},
     "output_type": "display_data"
    }
   ],
   "source": [
    "def Ts_f(K):\n",
    "    s = ct.tf('s')\n",
    "    T = K/(K+(0.25*s+1)*(0.5*s+1)*(s+1))\n",
    "    poles = T.poles()\n",
    "    T_reduced = sum(T.num[0])/np.prod([s-p for p in poles[1:]])\n",
    "    omega, zeta, _ =T_reduced.damp()\n",
    "    omega = omega[0]\n",
    "    zeta = zeta[0]\n",
    "    return 4/(zeta*omega)-4\n",
    "\n",
    "Kspan = np.r_[0.1:6:0.1]\n",
    "Ts_array = np.vectorize(Ts_f)(Kspan)\n",
    "plt.plot(Kspan, Ts_array)\n",
    "plt.xlabel('K')\n",
    "plt.ylabel('$T_s$')\n",
    "plt.grid()\n",
    "plt.show()"
   ]
  },
  {
   "cell_type": "markdown",
   "metadata": {},
   "source": [
    "The maximum value of K that still meets requirements is:"
   ]
  },
  {
   "cell_type": "code",
   "execution_count": 13,
   "metadata": {},
   "outputs": [
    {
     "data": {
      "text/latex": [
       "$K=5.0$"
      ],
      "text/plain": [
       "<IPython.core.display.Latex object>"
      ]
     },
     "metadata": {},
     "output_type": "display_data"
    }
   ],
   "source": [
    "Kmax = Kspan[np.argmin(abs(Ts_array-4))]\n",
    "eq_disp('K',round(Kmax,3))"
   ]
  }
 ],
 "metadata": {
  "kernelspec": {
   "display_name": "Python 3.9.12 ('main')",
   "language": "python",
   "name": "python3"
  },
  "language_info": {
   "codemirror_mode": {
    "name": "ipython",
    "version": 3
   },
   "file_extension": ".py",
   "mimetype": "text/x-python",
   "name": "python",
   "nbconvert_exporter": "python",
   "pygments_lexer": "ipython3",
   "version": "3.9.12"
  },
  "orig_nbformat": 4,
  "vscode": {
   "interpreter": {
    "hash": "189c722359e8ae24941e7529d2e8e4a55dd6824955770f169083d5c2e0c1346f"
   }
  }
 },
 "nbformat": 4,
 "nbformat_minor": 2
}
