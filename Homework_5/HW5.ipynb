{
 "cells": [
  {
   "cell_type": "code",
   "execution_count": 130,
   "metadata": {},
   "outputs": [],
   "source": [
    "import numpy as np\n",
    "import sympy as sp\n",
    "from typing import List\n",
    "from sympy.plotting import plot\n",
    "import matplotlib.pyplot as plt\n",
    "from IPython.display import display, Latex, Math\n",
    "def eq_disp(varstring, expr):\n",
    "    display(Latex(f\"${varstring}={sp.latex(expr)}$\"))\n",
    "\n",
    "def reduce_feedback(G_fwd, G_bwd):\n",
    "    \"\"\"Assumes feedback is deducted from signal, if not\n",
    "    change sign of feedback\"\"\"\n",
    "    return sp.simplify(G_fwd/(1+G_fwd*G_bwd))\n",
    "\n",
    "def RHarray(coeffs: List):\n",
    "    # first 2 rows from coefficients\n",
    "    n = len(coeffs)\n",
    "    arr = sp.zeros(n, n//2+2)\n",
    "    i = 0\n",
    "    for i in range(0,n,2):\n",
    "        arr[0, i//2] = coeffs[i]\n",
    "    for i in range(1,n,2):\n",
    "        arr[1, i//2] = coeffs[i]\n",
    "\n",
    "    for j in range(2, arr.shape[0]):\n",
    "        for i in range(arr.shape[1]-1):\n",
    "            a0 = arr[j-2,0]\n",
    "            a3 = a1 = arr[j-1,i+1]\n",
    "            a1 = arr[j-1,0]\n",
    "            a2 = arr[j-2,i+1]\n",
    "            arr[j, i] = (a1*a2-a0*a3)/a1\n",
    "    return arr\n",
    "\n"
   ]
  },
  {
   "cell_type": "code",
   "execution_count": 131,
   "metadata": {},
   "outputs": [],
   "source": [
    "K1, K2, K3, s, t = sp.symbols('K1, K2, K3, s, t')\n",
    "tau1, tau3, tau4 = 0.5, 1, 1/4\n",
    "Gs = K1/(tau1*s + 1)\n",
    "Gd = K3/((tau3*s + 1)*(tau4*s + 1))"
   ]
  },
  {
   "cell_type": "code",
   "execution_count": 132,
   "metadata": {},
   "outputs": [
    {
     "data": {
      "text/latex": [
       "$\\displaystyle \\frac{K_{1} K_{2} K_{3}}{K_{1} K_{2} K_{3} + \\left(0.25 s + 1\\right) \\left(0.5 s + 1\\right) \\left(s + 1\\right)}$"
      ],
      "text/plain": [
       "K1*K2*K3/(K1*K2*K3 + (0.25*s + 1)*(0.5*s + 1)*(s + 1))"
      ]
     },
     "execution_count": 132,
     "metadata": {},
     "output_type": "execute_result"
    }
   ],
   "source": [
    "T = reduce_feedback(Gs*K2*Gd, 1)\n",
    "T"
   ]
  },
  {
   "cell_type": "markdown",
   "metadata": {},
   "source": [
    "The coefficients of the characteristic equation are"
   ]
  },
  {
   "cell_type": "code",
   "execution_count": 133,
   "metadata": {},
   "outputs": [
    {
     "data": {
      "text/latex": [
       "$s^3: 0.125$"
      ],
      "text/plain": [
       "<IPython.core.display.Latex object>"
      ]
     },
     "metadata": {},
     "output_type": "display_data"
    },
    {
     "data": {
      "text/latex": [
       "$s^2: 0.875$"
      ],
      "text/plain": [
       "<IPython.core.display.Latex object>"
      ]
     },
     "metadata": {},
     "output_type": "display_data"
    },
    {
     "data": {
      "text/latex": [
       "$s^1: 1.75$"
      ],
      "text/plain": [
       "<IPython.core.display.Latex object>"
      ]
     },
     "metadata": {},
     "output_type": "display_data"
    },
    {
     "data": {
      "text/latex": [
       "$s^0: 1.0 K_{1} K_{2} K_{3} + 1.0$"
      ],
      "text/plain": [
       "<IPython.core.display.Latex object>"
      ]
     },
     "metadata": {},
     "output_type": "display_data"
    }
   ],
   "source": [
    "p, q = T.as_numer_denom()\n",
    "coeffs = sp.Poly(q, s).coeffs()\n",
    "for i, k in enumerate(coeffs):\n",
    "    display(Latex(f\"${f's^{len(coeffs)-1-i}'}: {sp.latex(k)}$\"))"
   ]
  },
  {
   "cell_type": "code",
   "execution_count": 134,
   "metadata": {},
   "outputs": [
    {
     "data": {
      "text/latex": [
       "$\\displaystyle \\left[\\begin{matrix}0.125 & 1.75 & 0 & 0\\\\0.875 & 1.0 K_{1} K_{2} K_{3} + 1.0 & 0 & 0\\\\- 0.142857142857143 K_{1} K_{2} K_{3} + 1.60714285714286 & 0 & 0 & 0\\\\1.0 K_{1} K_{2} K_{3} + 1.0 & 0 & 0 & 0\\end{matrix}\\right]$"
      ],
      "text/plain": [
       "Matrix([\n",
       "[                                         0.125,               1.75, 0, 0],\n",
       "[                                         0.875, 1.0*K1*K2*K3 + 1.0, 0, 0],\n",
       "[-0.142857142857143*K1*K2*K3 + 1.60714285714286,                  0, 0, 0],\n",
       "[                            1.0*K1*K2*K3 + 1.0,                  0, 0, 0]])"
      ]
     },
     "execution_count": 134,
     "metadata": {},
     "output_type": "execute_result"
    }
   ],
   "source": [
    "arr = RHarray(coeffs)\n",
    "arr"
   ]
  },
  {
   "cell_type": "markdown",
   "metadata": {},
   "source": [
    "Now applying the Routh Hurwitz criterion to the first columnm, all coefficients should be positive, which gives the bounding equations:"
   ]
  },
  {
   "cell_type": "code",
   "execution_count": 135,
   "metadata": {},
   "outputs": [
    {
     "data": {
      "text/latex": [
       "$\\displaystyle -1.0 < K_{1} K_{2} K_{3} \\wedge K_{1} K_{2} K_{3} < 11.25$"
      ],
      "text/plain": [
       "(-1.0 < K1*K2*K3) & (K1*K2*K3 < 11.25)"
      ]
     },
     "execution_count": 135,
     "metadata": {},
     "output_type": "execute_result"
    }
   ],
   "source": [
    "K = sp.symbols('K')\n",
    "sol = sp.solve([arr[2, 0].subs(K1*K2*K3, K) > 0, arr[3, 0].subs(K1*K2*K3, K) > 0], K).subs(K, K1*K2*K3)\n",
    "sol"
   ]
  }
 ],
 "metadata": {
  "kernelspec": {
   "display_name": "Python 3.9.12 ('main')",
   "language": "python",
   "name": "python3"
  },
  "language_info": {
   "codemirror_mode": {
    "name": "ipython",
    "version": 3
   },
   "file_extension": ".py",
   "mimetype": "text/x-python",
   "name": "python",
   "nbconvert_exporter": "python",
   "pygments_lexer": "ipython3",
   "version": "3.9.12"
  },
  "orig_nbformat": 4,
  "vscode": {
   "interpreter": {
    "hash": "189c722359e8ae24941e7529d2e8e4a55dd6824955770f169083d5c2e0c1346f"
   }
  }
 },
 "nbformat": 4,
 "nbformat_minor": 2
}
