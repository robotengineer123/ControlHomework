{
 "cells": [
  {
   "cell_type": "markdown",
   "metadata": {},
   "source": [
    "**Group number**  \n",
    "3\n",
    "\n",
    "**Group members**  \n",
    "Alexander Stoustrup  \n",
    "Mathias Tyranski  \n",
    "Benjamin Simonsen"
   ]
  },
  {
   "cell_type": "code",
   "execution_count": 1,
   "metadata": {},
   "outputs": [],
   "source": [
    "import numpy as np\n",
    "from scipy.optimize import minimize\n",
    "import scipy.signal as si\n",
    "import sympy as sp\n",
    "import control as ct\n",
    "from typing import List\n",
    "from sympy.plotting import plot\n",
    "import matplotlib.pyplot as plt\n",
    "from IPython.display import display, Latex, Math\n",
    "\n",
    "def eq_disp(varstring, expr, unit=\"\"):\n",
    "    display(Latex(f\"${varstring}={sp.latex(expr)} \\: {unit}$\"))\n",
    "    \n",
    "def reduce_feedback(G_fwd, G_bwd):\n",
    "    \"\"\"Assumes feedback is deducted from signal, if not\n",
    "    change sign of feedback\"\"\"\n",
    "    return sp.simplify(G_fwd/(1+G_fwd*G_bwd))\n",
    "\n",
    "def RHarray(coeffs: List):\n",
    "    # first 2 rows from coefficients\n",
    "    n = len(coeffs)\n",
    "    arr = sp.zeros(n, n//2+2)\n",
    "    i = 0\n",
    "    for i in range(0,n,2):\n",
    "        arr[0, i//2] = coeffs[i]\n",
    "    for i in range(1,n,2):\n",
    "        arr[1, i//2] = coeffs[i]\n",
    "\n",
    "    for j in range(2, arr.shape[0]):\n",
    "        for i in range(arr.shape[1]-1):\n",
    "            a0 = arr[j-2,0]\n",
    "            a3 = a1 = arr[j-1,i+1]\n",
    "            a1 = arr[j-1,0]\n",
    "            a2 = arr[j-2,i+1]\n",
    "            arr[j, i] = (a1*a2-a0*a3)/a1\n",
    "    return arr"
   ]
  },
  {
   "cell_type": "markdown",
   "metadata": {},
   "source": [
    "# P6.8"
   ]
  },
  {
   "cell_type": "markdown",
   "metadata": {},
   "source": [
    "## a)"
   ]
  },
  {
   "cell_type": "code",
   "execution_count": 2,
   "metadata": {},
   "outputs": [],
   "source": [
    "K1, K2, K3, s, t = sp.symbols('K1, K2, K3, s, t')\n",
    "tau1, tau3, tau4 = 0.5, 1, 1/4\n",
    "Gs = K1/(tau1*s + 1)\n",
    "Gd = K3/((tau3*s + 1)*(tau4*s + 1))"
   ]
  },
  {
   "cell_type": "code",
   "execution_count": 3,
   "metadata": {},
   "outputs": [
    {
     "data": {
      "text/latex": [
       "$\\displaystyle \\frac{K_{1} K_{2} K_{3}}{K_{1} K_{2} K_{3} + \\left(0.25 s + 1\\right) \\left(0.5 s + 1\\right) \\left(s + 1\\right)}$"
      ],
      "text/plain": [
       "K1*K2*K3/(K1*K2*K3 + (0.25*s + 1)*(0.5*s + 1)*(s + 1))"
      ]
     },
     "execution_count": 3,
     "metadata": {},
     "output_type": "execute_result"
    }
   ],
   "source": [
    "T = reduce_feedback(Gs*K2*Gd, 1)\n",
    "T"
   ]
  },
  {
   "cell_type": "markdown",
   "metadata": {},
   "source": [
    "The coefficients of the characteristic equation are"
   ]
  },
  {
   "cell_type": "code",
   "execution_count": 4,
   "metadata": {},
   "outputs": [
    {
     "data": {
      "text/latex": [
       "$s^3: 0.125$"
      ],
      "text/plain": [
       "<IPython.core.display.Latex object>"
      ]
     },
     "metadata": {},
     "output_type": "display_data"
    },
    {
     "data": {
      "text/latex": [
       "$s^2: 0.875$"
      ],
      "text/plain": [
       "<IPython.core.display.Latex object>"
      ]
     },
     "metadata": {},
     "output_type": "display_data"
    },
    {
     "data": {
      "text/latex": [
       "$s^1: 1.75$"
      ],
      "text/plain": [
       "<IPython.core.display.Latex object>"
      ]
     },
     "metadata": {},
     "output_type": "display_data"
    },
    {
     "data": {
      "text/latex": [
       "$s^0: 1.0 K_{1} K_{2} K_{3} + 1.0$"
      ],
      "text/plain": [
       "<IPython.core.display.Latex object>"
      ]
     },
     "metadata": {},
     "output_type": "display_data"
    }
   ],
   "source": [
    "p, q = T.as_numer_denom()\n",
    "coeffs = sp.Poly(q, s).coeffs()\n",
    "for i, k in enumerate(coeffs):\n",
    "    display(Latex(f\"${f's^{len(coeffs)-1-i}'}: {sp.latex(k)}$\"))"
   ]
  },
  {
   "cell_type": "code",
   "execution_count": 5,
   "metadata": {},
   "outputs": [
    {
     "data": {
      "text/latex": [
       "$\\displaystyle \\left[\\begin{matrix}0.125 & 1.75 & 0 & 0\\\\0.875 & 1.0 K_{1} K_{2} K_{3} + 1.0 & 0 & 0\\\\- 0.142857142857143 K_{1} K_{2} K_{3} + 1.60714285714286 & 0 & 0 & 0\\\\1.0 K_{1} K_{2} K_{3} + 1.0 & 0 & 0 & 0\\end{matrix}\\right]$"
      ],
      "text/plain": [
       "Matrix([\n",
       "[                                         0.125,               1.75, 0, 0],\n",
       "[                                         0.875, 1.0*K1*K2*K3 + 1.0, 0, 0],\n",
       "[-0.142857142857143*K1*K2*K3 + 1.60714285714286,                  0, 0, 0],\n",
       "[                            1.0*K1*K2*K3 + 1.0,                  0, 0, 0]])"
      ]
     },
     "execution_count": 5,
     "metadata": {},
     "output_type": "execute_result"
    }
   ],
   "source": [
    "arr = RHarray(coeffs)\n",
    "arr"
   ]
  },
  {
   "cell_type": "markdown",
   "metadata": {},
   "source": [
    "Now applying the Routh Hurwitz criterion to the first columnm, all coefficients should be positive, which gives the bounding equation:"
   ]
  },
  {
   "cell_type": "code",
   "execution_count": 6,
   "metadata": {},
   "outputs": [
    {
     "data": {
      "text/latex": [
       "$\\displaystyle K_{1} K_{2} K_{3} < 11.25$"
      ],
      "text/plain": [
       "K1*K2*K3 < 11.25"
      ]
     },
     "execution_count": 6,
     "metadata": {},
     "output_type": "execute_result"
    }
   ],
   "source": [
    "K = sp.symbols('K', positive=True)\n",
    "sol = sp.solve([arr[2, 0].subs(K1*K2*K3, K) > 0, arr[3, 0].subs(K1*K2*K3, K) > 0], K).subs(K, K1*K2*K3)\n",
    "sol"
   ]
  },
  {
   "cell_type": "markdown",
   "metadata": {},
   "source": [
    "## b)"
   ]
  },
  {
   "cell_type": "code",
   "execution_count": 22,
   "metadata": {},
   "outputs": [
    {
     "data": {
      "text/latex": [
       "$$\\frac{3.75}{0.125 s^3 + 0.875 s^2 + 1.75 s + 4.75}$$"
      ],
      "text/plain": [
       "TransferFunction(array([3.75]), array([0.125, 0.875, 1.75 , 4.75 ]))"
      ]
     },
     "execution_count": 22,
     "metadata": {},
     "output_type": "execute_result"
    }
   ],
   "source": [
    "K = float(sol.rhs)/3\n",
    "s = ct.tf('s')\n",
    "T = K/(K+(0.25*s+1)*(0.5*s+1)*(s+1))\n",
    "T"
   ]
  },
  {
   "cell_type": "markdown",
   "metadata": {},
   "source": [
    "We can analyse the poles of the system to see if it can be reduced to a second order system"
   ]
  },
  {
   "cell_type": "code",
   "execution_count": 8,
   "metadata": {},
   "outputs": [
    {
     "data": {
      "text/latex": [
       "$-s_0=\\mathtt{\\text{(-5.714+0j)}} \\: $"
      ],
      "text/plain": [
       "<IPython.core.display.Latex object>"
      ]
     },
     "metadata": {},
     "output_type": "display_data"
    },
    {
     "data": {
      "text/latex": [
       "$-s_1=\\mathtt{\\text{(-0.643+2.497j)}} \\: $"
      ],
      "text/plain": [
       "<IPython.core.display.Latex object>"
      ]
     },
     "metadata": {},
     "output_type": "display_data"
    },
    {
     "data": {
      "text/latex": [
       "$-s_2=\\mathtt{\\text{(-0.643-2.497j)}} \\: $"
      ],
      "text/plain": [
       "<IPython.core.display.Latex object>"
      ]
     },
     "metadata": {},
     "output_type": "display_data"
    }
   ],
   "source": [
    "poles = T.poles()\n",
    "for i, p in enumerate(poles):\n",
    "    eq_disp(f'-s_{i}', np.round(p,3))"
   ]
  },
  {
   "cell_type": "markdown",
   "metadata": {},
   "source": [
    "Since one poles real value is approximately 10 times larger than the others it can be neglected so we simplify to a second order system"
   ]
  },
  {
   "cell_type": "code",
   "execution_count": 9,
   "metadata": {},
   "outputs": [
    {
     "data": {
      "text/latex": [
       "$$\\frac{3.75}{s^2 + 1.286 s + 6.651}$$"
      ],
      "text/plain": [
       "TransferFunction(array([3.75]), array([1.        +0.j, 1.28626173+0.j, 6.65063714+0.j]))"
      ]
     },
     "execution_count": 9,
     "metadata": {},
     "output_type": "execute_result"
    }
   ],
   "source": [
    "T_reduced = sum(T.num[0])/np.prod([s-p for p in poles[1:]])\n",
    "T_reduced"
   ]
  },
  {
   "cell_type": "markdown",
   "metadata": {},
   "source": [
    "Get damping ratio and natural frequency"
   ]
  },
  {
   "cell_type": "code",
   "execution_count": 10,
   "metadata": {},
   "outputs": [
    {
     "name": "stderr",
     "output_type": "stream",
     "text": [
      "c:\\Users\\osteb\\anaconda3\\envs\\main\\lib\\site-packages\\control\\xferfcn.py:1055: ComplexWarning: Casting complex values to real discards the imaginary part\n",
      "  den[j, :maxindex+1] = poly(poles[j])\n",
      "c:\\Users\\osteb\\anaconda3\\envs\\main\\lib\\site-packages\\control\\xferfcn.py:1085: ComplexWarning: Casting complex values to real discards the imaginary part\n",
      "  num[i, j, maxindex+1-len(numpoly):maxindex+1] = numpoly\n"
     ]
    },
    {
     "data": {
      "text/latex": [
       "$\\omega=2.579 \\: $"
      ],
      "text/plain": [
       "<IPython.core.display.Latex object>"
      ]
     },
     "metadata": {},
     "output_type": "display_data"
    },
    {
     "data": {
      "text/latex": [
       "$\\zeta=0.249 \\: $"
      ],
      "text/plain": [
       "<IPython.core.display.Latex object>"
      ]
     },
     "metadata": {},
     "output_type": "display_data"
    }
   ],
   "source": [
    "omega, zeta, _ =T_reduced.damp()\n",
    "omega = omega[0]\n",
    "zeta = zeta[0]\n",
    "eq_disp('\\omega', round(omega,3))\n",
    "eq_disp('\\zeta', round(zeta,3))"
   ]
  },
  {
   "cell_type": "markdown",
   "metadata": {},
   "source": [
    "The setling time at 2% threshold is calculated by:\n",
    "$$\n",
    "T_s=4 \\tau=\\frac{4}{\\xi \\omega_n}\n",
    "$$"
   ]
  },
  {
   "cell_type": "code",
   "execution_count": 11,
   "metadata": {},
   "outputs": [
    {
     "data": {
      "text/latex": [
       "$T_s=6.22 \\: $"
      ],
      "text/plain": [
       "<IPython.core.display.Latex object>"
      ]
     },
     "metadata": {},
     "output_type": "display_data"
    }
   ],
   "source": [
    "Ts = 4/(zeta*omega)\n",
    "eq_disp('T_s', round(Ts,3))"
   ]
  },
  {
   "cell_type": "markdown",
   "metadata": {},
   "source": [
    "We see that the settling time is larger than the requirment"
   ]
  },
  {
   "cell_type": "markdown",
   "metadata": {},
   "source": [
    "## c)"
   ]
  },
  {
   "cell_type": "markdown",
   "metadata": {},
   "source": [
    "The value of K that meets requirements is found by plotting the setling time for a range of values of K"
   ]
  },
  {
   "cell_type": "code",
   "execution_count": 12,
   "metadata": {},
   "outputs": [
    {
     "data": {
      "image/png": "[encoded data removed]",
      "text/plain": [
       "<Figure size 432x288 with 1 Axes>"
      ]
     },
     "metadata": {
      "needs_background": "light"
     },
     "output_type": "display_data"
    }
   ],
   "source": [
    "def Ts_f(K):\n",
    "    s = ct.tf('s')\n",
    "    T = K/(K+(0.25*s+1)*(0.5*s+1)*(s+1))\n",
    "    poles = T.poles()\n",
    "    T_reduced = sum(T.num[0])/np.prod([s-p for p in poles[1:]])\n",
    "    omega, zeta, _ =T_reduced.damp()\n",
    "    omega = omega[0]\n",
    "    zeta = zeta[0]\n",
    "    return 4/(zeta*omega)-4\n",
    "\n",
    "Kspan = np.r_[0.1:6:0.1]\n",
    "Ts_array = np.vectorize(Ts_f)(Kspan)\n",
    "plt.plot(Kspan, Ts_array)\n",
    "plt.xlabel('K')\n",
    "plt.ylabel('$T_s$')\n",
    "plt.grid()\n",
    "plt.show()"
   ]
  },
  {
   "cell_type": "markdown",
   "metadata": {},
   "source": [
    "The maximum value of K that still meets requirements is:"
   ]
  },
  {
   "cell_type": "code",
   "execution_count": 13,
   "metadata": {},
   "outputs": [
    {
     "data": {
      "text/latex": [
       "$K=5.0 \\: $"
      ],
      "text/plain": [
       "<IPython.core.display.Latex object>"
      ]
     },
     "metadata": {},
     "output_type": "display_data"
    }
   ],
   "source": [
    "Kmax = Kspan[np.argmin(abs(Ts_array-4))]\n",
    "eq_disp('K',round(Kmax,3))"
   ]
  },
  {
   "cell_type": "markdown",
   "metadata": {},
   "source": [
    "# P6.15"
   ]
  },
  {
   "cell_type": "code",
   "execution_count": 14,
   "metadata": {},
   "outputs": [
    {
     "data": {
      "text/latex": [
       "$L(s)=\\frac{K \\left(s^{2} + 30 s + 1125\\right)}{s \\left(s + 20\\right) \\left(s^{2} + 10 s + 125\\right) \\left(s^{2} + 60 s + 3400\\right)} \\: $"
      ],
      "text/plain": [
       "<IPython.core.display.Latex object>"
      ]
     },
     "metadata": {},
     "output_type": "display_data"
    },
    {
     "data": {
      "text/latex": [
       "$T(s)=\\frac{K \\left(s^{2} + 30 s + 1125\\right)}{K \\left(s^{2} + 30 s + 1125\\right) + s \\left(s + 20\\right) \\left(s^{2} + 10 s + 125\\right) \\left(s^{2} + 60 s + 3400\\right)} \\: $"
      ],
      "text/plain": [
       "<IPython.core.display.Latex object>"
      ]
     },
     "metadata": {},
     "output_type": "display_data"
    }
   ],
   "source": [
    "s = sp.symbols('s')\n",
    "K = sp.symbols('K', positive=True)\n",
    "L = K*(s**2 + 30*s + 1125)/(s*(s + 20)*(s**2 + 10*s + 125)*(s**2 + 60*s + 3400))\n",
    "eq_disp('L(s)', L)\n",
    "\n",
    "T = reduce_feedback(L,1)\n",
    "eq_disp('T(s)', T)\n",
    "\n",
    "p, q = T.as_numer_denom()"
   ]
  },
  {
   "cell_type": "markdown",
   "metadata": {},
   "source": [
    "# a)"
   ]
  },
  {
   "cell_type": "markdown",
   "metadata": {},
   "source": [
    "Neglecting the numerator polynomial (zeros) and the denominator polynomial $(s^2+60s+3400)$"
   ]
  },
  {
   "cell_type": "code",
   "execution_count": 15,
   "metadata": {},
   "outputs": [
    {
     "data": {
      "text/latex": [
       "$L(s)=\\frac{K}{s \\left(s + 20\\right) \\left(s^{2} + 10 s + 125\\right)} \\: $"
      ],
      "text/plain": [
       "<IPython.core.display.Latex object>"
      ]
     },
     "metadata": {},
     "output_type": "display_data"
    },
    {
     "data": {
      "text/latex": [
       "$T(s)=\\frac{K}{K + s \\left(s + 20\\right) \\left(s^{2} + 10 s + 125\\right)} \\: $"
      ],
      "text/plain": [
       "<IPython.core.display.Latex object>"
      ]
     },
     "metadata": {},
     "output_type": "display_data"
    }
   ],
   "source": [
    "La = K/(s*(s + 20)*(s**2 + 10*s + 125))\n",
    "eq_disp('L(s)', La)\n",
    "\n",
    "Ta = reduce_feedback(La,1)\n",
    "eq_disp('T(s)', Ta)\n",
    "\n",
    "pa, qa = Ta.as_numer_denom()"
   ]
  },
  {
   "cell_type": "markdown",
   "metadata": {},
   "source": [
    "We get the characteristic equation with the following coefficients"
   ]
  },
  {
   "cell_type": "code",
   "execution_count": 16,
   "metadata": {},
   "outputs": [
    {
     "data": {
      "text/latex": [
       "$q(s)=\\operatorname{Poly}{\\left( s^{4} + 30 s^{3} + 325 s^{2} + 2500 s + K, s, domain=\\mathbb{Z}\\left[K\\right] \\right)} \\: $"
      ],
      "text/plain": [
       "<IPython.core.display.Latex object>"
      ]
     },
     "metadata": {},
     "output_type": "display_data"
    },
    {
     "data": {
      "text/latex": [
       "$s^4: 1$"
      ],
      "text/plain": [
       "<IPython.core.display.Latex object>"
      ]
     },
     "metadata": {},
     "output_type": "display_data"
    },
    {
     "data": {
      "text/latex": [
       "$s^3: 30$"
      ],
      "text/plain": [
       "<IPython.core.display.Latex object>"
      ]
     },
     "metadata": {},
     "output_type": "display_data"
    },
    {
     "data": {
      "text/latex": [
       "$s^2: 325$"
      ],
      "text/plain": [
       "<IPython.core.display.Latex object>"
      ]
     },
     "metadata": {},
     "output_type": "display_data"
    },
    {
     "data": {
      "text/latex": [
       "$s^1: 2500$"
      ],
      "text/plain": [
       "<IPython.core.display.Latex object>"
      ]
     },
     "metadata": {},
     "output_type": "display_data"
    },
    {
     "data": {
      "text/latex": [
       "$s^0: K$"
      ],
      "text/plain": [
       "<IPython.core.display.Latex object>"
      ]
     },
     "metadata": {},
     "output_type": "display_data"
    }
   ],
   "source": [
    "coeffs = sp.Poly(qa, s).coeffs()\n",
    "eq_disp('q(s)', sp.Poly(qa, s))\n",
    "for i, k in enumerate(coeffs):\n",
    "    display(Latex(f\"${f's^{len(coeffs)-1-i}'}: {sp.latex(k)}$\"))"
   ]
  },
  {
   "cell_type": "markdown",
   "metadata": {},
   "source": [
    "Generate a Routh array"
   ]
  },
  {
   "cell_type": "code",
   "execution_count": 17,
   "metadata": {},
   "outputs": [
    {
     "data": {
      "text/latex": [
       "$\\displaystyle \\left[\\begin{matrix}1 & 325 & K & 0\\\\30 & 2500 & 0 & 0\\\\\\frac{725}{3} & K & 0 & 0\\\\2500 - \\frac{18 K}{145} & 0 & 0 & 0\\\\K & 0 & 0 & 0\\end{matrix}\\right]$"
      ],
      "text/plain": [
       "Matrix([\n",
       "[              1,  325, K, 0],\n",
       "[             30, 2500, 0, 0],\n",
       "[          725/3,    K, 0, 0],\n",
       "[2500 - 18*K/145,    0, 0, 0],\n",
       "[              K,    0, 0, 0]])"
      ]
     },
     "execution_count": 17,
     "metadata": {},
     "output_type": "execute_result"
    }
   ],
   "source": [
    "arr = RHarray(coeffs)\n",
    "arr"
   ]
  },
  {
   "cell_type": "markdown",
   "metadata": {},
   "source": [
    "No change of sign in the first column so\n",
    "$$K>0$$\n",
    "and\n",
    "$$2500 - \\frac{18K}{145}>0$$\n",
    "\n",
    "So the acceptable range of $K$ is"
   ]
  },
  {
   "cell_type": "code",
   "execution_count": 18,
   "metadata": {},
   "outputs": [
    {
     "data": {
      "text/latex": [
       "$\\displaystyle K < \\frac{181250}{9}$"
      ],
      "text/plain": [
       "K < 181250/9"
      ]
     },
     "execution_count": 18,
     "metadata": {},
     "output_type": "execute_result"
    }
   ],
   "source": [
    "sol = sp.solve([arr[3,0] > 0, arr[4,0] > 0], K)\n",
    "sol"
   ]
  },
  {
   "cell_type": "markdown",
   "metadata": {},
   "source": [
    "## b)"
   ]
  },
  {
   "cell_type": "markdown",
   "metadata": {},
   "source": [
    "The characteristic equation with the coefficients"
   ]
  },
  {
   "cell_type": "code",
   "execution_count": 19,
   "metadata": {},
   "outputs": [
    {
     "data": {
      "text/latex": [
       "$q(s)=\\operatorname{Poly}{\\left( s^{6} + 90 s^{5} + 5525 s^{4} + 124000 s^{3} + \\left(K + 1255000\\right) s^{2} + \\left(30 K + 8500000\\right) s + 1125 K, s, domain=\\mathbb{Z}\\left[K\\right] \\right)} \\: $"
      ],
      "text/plain": [
       "<IPython.core.display.Latex object>"
      ]
     },
     "metadata": {},
     "output_type": "display_data"
    },
    {
     "data": {
      "text/latex": [
       "$s^6: 1$"
      ],
      "text/plain": [
       "<IPython.core.display.Latex object>"
      ]
     },
     "metadata": {},
     "output_type": "display_data"
    },
    {
     "data": {
      "text/latex": [
       "$s^5: 90$"
      ],
      "text/plain": [
       "<IPython.core.display.Latex object>"
      ]
     },
     "metadata": {},
     "output_type": "display_data"
    },
    {
     "data": {
      "text/latex": [
       "$s^4: 5525$"
      ],
      "text/plain": [
       "<IPython.core.display.Latex object>"
      ]
     },
     "metadata": {},
     "output_type": "display_data"
    },
    {
     "data": {
      "text/latex": [
       "$s^3: 124000$"
      ],
      "text/plain": [
       "<IPython.core.display.Latex object>"
      ]
     },
     "metadata": {},
     "output_type": "display_data"
    },
    {
     "data": {
      "text/latex": [
       "$s^2: K + 1255000$"
      ],
      "text/plain": [
       "<IPython.core.display.Latex object>"
      ]
     },
     "metadata": {},
     "output_type": "display_data"
    },
    {
     "data": {
      "text/latex": [
       "$s^1: 30 K + 8500000$"
      ],
      "text/plain": [
       "<IPython.core.display.Latex object>"
      ]
     },
     "metadata": {},
     "output_type": "display_data"
    },
    {
     "data": {
      "text/latex": [
       "$s^0: 1125 K$"
      ],
      "text/plain": [
       "<IPython.core.display.Latex object>"
      ]
     },
     "metadata": {},
     "output_type": "display_data"
    }
   ],
   "source": [
    "coeffs = sp.Poly(q, s).coeffs()\n",
    "eq_disp('q(s)', sp.Poly(q, s))\n",
    "for i, k in enumerate(coeffs):\n",
    "    display(Latex(f\"${f's^{len(coeffs)-1-i}'}: {sp.latex(k)}$\"))"
   ]
  },
  {
   "cell_type": "code",
   "execution_count": 20,
   "metadata": {},
   "outputs": [
    {
     "data": {
      "text/latex": [
       "$\\displaystyle \\left[\\begin{matrix}1.0 & 5.53 \\cdot 10^{3} & K + 1.25 \\cdot 10^{6} & 1.13 \\cdot 10^{3} K & 0\\\\90.0 & 1.24 \\cdot 10^{5} & 30.0 K + 8.5 \\cdot 10^{6} & 0 & 0\\\\4.15 \\cdot 10^{3} & 0.667 K + 1.16 \\cdot 10^{6} & 1.13 \\cdot 10^{3} K & 0 & 0\\\\9.88 \\cdot 10^{4} - 0.0145 K & 5.59 K + 8.5 \\cdot 10^{6} & 0 & 0 & 0\\\\\\frac{0.00964 K^{2} - 2.59 \\cdot 10^{4} K - 7.94 \\cdot 10^{10}}{0.0145 K - 9.88 \\cdot 10^{4}} & 1.13 \\cdot 10^{3} K & 0 & 0 & 0\\\\\\frac{0.289 K^{3} - 3.28 \\cdot 10^{6} K^{2} + 1.03 \\cdot 10^{13} K - 6.75 \\cdot 10^{17}}{0.00964 K^{2} - 2.59 \\cdot 10^{4} K - 7.94 \\cdot 10^{10}} & 0 & 0 & 0 & 0\\\\1.13 \\cdot 10^{3} K & 0 & 0 & 0 & 0\\end{matrix}\\right]$"
      ],
      "text/plain": [
       "Matrix([\n",
       "[                                                                                      1.0,           5.53e+3,     K + 1.25e+6, 1.13e+3*K, 0],\n",
       "[                                                                                     90.0,           1.24e+5, 30.0*K + 8.5e+6,         0, 0],\n",
       "[                                                                                  4.15e+3, 0.667*K + 1.16e+6,       1.13e+3*K,         0, 0],\n",
       "[                                                                       9.88e+4 - 0.0145*K,   5.59*K + 8.5e+6,               0,         0, 0],\n",
       "[                               (0.00964*K**2 - 2.59e+4*K - 7.94e+10)/(0.0145*K - 9.88e+4),         1.13e+3*K,               0,         0, 0],\n",
       "[(0.289*K**3 - 3.28e+6*K**2 + 1.03e+13*K - 6.75e+17)/(0.00964*K**2 - 2.59e+4*K - 7.94e+10),                 0,               0,         0, 0],\n",
       "[                                                                                1.13e+3*K,                 0,               0,         0, 0]])"
      ]
     },
     "execution_count": 20,
     "metadata": {},
     "output_type": "execute_result"
    }
   ],
   "source": [
    "arr = sp.simplify(sp.N(RHarray(coeffs),3))\n",
    "arr"
   ]
  },
  {
   "cell_type": "code",
   "execution_count": 21,
   "metadata": {},
   "outputs": [
    {
     "data": {
      "text/latex": [
       "$\\displaystyle \\left(K > 4512810.08888371 \\vee K < 66809.2900394205\\right) \\wedge \\left(K > 6830328.67607119 \\vee K < 4512810.08888371\\right) \\wedge K < 6830328.67607119$"
      ],
      "text/plain": [
       "(K < 6830328.67607119) & ((K > 4512810.08888371) | (K < 66809.2900394205)) & ((K > 6830328.67607119) | (K < 4512810.08888371))"
      ]
     },
     "execution_count": 21,
     "metadata": {},
     "output_type": "execute_result"
    }
   ],
   "source": [
    "sol = sp.solve([arr[3,0] > 0, arr[4,0] > 0, arr[5,0] > 0, arr[6,0] > 0], K)\n",
    "sp.simplify(sol)"
   ]
  },
  {
   "cell_type": "markdown",
   "metadata": {},
   "source": [
    "Meaning that\n",
    "$$0< K < 66809$$"
   ]
  },
  {
   "cell_type": "markdown",
   "metadata": {},
   "source": [
    "# AP6.6"
   ]
  },
  {
   "cell_type": "code",
   "execution_count": 22,
   "metadata": {},
   "outputs": [
    {
     "data": {
      "text/latex": [
       "$G(s)=\\frac{1}{\\left(s + 1\\right) \\left(s + 2\\right) \\left(s + 4\\right)} \\: $"
      ],
      "text/plain": [
       "<IPython.core.display.Latex object>"
      ]
     },
     "metadata": {},
     "output_type": "display_data"
    },
    {
     "data": {
      "text/latex": [
       "$G_c(s)=K_{D} s + K_{p} \\: $"
      ],
      "text/plain": [
       "<IPython.core.display.Latex object>"
      ]
     },
     "metadata": {},
     "output_type": "display_data"
    }
   ],
   "source": [
    "K_p, K_D = sp.symbols('K_p, K_D', positive=True)\n",
    "s = sp.symbols('s')\n",
    "G = 1/((s + 1)*(s + 2)*(s + 4))\n",
    "G_c = K_p + K_D*s\n",
    "eq_disp('G(s)', G)\n",
    "eq_disp('G_c(s)', G_c)"
   ]
  },
  {
   "cell_type": "code",
   "execution_count": 23,
   "metadata": {},
   "outputs": [
    {
     "data": {
      "text/latex": [
       "$T(s)=\\frac{K_{D} s + K_{p}}{K_{D} s + K_{p} + \\left(s + 1\\right) \\left(s + 2\\right) \\left(s + 4\\right)} \\: $"
      ],
      "text/plain": [
       "<IPython.core.display.Latex object>"
      ]
     },
     "metadata": {},
     "output_type": "display_data"
    }
   ],
   "source": [
    "T = reduce_feedback(G*G_c, 1)\n",
    "eq_disp('T(s)', T)"
   ]
  },
  {
   "cell_type": "code",
   "execution_count": 24,
   "metadata": {},
   "outputs": [
    {
     "data": {
      "text/latex": [
       "$q(s)=\\operatorname{Poly}{\\left( s^{3} + 7 s^{2} + \\left(K_{D} + 14\\right) s + K_{p} + 8, s, domain=\\mathbb{Z}\\left[K_{D}, K_{p}\\right] \\right)} \\: $"
      ],
      "text/plain": [
       "<IPython.core.display.Latex object>"
      ]
     },
     "metadata": {},
     "output_type": "display_data"
    },
    {
     "data": {
      "text/latex": [
       "$s^3: 1$"
      ],
      "text/plain": [
       "<IPython.core.display.Latex object>"
      ]
     },
     "metadata": {},
     "output_type": "display_data"
    },
    {
     "data": {
      "text/latex": [
       "$s^2: 7$"
      ],
      "text/plain": [
       "<IPython.core.display.Latex object>"
      ]
     },
     "metadata": {},
     "output_type": "display_data"
    },
    {
     "data": {
      "text/latex": [
       "$s^1: K_{D} + 14$"
      ],
      "text/plain": [
       "<IPython.core.display.Latex object>"
      ]
     },
     "metadata": {},
     "output_type": "display_data"
    },
    {
     "data": {
      "text/latex": [
       "$s^0: K_{p} + 8$"
      ],
      "text/plain": [
       "<IPython.core.display.Latex object>"
      ]
     },
     "metadata": {},
     "output_type": "display_data"
    }
   ],
   "source": [
    "p, q = T.as_numer_denom()\n",
    "eq_disp('q(s)', sp.Poly(q, s))\n",
    "coeffs = sp.Poly(q, s).coeffs()\n",
    "for i, k in enumerate(coeffs):\n",
    "    display(Latex(f\"${f's^{len(coeffs)-1-i}'}: {sp.latex(k)}$\"))"
   ]
  },
  {
   "cell_type": "code",
   "execution_count": 25,
   "metadata": {},
   "outputs": [
    {
     "data": {
      "text/latex": [
       "$\\displaystyle \\left[\\begin{matrix}1 & K_{D} + 14 & 0 & 0\\\\7 & K_{p} + 8 & 0 & 0\\\\K_{D} - \\frac{K_{p}}{7} + \\frac{90}{7} & 0 & 0 & 0\\\\K_{p} + 8 & 0 & 0 & 0\\end{matrix}\\right]$"
      ],
      "text/plain": [
       "Matrix([\n",
       "[                 1, K_D + 14, 0, 0],\n",
       "[                 7,  K_p + 8, 0, 0],\n",
       "[K_D - K_p/7 + 90/7,        0, 0, 0],\n",
       "[           K_p + 8,        0, 0, 0]])"
      ]
     },
     "execution_count": 25,
     "metadata": {},
     "output_type": "execute_result"
    }
   ],
   "source": [
    "arr = sp.simplify(RHarray(coeffs))\n",
    "arr"
   ]
  },
  {
   "cell_type": "markdown",
   "metadata": {},
   "source": [
    "So for the stable system the relationship between $K_p$ and $K_D$ is obtained"
   ]
  },
  {
   "cell_type": "code",
   "execution_count": 26,
   "metadata": {},
   "outputs": [
    {
     "data": {
      "text/latex": [
       "$\\displaystyle K_{p} < 7 K_{D} + 90$"
      ],
      "text/plain": [
       "K_p < 7*K_D + 90"
      ]
     },
     "execution_count": 26,
     "metadata": {},
     "output_type": "execute_result"
    }
   ],
   "source": [
    "sol = sp.solve([arr[2,0] > 0, arr[3,0] > 0], K_p)\n",
    "sol"
   ]
  },
  {
   "cell_type": "code",
   "execution_count": 27,
   "metadata": {},
   "outputs": [
    {
     "data": {
      "text/plain": [
       "<matplotlib.legend.Legend at 0x7fdb1a4eb160>"
      ]
     },
     "execution_count": 27,
     "metadata": {},
     "output_type": "execute_result"
    },
    {
     "data": {
      "image/png": "[encoded data removed]",
      "text/plain": [
       "<Figure size 648x360 with 1 Axes>"
      ]
     },
     "metadata": {
      "needs_background": "light"
     },
     "output_type": "display_data"
    }
   ],
   "source": [
    "K_D_span = np.arange(0,100,1)\n",
    "\n",
    "K_p_max = 7*K_D_span + 90\n",
    "\n",
    "fig, ax1 = plt.subplots(figsize=(9, 5))\n",
    "\n",
    "ax1.plot(K_D_span, K_p_max)\n",
    "ax1.fill_between(K_D_span, K_p_max, alpha=.5, linewidth=0)\n",
    "ax1.set_xlabel('$K_D$')\n",
    "ax1.set_ylabel('$K_p$')\n",
    "ax1.legend(['Max $K_p$','Stable region'])"
   ]
  },
  {
   "cell_type": "markdown",
   "metadata": {},
   "source": [
    "# DP6.4"
   ]
  },
  {
   "cell_type": "code",
   "execution_count": 28,
   "metadata": {},
   "outputs": [
    {
     "data": {
      "text/latex": [
       "$T(s)=\\frac{K \\left(m + s\\right) \\left(s + 2\\right)}{K \\left(m + s\\right) \\left(s + 2\\right) + s \\left(s^{2} - 1\\right)} \\: $"
      ],
      "text/plain": [
       "<IPython.core.display.Latex object>"
      ]
     },
     "metadata": {},
     "output_type": "display_data"
    }
   ],
   "source": [
    "m, K = sp.symbols('m, K', postive=True)\n",
    "G_c = (s + m)*(s + 2)/s\n",
    "G = K/(s**2 - 1)\n",
    "T = reduce_feedback(G_c*G, 1)\n",
    "eq_disp('T(s)', T)"
   ]
  },
  {
   "cell_type": "markdown",
   "metadata": {},
   "source": [
    "## a)"
   ]
  },
  {
   "cell_type": "code",
   "execution_count": 29,
   "metadata": {},
   "outputs": [
    {
     "data": {
      "text/latex": [
       "$q(s)=\\operatorname{Poly}{\\left( s^{3} + K s^{2} + \\left(K m + 2 K - 1\\right) s + 2 K m, s, domain=\\mathbb{Z}\\left[m, K\\right] \\right)} \\: $"
      ],
      "text/plain": [
       "<IPython.core.display.Latex object>"
      ]
     },
     "metadata": {},
     "output_type": "display_data"
    },
    {
     "data": {
      "text/latex": [
       "$s^3: 1$"
      ],
      "text/plain": [
       "<IPython.core.display.Latex object>"
      ]
     },
     "metadata": {},
     "output_type": "display_data"
    },
    {
     "data": {
      "text/latex": [
       "$s^2: K$"
      ],
      "text/plain": [
       "<IPython.core.display.Latex object>"
      ]
     },
     "metadata": {},
     "output_type": "display_data"
    },
    {
     "data": {
      "text/latex": [
       "$s^1: K m + 2 K - 1$"
      ],
      "text/plain": [
       "<IPython.core.display.Latex object>"
      ]
     },
     "metadata": {},
     "output_type": "display_data"
    },
    {
     "data": {
      "text/latex": [
       "$s^0: 2 K m$"
      ],
      "text/plain": [
       "<IPython.core.display.Latex object>"
      ]
     },
     "metadata": {},
     "output_type": "display_data"
    }
   ],
   "source": [
    "p, q = T.as_numer_denom()\n",
    "eq_disp('q(s)', sp.Poly(q, s))\n",
    "coeffs = sp.Poly(q, s).coeffs()\n",
    "for i, k in enumerate(coeffs):\n",
    "    display(Latex(f\"${f's^{len(coeffs)-1-i}'}: {sp.latex(k)}$\"))"
   ]
  },
  {
   "cell_type": "code",
   "execution_count": 30,
   "metadata": {},
   "outputs": [
    {
     "data": {
      "text/latex": [
       "$\\displaystyle \\left[\\begin{matrix}1 & K m + 2 K - 1 & 0 & 0\\\\K & 2 K m & 0 & 0\\\\K m + 2 K - 2 m - 1 & 0 & 0 & 0\\\\2 K m & 0 & 0 & 0\\end{matrix}\\right]$"
      ],
      "text/plain": [
       "Matrix([\n",
       "[                  1, K*m + 2*K - 1, 0, 0],\n",
       "[                  K,         2*K*m, 0, 0],\n",
       "[K*m + 2*K - 2*m - 1,             0, 0, 0],\n",
       "[              2*K*m,             0, 0, 0]])"
      ]
     },
     "execution_count": 30,
     "metadata": {},
     "output_type": "execute_result"
    }
   ],
   "source": [
    "arr = sp.simplify(RHarray(coeffs))\n",
    "arr"
   ]
  },
  {
   "cell_type": "code",
   "execution_count": 31,
   "metadata": {},
   "outputs": [
    {
     "data": {
      "text/latex": [
       "$\\displaystyle 2 K m > 0 \\wedge K \\left(m + 2\\right) > 2 m + 1$"
      ],
      "text/plain": [
       "(2*K*m > 0) & (K*(m + 2) > 2*m + 1)"
      ]
     },
     "execution_count": 31,
     "metadata": {},
     "output_type": "execute_result"
    }
   ],
   "source": [
    "sol = sp.solve([arr[2,0] > 0, arr[3,0] > 0], K)\n",
    "sol"
   ]
  },
  {
   "cell_type": "markdown",
   "metadata": {},
   "source": [
    "So\n",
    "$$ K > \\frac{2m+1}{m+2}$$"
   ]
  },
  {
   "cell_type": "code",
   "execution_count": 32,
   "metadata": {},
   "outputs": [
    {
     "data": {
      "text/plain": [
       "<matplotlib.legend.Legend at 0x7fdb1a3ba250>"
      ]
     },
     "execution_count": 32,
     "metadata": {},
     "output_type": "execute_result"
    },
    {
     "data": {
      "image/png": "[encoded data removed]",
      "text/plain": [
       "<Figure size 648x360 with 1 Axes>"
      ]
     },
     "metadata": {
      "needs_background": "light"
     },
     "output_type": "display_data"
    }
   ],
   "source": [
    "m_span = np.arange(0,100,1)\n",
    "\n",
    "K_min = (2*m_span + 1)/(m_span + 2)\n",
    "\n",
    "fig, ax = plt.subplots(figsize=(9, 5))\n",
    "ax.plot(m_span, K_min)\n",
    "ax.fill_between(m_span, K_min, 5, alpha=.5, linewidth=0)\n",
    "ax.set_xlabel('$m$')\n",
    "ax.set_ylabel('$K$')\n",
    "ax.legend(['Min $K$','Stable region'])"
   ]
  },
  {
   "cell_type": "markdown",
   "metadata": {},
   "source": [
    "## b)"
   ]
  },
  {
   "cell_type": "markdown",
   "metadata": {},
   "source": [
    "Steady state error\n",
    "$$E(s) = R(s) - Y(s) = R(s) - R(s)T(s) = R(s)(1 - T(s)) $$\n",
    "$$e_{ss} = \\lim_{s \\to 0} s E(s) = \\lim_{s \\to 0} s R(s)(1 - T(s))$$\n",
    "\n",
    "The ramp input with magnitude $K_R$ is\n",
    "$$R(s) = \\frac{K_R}{s^2}$$\n",
    "\n",
    "So the steady state error is"
   ]
  },
  {
   "cell_type": "code",
   "execution_count": 33,
   "metadata": {},
   "outputs": [
    {
     "data": {
      "text/latex": [
       "$e_{ss}=- \\frac{K_{R}}{2 K m} \\: $"
      ],
      "text/plain": [
       "<IPython.core.display.Latex object>"
      ]
     },
     "metadata": {},
     "output_type": "display_data"
    }
   ],
   "source": [
    "K_R = sp.symbols('K_R')\n",
    "\n",
    "R = K_R/s**2\n",
    "\n",
    "E = sp.simplify(R*(1 - T))\n",
    "\n",
    "e_ss = sp.limit(s*E, s, 0)\n",
    "eq_disp('e_{ss}', e_ss)"
   ]
  },
  {
   "cell_type": "markdown",
   "metadata": {},
   "source": [
    "If the steady state error is to be less than 10% of the input magnitude $K_R$"
   ]
  },
  {
   "cell_type": "code",
   "execution_count": 34,
   "metadata": {},
   "outputs": [
    {
     "data": {
      "text/latex": [
       "$K m > 5.00$"
      ],
      "text/plain": [
       "<IPython.core.display.Latex object>"
      ]
     },
     "metadata": {},
     "output_type": "display_data"
    }
   ],
   "source": [
    "para = sp.symbols('para')\n",
    "sol = sp.solve((e_ss - 0.1*K_R).subs(K*m, para), para)[0]\n",
    "\n",
    "display(Latex(f'$K m > {np.abs(sp.N(sol,3))}$'))"
   ]
  },
  {
   "cell_type": "markdown",
   "metadata": {},
   "source": [
    "## c)"
   ]
  },
  {
   "cell_type": "markdown",
   "metadata": {},
   "source": [
    "$K$ and $m$ are chosen to satisfy the condition above\n",
    "$$K = 2$$\n",
    "$$m = 3$$"
   ]
  },
  {
   "cell_type": "code",
   "execution_count": 35,
   "metadata": {},
   "outputs": [
    {
     "data": {
      "text/latex": [
       "$\\displaystyle \\frac{2 \\left(s + 2\\right) \\left(s + 3\\right)}{s \\left(s^{2} - 1\\right) + 2 \\left(s + 2\\right) \\left(s + 3\\right)}$"
      ],
      "text/plain": [
       "2*(s + 2)*(s + 3)/(s*(s**2 - 1) + 2*(s + 2)*(s + 3))"
      ]
     },
     "execution_count": 35,
     "metadata": {},
     "output_type": "execute_result"
    }
   ],
   "source": [
    "Tb = T.subs([(K,2), (m,3)])\n",
    "Tb"
   ]
  },
  {
   "cell_type": "code",
   "execution_count": 36,
   "metadata": {},
   "outputs": [
    {
     "data": {
      "text/latex": [
       "$T(s)=\\frac{\\left[ \\left[ \\mathtt{\\text{[2 6 4]}}\\right]\\right]}{\\left[ \\left[ \\mathtt{\\text{[ 1  2  9 12]}}\\right]\\right]} \\: $"
      ],
      "text/plain": [
       "<IPython.core.display.Latex object>"
      ]
     },
     "metadata": {},
     "output_type": "display_data"
    }
   ],
   "source": [
    "s = ct.tf('s')\n",
    "\n",
    "Tbc = 2*(s+1)*(s+2)/(s*(s**2-1) + 2*(s+2)*(s+3))\n",
    "\n",
    "eq_disp('T(s)', Tbc)"
   ]
  },
  {
   "cell_type": "code",
   "execution_count": 37,
   "metadata": {},
   "outputs": [
    {
     "data": {
      "text/latex": [
       "$\\omega_n=2.866 \\: $"
      ],
      "text/plain": [
       "<IPython.core.display.Latex object>"
      ]
     },
     "metadata": {},
     "output_type": "display_data"
    },
    {
     "data": {
      "text/latex": [
       "$\\zeta=0.094 \\: $"
      ],
      "text/plain": [
       "<IPython.core.display.Latex object>"
      ]
     },
     "metadata": {},
     "output_type": "display_data"
    }
   ],
   "source": [
    "omega, zeta, _ = Tbc.damp()\n",
    "omega = omega[0]\n",
    "zeta = zeta[0]\n",
    "eq_disp('\\\\omega_n', round(omega,3))\n",
    "eq_disp('\\\\zeta', round(zeta,3))"
   ]
  },
  {
   "cell_type": "markdown",
   "metadata": {},
   "source": [
    "Percent overshoot is\n",
    "$$P.O. = 100 e^{\\frac{-\\zeta \\pi}{\\sqrt{1-\\zeta^2}}}$$"
   ]
  },
  {
   "cell_type": "code",
   "execution_count": 38,
   "metadata": {},
   "outputs": [
    {
     "data": {
      "text/latex": [
       "$P.O.=74.33 \\: \\%$"
      ],
      "text/plain": [
       "<IPython.core.display.Latex object>"
      ]
     },
     "metadata": {},
     "output_type": "display_data"
    }
   ],
   "source": [
    "PO = 100*np.exp(-zeta*np.pi/(np.sqrt(1-zeta**2)))\n",
    "eq_disp('P.O.', round(PO,2), '\\%')"
   ]
  }
 ],
 "metadata": {
  "kernelspec": {
   "display_name": "Python 3 (ipykernel)",
   "language": "python",
   "name": "python3"
  },
  "language_info": {
   "codemirror_mode": {
    "name": "ipython",
    "version": 3
   },
   "file_extension": ".py",
   "mimetype": "text/x-python",
   "name": "python",
   "nbconvert_exporter": "python",
   "pygments_lexer": "ipython3",
   "version": "3.9.7"
  },
  "vscode": {
   "interpreter": {
    "hash": "189c722359e8ae24941e7529d2e8e4a55dd6824955770f169083d5c2e0c1346f"
   }
  }
 },
 "nbformat": 4,
 "nbformat_minor": 4
}
