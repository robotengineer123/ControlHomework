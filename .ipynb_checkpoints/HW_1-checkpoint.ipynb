{
 "cells": [
  {
   "cell_type": "code",
   "execution_count": 141,
   "id": "0ae87b25-a3a7-4ebd-a1a1-8705eda48d94",
   "metadata": {},
   "outputs": [],
   "source": [
    "import sympy as sp\n",
    "import numpy as np\n",
    "import matplotlib.pyplot as plt\n",
    "from IPython.display import display, Latex, Math"
   ]
  },
  {
   "cell_type": "markdown",
   "id": "b9e78919-366b-45a1-8542-60cfcef52af1",
   "metadata": {},
   "source": [
    "# E2.4\n",
    "## a)"
   ]
  },
  {
   "cell_type": "code",
   "execution_count": 100,
   "id": "382f429d-341f-43fd-ab0e-b85d1777a2dd",
   "metadata": {},
   "outputs": [],
   "source": [
    "def eq_disp(varstring, expr):\n",
    "    display(Latex(f\"${varstring}={sp.latex(expr)}$\"))\n",
    "s, t = sp.symbols('s, t')\n",
    "R = 1/s"
   ]
  },
  {
   "cell_type": "markdown",
   "id": "dad0f758-fa2e-4d4e-b1f3-d3238e48b9af",
   "metadata": {},
   "source": [
    "The laplace transform of a unit step function is\n",
    "$$F(s)=\\frac{1}{s}$$\n",
    "The output is given by:\n",
    "$$Y(s)=G(s)R(s)$$\n",
    "The transfer function $G(s)$ is given by"
   ]
  },
  {
   "cell_type": "code",
   "execution_count": 101,
   "id": "2bbe379d-cf9e-4e81-8d5e-425a621f46da",
   "metadata": {},
   "outputs": [
    {
     "data": {
      "text/latex": [
       "$\\displaystyle \\frac{4 \\left(s + 50\\right)}{\\left(s + 10\\right) \\left(s + 20\\right)}$"
      ],
      "text/plain": [
       "4*(s + 50)/((s + 10)*(s + 20))"
      ]
     },
     "execution_count": 101,
     "metadata": {},
     "output_type": "execute_result"
    }
   ],
   "source": [
    "G = sp.factor(4*(s + 50)/(s**2 + 30*s + 200))\n",
    "p, q = G.as_numer_denom()\n",
    "G"
   ]
  },
  {
   "cell_type": "markdown",
   "id": "713ae5cf-9f62-490b-a917-979e9581cb19",
   "metadata": {},
   "source": [
    "To find $Y(s)$ we need the partial fraction expansion of $G(s)R(s)$"
   ]
  },
  {
   "cell_type": "markdown",
   "id": "00388c58-6999-4ec0-adc7-768f8db3e780",
   "metadata": {},
   "source": [
    "We can construct the partial fractions according to:\n",
    "$$G(s)R(s)=\\frac{K_{s 1}}{s+s_1}+\\frac{K_{s 2}}{s+s_2}+\\cdots+\\frac{K_{s n}}{s+s_n}$$"
   ]
  },
  {
   "cell_type": "markdown",
   "id": "bb5dadf0-a85d-43b1-a170-a157d73784fb",
   "metadata": {},
   "source": [
    "First solve for the n poles "
   ]
  },
  {
   "cell_type": "code",
   "execution_count": 102,
   "id": "799020f0-9e91-47bf-902b-2d07ed91c17a",
   "metadata": {},
   "outputs": [
    {
     "data": {
      "text/latex": [
       "$-s_0=-20$"
      ],
      "text/plain": [
       "<IPython.core.display.Latex object>"
      ]
     },
     "metadata": {},
     "output_type": "display_data"
    },
    {
     "data": {
      "text/latex": [
       "$-s_1=-10$"
      ],
      "text/plain": [
       "<IPython.core.display.Latex object>"
      ]
     },
     "metadata": {},
     "output_type": "display_data"
    },
    {
     "data": {
      "text/latex": [
       "$-s_2=0$"
      ],
      "text/plain": [
       "<IPython.core.display.Latex object>"
      ]
     },
     "metadata": {},
     "output_type": "display_data"
    }
   ],
   "source": [
    "Y = G*R\n",
    "p, q = Y.as_numer_denom()\n",
    "poles = sp.solve(q,s)\n",
    "for i, pole in enumerate(poles):\n",
    "    eq_disp(f'-s_{i}', pole)"
   ]
  },
  {
   "cell_type": "markdown",
   "id": "6b4a9145-7a52-490b-82da-5923c5d414de",
   "metadata": {},
   "source": [
    "Now we find the numerators $K_{s_i}$ "
   ]
  },
  {
   "cell_type": "code",
   "execution_count": 103,
   "id": "bad78627-0333-47a4-93ed-61a8383ca64c",
   "metadata": {},
   "outputs": [],
   "source": [
    "K = []\n",
    "for pole in poles:\n",
    "    K.append(sp.simplify(p/q*(s-pole)).subs(s, pole))"
   ]
  },
  {
   "cell_type": "code",
   "execution_count": 118,
   "id": "003f3d7d-210b-47ee-ad0e-9d543087173a",
   "metadata": {},
   "outputs": [
    {
     "data": {
      "text/latex": [
       "$Y(s)=\\frac{3}{5 \\left(s + 20\\right)} - \\frac{8}{5 \\left(s + 10\\right)} + \\frac{1}{s}$"
      ],
      "text/plain": [
       "<IPython.core.display.Latex object>"
      ]
     },
     "metadata": {},
     "output_type": "display_data"
    }
   ],
   "source": [
    "p_fracs = [K[i]/(s-poles[i]) for i in range(len(K))]\n",
    "Y = sum(p_fracs)\n",
    "eq_disp('Y(s)',Y)"
   ]
  },
  {
   "cell_type": "markdown",
   "id": "3dfab984-e374-40f5-af88-45a7b8a8ab2d",
   "metadata": {},
   "source": [
    "We can check the validity of the partial fractions by comparing their sum to $G(s)R(s)$"
   ]
  },
  {
   "cell_type": "code",
   "execution_count": 113,
   "id": "2a7cb237-5a94-46f6-a9cd-206735a213a4",
   "metadata": {},
   "outputs": [
    {
     "data": {
      "text/plain": [
       "True"
      ]
     },
     "execution_count": 113,
     "metadata": {},
     "output_type": "execute_result"
    }
   ],
   "source": [
    "sp.factor(G*R) == sp.factor(sum(p_fracs))"
   ]
  },
  {
   "cell_type": "markdown",
   "id": "1a3c0b8f-01a2-48ad-be01-931814bd8ee2",
   "metadata": {},
   "source": [
    "We can then transform to time domain to obtain $y(t)$"
   ]
  },
  {
   "cell_type": "code",
   "execution_count": 130,
   "id": "75d107ff-bc10-4ccb-a9de-ce74943b16d2",
   "metadata": {},
   "outputs": [
    {
     "data": {
      "text/latex": [
       "$y(t)=\\theta\\left(t\\right) - \\frac{8 e^{- 10 t} \\theta\\left(t\\right)}{5} + \\frac{3 e^{- 20 t} \\theta\\left(t\\right)}{5}$"
      ],
      "text/plain": [
       "<IPython.core.display.Latex object>"
      ]
     },
     "metadata": {},
     "output_type": "display_data"
    }
   ],
   "source": [
    "p_fracs_t = []\n",
    "for frac in p_fracs:\n",
    "    p_fracs_t.append(sp.inverse_laplace_transform(frac,s, t))\n",
    "y = sum(p_fracs_t)\n",
    "eq_disp('y(t)', y)"
   ]
  },
  {
   "cell_type": "markdown",
   "id": "d8ad0b0f-259a-4714-9a59-3ebf189b1126",
   "metadata": {},
   "source": [
    "where $\\theta(t)$ is the heaviside function or unit step function"
   ]
  },
  {
   "cell_type": "markdown",
   "id": "e2107560-a154-4b6f-a7c7-fc494a52b376",
   "metadata": {},
   "source": [
    "## b)\n",
    "To get the final value of $y(t)$ we can set the unitstep function to 1"
   ]
  },
  {
   "cell_type": "code",
   "execution_count": 136,
   "id": "79494b3a-3571-4a9f-ac8d-d8fac3da3434",
   "metadata": {},
   "outputs": [
    {
     "data": {
      "text/latex": [
       "$y(\\infty)=1 - \\frac{8 e^{- 10 t}}{5} + \\frac{3 e^{- 20 t}}{5}$"
      ],
      "text/plain": [
       "<IPython.core.display.Latex object>"
      ]
     },
     "metadata": {},
     "output_type": "display_data"
    }
   ],
   "source": [
    "eq_disp('y(\\infty)', y.subs(sp.Heaviside(t), 1))"
   ]
  },
  {
   "cell_type": "markdown",
   "id": "0af4aed1-21a0-45fd-9c19-4b9927dfe859",
   "metadata": {},
   "source": [
    "# 2.25"
   ]
  },
  {
   "cell_type": "code",
   "execution_count": 138,
   "id": "f84745bd-c807-4d51-b52c-8646e8cec6db",
   "metadata": {},
   "outputs": [
    {
     "data": {
      "text/latex": [
       "$y=a x^{3}$"
      ],
      "text/plain": [
       "<IPython.core.display.Latex object>"
      ]
     },
     "metadata": {},
     "output_type": "display_data"
    }
   ],
   "source": [
    "a, x = sp.symbols('a, x')\n",
    "x0 = 0.6\n",
    "y = a*x**3\n",
    "eq_disp('y', y)"
   ]
  },
  {
   "cell_type": "markdown",
   "id": "f7d08c72-61dc-4b68-875d-4d9f957abf0d",
   "metadata": {},
   "source": [
    "The linear approximation is obtained from the first order taylor expansion of the amplifier function at the operating point "
   ]
  },
  {
   "cell_type": "code",
   "execution_count": 140,
   "id": "5fd29c72-1b62-4956-a731-3dfee36c0494",
   "metadata": {},
   "outputs": [
    {
     "data": {
      "text/latex": [
       "$y_{linear}=1.08 a \\left(x - 0.6\\right) + 0.216 a$"
      ],
      "text/plain": [
       "<IPython.core.display.Latex object>"
      ]
     },
     "metadata": {},
     "output_type": "display_data"
    }
   ],
   "source": [
    "y_lin = y.subs(x, x0) + y.diff(x).subs(x, x0)*(x-x0)\n",
    "eq_disp('y_{linear}', y_lin)"
   ]
  },
  {
   "cell_type": "markdown",
   "id": "28f2d2d6-04fd-4cf3-bfd4-69a2ac7508a2",
   "metadata": {},
   "source": [
    "# 2.31"
   ]
  },
  {
   "cell_type": "code",
   "execution_count": null,
   "id": "3d5a41cc-cca0-4c46-9a4e-1e4b8862b376",
   "metadata": {},
   "outputs": [],
   "source": []
  },
  {
   "cell_type": "markdown",
   "id": "68130d10-88a1-41c2-b18f-ffd5ac8c35e7",
   "metadata": {},
   "source": [
    "# 2.26"
   ]
  },
  {
   "cell_type": "code",
   "execution_count": null,
   "id": "7c474fb0-bfb7-415e-a689-9ab6bbf65561",
   "metadata": {},
   "outputs": [],
   "source": []
  }
 ],
 "metadata": {
  "kernelspec": {
   "display_name": "Python 3 (ipykernel)",
   "language": "python",
   "name": "python3"
  },
  "language_info": {
   "codemirror_mode": {
    "name": "ipython",
    "version": 3
   },
   "file_extension": ".py",
   "mimetype": "text/x-python",
   "name": "python",
   "nbconvert_exporter": "python",
   "pygments_lexer": "ipython3",
   "version": "3.9.12"
  }
 },
 "nbformat": 4,
 "nbformat_minor": 5
}
