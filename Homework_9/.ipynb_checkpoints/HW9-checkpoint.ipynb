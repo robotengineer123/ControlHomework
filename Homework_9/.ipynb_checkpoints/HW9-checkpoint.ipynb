{
 "cells": [
  {
   "cell_type": "markdown",
   "id": "5be8b3b5",
   "metadata": {},
   "source": [
    "**Group number**  \n",
    "3\n",
    "\n",
    "**Group members**  \n",
    "Alexander Stoustrup  \n",
    "Mathias Tyranski  \n",
    "Benjamin Simonsen"
   ]
  },
  {
   "cell_type": "code",
   "execution_count": 25,
   "id": "d9b2fb3c",
   "metadata": {},
   "outputs": [],
   "source": [
    "import numpy as np\n",
    "from scipy.optimize import minimize\n",
    "import scipy.signal as si\n",
    "import sympy as sp\n",
    "import control as ct\n",
    "from typing import List\n",
    "from sympy.plotting import plot\n",
    "import matplotlib.pyplot as plt\n",
    "from IPython.display import display, Latex, Math, Image\n",
    "\n",
    "def eq_disp(varstring, expr, unit=\"\"):\n",
    "    display(Latex(f\"${varstring}={sp.latex(expr)} \\: {unit}$\"))\n",
    "    \n",
    "def reduce_feedback(G_fwd, G_bwd):\n",
    "    \"\"\"Assumes feedback is deducted from signal, if not\n",
    "    change sign of feedback\"\"\"\n",
    "    return sp.simplify(G_fwd/(1+G_fwd*G_bwd))\n",
    "\n",
    "def RHarray(coeffs: List):\n",
    "    # first 2 rows from coefficients\n",
    "    n = len(coeffs)\n",
    "    arr = sp.zeros(n, n//2+2)\n",
    "    i = 0\n",
    "    for i in range(0,n,2):\n",
    "        arr[0, i//2] = coeffs[i]\n",
    "    for i in range(1,n,2):\n",
    "        arr[1, i//2] = coeffs[i]\n",
    "\n",
    "    for j in range(2, arr.shape[0]):\n",
    "        for i in range(arr.shape[1]-1):\n",
    "            a0 = arr[j-2,0]\n",
    "            a3 = a1 = arr[j-1,i+1]\n",
    "            a1 = arr[j-1,0]\n",
    "            a2 = arr[j-2,i+1]\n",
    "            arr[j, i] = (a1*a2-a0*a3)/a1\n",
    "    return arr"
   ]
  },
  {
   "cell_type": "markdown",
   "id": "8edaa17e",
   "metadata": {},
   "source": [
    "# P9.21"
   ]
  },
  {
   "cell_type": "code",
   "execution_count": 2,
   "id": "1a0fd7fd",
   "metadata": {},
   "outputs": [
    {
     "data": {
      "text/latex": [
       "$L(s)=\\frac{K}{s \\left(s + 1\\right) \\left(s + 4\\right)} \\: $"
      ],
      "text/plain": [
       "<IPython.core.display.Latex object>"
      ]
     },
     "metadata": {},
     "output_type": "display_data"
    },
    {
     "data": {
      "text/latex": [
       "$T(s)=\\frac{K}{K + s \\left(s + 1\\right) \\left(s + 4\\right)} \\: $"
      ],
      "text/plain": [
       "<IPython.core.display.Latex object>"
      ]
     },
     "metadata": {},
     "output_type": "display_data"
    }
   ],
   "source": [
    "K, s = sp.symbols('K, s')\n",
    "L = K/(s*(s+1)*(s+4))\n",
    "eq_disp('L(s)', L)\n",
    "T = reduce_feedback(L, 1)\n",
    "eq_disp('T(s)', T)"
   ]
  },
  {
   "cell_type": "markdown",
   "id": "8fd1bebc",
   "metadata": {},
   "source": [
    "## a) Bode plot"
   ]
  },
  {
   "cell_type": "code",
   "execution_count": 4,
   "id": "fbb37534",
   "metadata": {},
   "outputs": [
    {
     "data": {
      "image/png": "[encoded data removed]",
      "text/plain": [
       "<Figure size 648x360 with 2 Axes>"
      ]
     },
     "metadata": {
      "needs_background": "light"
     },
     "output_type": "display_data"
    }
   ],
   "source": [
    "K = 4\n",
    "s = ct.tf('s')\n",
    "sys = K/(s*(s+1)*(s+4))\n",
    "\n",
    "fig, ax = plt.subplots(figsize=(9, 5))\n",
    "mag, phase, omega = ct.bode(sys)"
   ]
  },
  {
   "cell_type": "markdown",
   "id": "9e57bb65",
   "metadata": {},
   "source": [
    "## b) Gain margin"
   ]
  },
  {
   "cell_type": "markdown",
   "id": "adde1b37",
   "metadata": {},
   "source": [
    "Rewriting the loop transfer function to the frequency domain on the following form to be able to extract $\\tau_1$ and $\\tau_2$\n",
    "$$L(j\\omega) = \\frac{K}{j \\omega\\left(j \\omega \\tau_1+1\\right)\\left(j \\omega \\tau_2+1\\right)}$$"
   ]
  },
  {
   "cell_type": "code",
   "execution_count": 5,
   "id": "d0e7260e",
   "metadata": {},
   "outputs": [
    {
     "data": {
      "text/latex": [
       "$L(s)=\\frac{0.25 K}{j \\omega \\left(\\frac{j \\omega}{4} + 1\\right) \\left(j \\omega + 1\\right)} \\: $"
      ],
      "text/plain": [
       "<IPython.core.display.Latex object>"
      ]
     },
     "metadata": {},
     "output_type": "display_data"
    }
   ],
   "source": [
    "K, s, j, omega = sp.symbols('K, s, j, omega')\n",
    "L = K*(1/4)/(j*omega*(j*omega+1)*(j*omega/4+1))\n",
    "eq_disp('L(s)', L)"
   ]
  },
  {
   "cell_type": "markdown",
   "id": "754a64ff",
   "metadata": {},
   "source": [
    "With"
   ]
  },
  {
   "cell_type": "code",
   "execution_count": 6,
   "id": "dd313aa8",
   "metadata": {},
   "outputs": [
    {
     "data": {
      "text/latex": [
       "$\\tau_1=0.25 \\: $"
      ],
      "text/plain": [
       "<IPython.core.display.Latex object>"
      ]
     },
     "metadata": {},
     "output_type": "display_data"
    },
    {
     "data": {
      "text/latex": [
       "$\\tau_2=1 \\: $"
      ],
      "text/plain": [
       "<IPython.core.display.Latex object>"
      ]
     },
     "metadata": {},
     "output_type": "display_data"
    }
   ],
   "source": [
    "tau1 = 1/4\n",
    "tau2 = 1\n",
    "K = 4\n",
    "eq_disp('\\\\tau_1', tau1)\n",
    "eq_disp('\\\\tau_2', tau2)"
   ]
  },
  {
   "cell_type": "markdown",
   "id": "84848ec5",
   "metadata": {},
   "source": [
    "Evaluating the gain margin by\n",
    "\\begin{equation}\n",
    "G.M.=20log\\left(\\left[\\frac{K \\tau_1 \\tau_2}{\\tau_1+\\tau_2}\\right]^{-1}\\right)\n",
    "\\label{eq:GM}\n",
    "\\end{equation}"
   ]
  },
  {
   "cell_type": "code",
   "execution_count": 7,
   "id": "c246c2b2",
   "metadata": {},
   "outputs": [
    {
     "data": {
      "text/latex": [
       "$G. M.(K=4)=14.0 \\: dB$"
      ],
      "text/plain": [
       "<IPython.core.display.Latex object>"
      ]
     },
     "metadata": {},
     "output_type": "display_data"
    }
   ],
   "source": [
    "GM_K4 = (20*sp.log((K*0.25*tau1*tau2/(tau1 + tau2))**(-1), 10)).evalf()\n",
    "eq_disp('G. M.(K=4)', round(GM_K4,1), 'dB')"
   ]
  },
  {
   "cell_type": "markdown",
   "id": "451028cd",
   "metadata": {},
   "source": [
    "## c) K providing gain margin of 12 dB"
   ]
  },
  {
   "cell_type": "markdown",
   "id": "facc8306",
   "metadata": {},
   "source": [
    "Eq. \\ref{eq:GM} is solved for $K$ with a gain margin of $12 dB$\n",
    "$$12 dB=20log\\left(\\left[\\frac{K \\tau_1 \\tau_2}{\\tau_1+\\tau_2}\\right]^{-1}\\right)$$"
   ]
  },
  {
   "cell_type": "code",
   "execution_count": 8,
   "id": "495f8fda",
   "metadata": {},
   "outputs": [
    {
     "data": {
      "text/latex": [
       "$K(G.M.=12 dB)=5.0 \\: $"
      ],
      "text/plain": [
       "<IPython.core.display.Latex object>"
      ]
     },
     "metadata": {},
     "output_type": "display_data"
    }
   ],
   "source": [
    "K = sp.symbols('K')\n",
    "K_12 = sp.solve(20*sp.log((K*0.25*tau1*tau2/(tau1 + tau2))**(-1), 10) - 12, K)[0]\n",
    "eq_disp('K(G.M.=12 dB)', round(K_12, 1))"
   ]
  },
  {
   "cell_type": "markdown",
   "id": "dff4b285",
   "metadata": {},
   "source": [
    "## d) K for steady-state error of 25 % of the magnitude $A$ for ramp input"
   ]
  },
  {
   "cell_type": "code",
   "execution_count": 17,
   "id": "d3f53d7b",
   "metadata": {},
   "outputs": [
    {
     "data": {
      "text/latex": [
       "$L(s)=\\frac{K}{s \\left(s + 1\\right) \\left(s + 4\\right)} \\: $"
      ],
      "text/plain": [
       "<IPython.core.display.Latex object>"
      ]
     },
     "metadata": {},
     "output_type": "display_data"
    }
   ],
   "source": [
    "K, s, A = sp.symbols('K, s, A')\n",
    "L = K/(s*(s+1)*(s+4))\n",
    "eq_disp('L(s)', L)"
   ]
  },
  {
   "cell_type": "code",
   "execution_count": 19,
   "id": "7f3b68ff",
   "metadata": {},
   "outputs": [
    {
     "data": {
      "text/latex": [
       "$E(s)=\\frac{A \\left(s + 1\\right) \\left(s + 4\\right)}{s \\left(K + s \\left(s + 1\\right) \\left(s + 4\\right)\\right)} \\: $"
      ],
      "text/plain": [
       "<IPython.core.display.Latex object>"
      ]
     },
     "metadata": {},
     "output_type": "display_data"
    }
   ],
   "source": [
    "R = A*1/s**2\n",
    "E = sp.simplify(R/(1 + L))\n",
    "eq_disp('E(s)', E)"
   ]
  },
  {
   "cell_type": "markdown",
   "id": "a968600d",
   "metadata": {},
   "source": [
    "$$e_{ss}=\\lim_{s \\to 0} sE(s)$$"
   ]
  },
  {
   "cell_type": "code",
   "execution_count": 21,
   "id": "75cb104b",
   "metadata": {},
   "outputs": [
    {
     "data": {
      "text/latex": [
       "$e_{ss}=\\frac{4 A}{K} \\: $"
      ],
      "text/plain": [
       "<IPython.core.display.Latex object>"
      ]
     },
     "metadata": {},
     "output_type": "display_data"
    }
   ],
   "source": [
    "e_ss = sp.limit(sp.simplify(s*E), s, 0)\n",
    "eq_disp('e_{ss}', e_ss)"
   ]
  },
  {
   "cell_type": "markdown",
   "id": "cbe65f67",
   "metadata": {},
   "source": [
    "With\n",
    "$$e_{ss} = 0.25A$$"
   ]
  },
  {
   "cell_type": "code",
   "execution_count": 24,
   "id": "c3449acb",
   "metadata": {},
   "outputs": [
    {
     "data": {
      "text/latex": [
       "$K(e_{ss}=0.25A)=16.0 \\: $"
      ],
      "text/plain": [
       "<IPython.core.display.Latex object>"
      ]
     },
     "metadata": {},
     "output_type": "display_data"
    }
   ],
   "source": [
    "K_25p = sp.solve(e_ss - 0.25*A, K)[0]\n",
    "eq_disp('K(e_{ss}=0.25A)', K_25p)"
   ]
  },
  {
   "cell_type": "markdown",
   "id": "88969cd0",
   "metadata": {},
   "source": [
    "### Checking if this K results in a stable system"
   ]
  },
  {
   "cell_type": "markdown",
   "id": "8bb87727",
   "metadata": {},
   "source": [
    "Finding the coefficients of the denominator"
   ]
  },
  {
   "cell_type": "code",
   "execution_count": 27,
   "id": "380f0d99",
   "metadata": {},
   "outputs": [
    {
     "data": {
      "text/latex": [
       "$q(s)=\\operatorname{Poly}{\\left( s^{3} + 5 s^{2} + 4 s + K, s, domain=\\mathbb{Z}\\left[K\\right] \\right)} \\: $"
      ],
      "text/plain": [
       "<IPython.core.display.Latex object>"
      ]
     },
     "metadata": {},
     "output_type": "display_data"
    },
    {
     "data": {
      "text/latex": [
       "$s^3: 1$"
      ],
      "text/plain": [
       "<IPython.core.display.Latex object>"
      ]
     },
     "metadata": {},
     "output_type": "display_data"
    },
    {
     "data": {
      "text/latex": [
       "$s^2: 5$"
      ],
      "text/plain": [
       "<IPython.core.display.Latex object>"
      ]
     },
     "metadata": {},
     "output_type": "display_data"
    },
    {
     "data": {
      "text/latex": [
       "$s^1: 4$"
      ],
      "text/plain": [
       "<IPython.core.display.Latex object>"
      ]
     },
     "metadata": {},
     "output_type": "display_data"
    },
    {
     "data": {
      "text/latex": [
       "$s^0: K$"
      ],
      "text/plain": [
       "<IPython.core.display.Latex object>"
      ]
     },
     "metadata": {},
     "output_type": "display_data"
    }
   ],
   "source": [
    "p, q = T.as_numer_denom()\n",
    "\n",
    "coeffs = sp.Poly(q, s).coeffs()\n",
    "eq_disp('q(s)', sp.Poly(q, s))\n",
    "for i, k in enumerate(coeffs):\n",
    "    display(Latex(f\"${f's^{len(coeffs)-1-i}'}: {sp.latex(k)}$\"))"
   ]
  },
  {
   "cell_type": "markdown",
   "id": "ed461db3",
   "metadata": {},
   "source": [
    "Finding Routh-Hurwitz array"
   ]
  },
  {
   "cell_type": "code",
   "execution_count": 28,
   "id": "afbbbf23",
   "metadata": {},
   "outputs": [
    {
     "data": {
      "text/latex": [
       "$\\displaystyle \\left[\\begin{matrix}1 & 4 & 0 & 0\\\\5 & K & 0 & 0\\\\4 - \\frac{K}{5} & 0 & 0 & 0\\\\K & 0 & 0 & 0\\end{matrix}\\right]$"
      ],
      "text/plain": [
       "Matrix([\n",
       "[      1, 4, 0, 0],\n",
       "[      5, K, 0, 0],\n",
       "[4 - K/5, 0, 0, 0],\n",
       "[      K, 0, 0, 0]])"
      ]
     },
     "execution_count": 28,
     "metadata": {},
     "output_type": "execute_result"
    }
   ],
   "source": [
    "arr = RHarray(coeffs)\n",
    "arr"
   ]
  },
  {
   "cell_type": "markdown",
   "id": "887d1049",
   "metadata": {},
   "source": [
    "So when the two roots lie on the imaginary axis the gain is"
   ]
  },
  {
   "cell_type": "code",
   "execution_count": 29,
   "id": "1ac936db",
   "metadata": {},
   "outputs": [
    {
     "data": {
      "text/latex": [
       "$K=20 \\: $"
      ],
      "text/plain": [
       "<IPython.core.display.Latex object>"
      ]
     },
     "metadata": {},
     "output_type": "display_data"
    }
   ],
   "source": [
    "K_mstable = sp.solve(arr[2,0], K)[0]\n",
    "eq_disp('K', K_mstable)"
   ]
  },
  {
   "cell_type": "markdown",
   "id": "8e0f0c77",
   "metadata": {},
   "source": [
    "For $K<20$ the system will be stable so this gain can be utilized and achieve acceptable performance"
   ]
  },
  {
   "cell_type": "markdown",
   "id": "4d9b88ac",
   "metadata": {},
   "source": [
    "# AP9.11"
   ]
  },
  {
   "cell_type": "code",
   "execution_count": null,
   "id": "b2865a80",
   "metadata": {},
   "outputs": [],
   "source": []
  }
 ],
 "metadata": {
  "kernelspec": {
   "display_name": "Python 3 (ipykernel)",
   "language": "python",
   "name": "python3"
  },
  "language_info": {
   "codemirror_mode": {
    "name": "ipython",
    "version": 3
   },
   "file_extension": ".py",
   "mimetype": "text/x-python",
   "name": "python",
   "nbconvert_exporter": "python",
   "pygments_lexer": "ipython3",
   "version": "3.9.7"
  },
  "toc": {
   "base_numbering": 1,
   "nav_menu": {},
   "number_sections": true,
   "sideBar": true,
   "skip_h1_title": false,
   "title_cell": "Table of Contents",
   "title_sidebar": "Contents",
   "toc_cell": false,
   "toc_position": {},
   "toc_section_display": true,
   "toc_window_display": false
  }
 },
 "nbformat": 4,
 "nbformat_minor": 5
}
