{
 "cells": [
  {
   "cell_type": "markdown",
   "id": "e4567bed-a34c-498d-bf65-a2ace8822fe8",
   "metadata": {},
   "source": [
    "# E2.14"
   ]
  },
  {
   "cell_type": "markdown",
   "id": "3e9b6d74-6e04-491b-843e-6014573efbce",
   "metadata": {},
   "source": [
    "# E2.23"
   ]
  },
  {
   "cell_type": "markdown",
   "id": "b02f7327-356e-49ba-8829-4e75a68d7d0b",
   "metadata": {},
   "source": [
    "# P2.45"
   ]
  },
  {
   "cell_type": "markdown",
   "id": "2f6e95c2-be76-44fb-afba-3e8c082d5159",
   "metadata": {},
   "source": [
    "# P2.50"
   ]
  }
 ],
 "metadata": {
  "kernelspec": {
   "display_name": "Python 3 (ipykernel)",
   "language": "python",
   "name": "python3"
  },
  "language_info": {
   "codemirror_mode": {
    "name": "ipython",
    "version": 3
   },
   "file_extension": ".py",
   "mimetype": "text/x-python",
   "name": "python",
   "nbconvert_exporter": "python",
   "pygments_lexer": "ipython3",
   "version": "3.9.12"
  }
 },
 "nbformat": 4,
 "nbformat_minor": 5
}
