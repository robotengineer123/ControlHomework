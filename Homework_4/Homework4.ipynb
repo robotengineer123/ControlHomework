{
 "cells": [
  {
   "cell_type": "code",
   "execution_count": 381,
   "id": "bdb4c44f-a0af-411d-a2f9-15cf629efc40",
   "metadata": {},
   "outputs": [],
   "source": [
    "import numpy as np\n",
    "import sympy as sp\n",
    "from sympy.plotting import plot\n",
    "import matplotlib.pyplot as plt\n",
    "from IPython.display import display, Latex, Math\n",
    "def eq_disp(varstring, expr):\n",
    "    display(Latex(f\"${varstring}={sp.latex(expr)}$\"))\n",
    "\n",
    "def reduce_feedback(G_fwd, G_bwd):\n",
    "    \"\"\"Assumes feedback is deducted from signal, if not\n",
    "    change sign of feedback\"\"\"\n",
    "    return sp.simplify(G_fwd/(1+G_fwd*G_bwd))\n",
    "\n",
    "s = sp.symbols('s')\n",
    "t, zeta, omega = sp.symbols('t, zeta, omega', positive=True, real=True)"
   ]
  },
  {
   "cell_type": "markdown",
   "id": "ea8f52e0",
   "metadata": {},
   "source": [
    "# E5.19"
   ]
  },
  {
   "cell_type": "markdown",
   "id": "4f6ce7dd-9f02-4ae0-9762-0378eb04dc4f",
   "metadata": {},
   "source": [
    "From the Transfer function we extract $\\omega_n$ and $\\zeta$"
   ]
  },
  {
   "cell_type": "code",
   "execution_count": 382,
   "id": "3b04fe0f-465a-4aab-94c6-e33f064469b3",
   "metadata": {},
   "outputs": [
    {
     "data": {
      "text/latex": [
       "$Y(s)=\\frac{7}{s \\left(s^{2} + \\frac{127 s}{40} + 7\\right)}$"
      ],
      "text/plain": [
       "<IPython.core.display.Latex object>"
      ]
     },
     "metadata": {},
     "output_type": "display_data"
    }
   ],
   "source": [
    "omega = sp.sqrt(7)\n",
    "zeta = sp.Rational(3175, 1000)/2/omega\n",
    "R = 1/s\n",
    "T = omega**2/(s**2 + 2*zeta*omega*s + omega**2)\n",
    "Y = R*T\n",
    "eq_disp('Y(s)', Y)"
   ]
  },
  {
   "cell_type": "markdown",
   "id": "9f34500e-d42c-4576-9669-495412ed0fa0",
   "metadata": {},
   "source": [
    "The formula for percent overshoot is:\n",
    "$$\\sigma_p \\%=\\frac{y\\left(T_p\\right)-y(\\infty)}{y(\\infty)} \\times 100 \\%$$\n",
    "where \n",
    "$$\\left.\\frac{d y(t)}{d t}\\right|_{t=T_p}=\\left.0\\right|_{(\\text {first })}$$\n",
    "First we must find $y(t)$"
   ]
  },
  {
   "cell_type": "markdown",
   "id": "4d2e761f-78cb-47f2-bfbe-3f0ef4ac59c2",
   "metadata": {},
   "source": [
    "Transform to the time domain"
   ]
  },
  {
   "cell_type": "code",
   "execution_count": 383,
   "id": "7b2318bb",
   "metadata": {},
   "outputs": [
    {
     "data": {
      "text/latex": [
       "$y=\\left(e^{\\frac{127 t}{80}} - \\frac{127 \\sqrt{28671} \\sin{\\left(\\frac{\\sqrt{28671} t}{80} \\right)}}{28671} - \\cos{\\left(\\frac{\\sqrt{28671} t}{80} \\right)}\\right) e^{- \\frac{127 t}{80}}$"
      ],
      "text/plain": [
       "<IPython.core.display.Latex object>"
      ]
     },
     "metadata": {},
     "output_type": "display_data"
    }
   ],
   "source": [
    "y = sp.inverse_laplace_transform(Y.apart(), s, t)\n",
    "eq_disp('y', y)"
   ]
  },
  {
   "cell_type": "markdown",
   "id": "6b18944e",
   "metadata": {},
   "source": [
    "The derivative in the laplace domain is obtained simply by multiplying by s (in case initial conditions are zero)"
   ]
  },
  {
   "cell_type": "code",
   "execution_count": 384,
   "id": "f7d2e2d7",
   "metadata": {},
   "outputs": [
    {
     "data": {
      "text/latex": [
       "$\\frac{dy}{dt}=3.31 e^{- \\frac{127 t}{80}} \\sin{\\left(\\frac{\\sqrt{28671} t}{80} \\right)}$"
      ],
      "text/plain": [
       "<IPython.core.display.Latex object>"
      ]
     },
     "metadata": {},
     "output_type": "display_data"
    }
   ],
   "source": [
    "dy = sp.inverse_laplace_transform((s*Y).apart(), s, t)\n",
    "eq_disp('\\\\frac{dy}{dt}', sp.N(dy,3))"
   ]
  },
  {
   "cell_type": "markdown",
   "id": "373fac01",
   "metadata": {},
   "source": [
    "Peak time is then calculated"
   ]
  },
  {
   "cell_type": "code",
   "execution_count": 385,
   "id": "f1364bb1",
   "metadata": {},
   "outputs": [
    {
     "data": {
      "text/latex": [
       "$T_p=1.48$"
      ],
      "text/plain": [
       "<IPython.core.display.Latex object>"
      ]
     },
     "metadata": {},
     "output_type": "display_data"
    }
   ],
   "source": [
    "sol = sp.solve(dy.evalf(5), t)\n",
    "Tp = min([x for x in sol if x != 0])\n",
    "eq_disp('T_p', sp.N(Tp,3))"
   ]
  },
  {
   "cell_type": "markdown",
   "id": "1117e4de",
   "metadata": {},
   "source": [
    "Now the steady state value is calculated by \n",
    "$$\\lim_{t\\rightarrow\\infty}y(t)$$"
   ]
  },
  {
   "cell_type": "code",
   "execution_count": 386,
   "id": "f442eb17",
   "metadata": {},
   "outputs": [
    {
     "data": {
      "text/latex": [
       "$y(\\infty)=1$"
      ],
      "text/plain": [
       "<IPython.core.display.Latex object>"
      ]
     },
     "metadata": {},
     "output_type": "display_data"
    }
   ],
   "source": [
    "y_ss = sp.limit(y, t, sp.oo)\n",
    "eq_disp('y(\\infty)', y_ss)"
   ]
  },
  {
   "cell_type": "markdown",
   "id": "5a075bb9",
   "metadata": {},
   "source": [
    "Finally %overshoot can be calculated"
   ]
  },
  {
   "cell_type": "code",
   "execution_count": 387,
   "id": "8f953384",
   "metadata": {},
   "outputs": [
    {
     "data": {
      "text/latex": [
       "$\\sigma_p\\%=9.48$"
      ],
      "text/plain": [
       "<IPython.core.display.Latex object>"
      ]
     },
     "metadata": {},
     "output_type": "display_data"
    }
   ],
   "source": [
    "sigma_p = ((y.subs(t, Tp) - y_ss)/y_ss*100).evalf()\n",
    "eq_disp('\\\\sigma_p\\%', sp.N(sigma_p,3))\n"
   ]
  },
  {
   "cell_type": "markdown",
   "id": "f198f07c",
   "metadata": {},
   "source": [
    "The setling time at 2% threshold is calculated by:\n",
    "$$\n",
    "T_s=4 \\tau=\\frac{4}{\\xi \\omega_n}\n",
    "$$"
   ]
  },
  {
   "cell_type": "code",
   "execution_count": 388,
   "id": "942ecb0d",
   "metadata": {},
   "outputs": [
    {
     "data": {
      "text/latex": [
       "$T_s=2.52$"
      ],
      "text/plain": [
       "<IPython.core.display.Latex object>"
      ]
     },
     "metadata": {},
     "output_type": "display_data"
    }
   ],
   "source": [
    "Ts = 4/(zeta*omega)\n",
    "eq_disp('T_s', sp.N(Ts,3))"
   ]
  },
  {
   "cell_type": "markdown",
   "id": "3698d695",
   "metadata": {},
   "source": [
    "## b)"
   ]
  },
  {
   "cell_type": "markdown",
   "id": "a17df8fc",
   "metadata": {},
   "source": [
    "To verify our results we plot $y(t)$ and anotate the plot with the peak time $T_p$ and the settling time $T_s$ "
   ]
  },
  {
   "cell_type": "code",
   "execution_count": 389,
   "id": "3e5642f9",
   "metadata": {},
   "outputs": [
    {
     "data": {
      "image/png": "[encoded data removed]",
      "text/plain": [
       "<Figure size 640x480 with 1 Axes>"
      ]
     },
     "metadata": {},
     "output_type": "display_data"
    }
   ],
   "source": [
    "y_f = sp.lambdify(t, y)\n",
    "tspan = np.r_[0:5:0.05]\n",
    "plt.plot(tspan, y_f(tspan), linewidth=1)\n",
    "plt.plot(float(Ts), y_f(float(Ts)),linestyle='None', markersize=7, marker='x')\n",
    "plt.plot(float(Tp), y_f(float(Tp)),linestyle='None', markersize=7, marker='x')\n",
    "plt.plot(tspan, float(y_ss)*np.ones(len(tspan)), 'k.', markersize=1)\n",
    "plt.legend(['$y(t)$', '$T_s$', '$T_p$', '$y_{ss}$'])\n",
    "plt.xlabel('$t$')\n",
    "plt.ylabel('$y(t)$')\n",
    "plt.title('unit step response')\n",
    "plt.show()"
   ]
  }
 ],
 "metadata": {
  "kernelspec": {
   "display_name": "Python 3.9.12 ('base')",
   "language": "python",
   "name": "python3"
  },
  "language_info": {
   "codemirror_mode": {
    "name": "ipython",
    "version": 3
   },
   "file_extension": ".py",
   "mimetype": "text/x-python",
   "name": "python",
   "nbconvert_exporter": "python",
   "pygments_lexer": "ipython3",
   "version": "3.9.12"
  },
  "vscode": {
   "interpreter": {
    "hash": "26e04c728766cb3a286926c7774992480ad79a49d3b860a30eec8d895b8ee1d8"
   }
  }
 },
 "nbformat": 4,
 "nbformat_minor": 5
}
