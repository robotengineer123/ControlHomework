{
 "cells": [
  {
   "cell_type": "code",
   "execution_count": 1,
   "id": "bdb4c44f-a0af-411d-a2f9-15cf629efc40",
   "metadata": {},
   "outputs": [],
   "source": [
    "import numpy as np\n",
    "import sympy as sp\n",
    "from sympy.plotting import plot\n",
    "import matplotlib.pyplot as plt\n",
    "from IPython.display import display, Latex, Math\n",
    "def eq_disp(varstring, expr):\n",
    "    display(Latex(f\"${varstring}={sp.latex(expr)}$\"))\n",
    "\n",
    "def reduce_feedback(G_fwd, G_bwd):\n",
    "    \"\"\"Assumes feedback is deducted from signal, if not\n",
    "    change sign of feedback\"\"\"\n",
    "    return sp.simplify(G_fwd/(1+G_fwd*G_bwd))\n",
    "\n",
    "s = sp.symbols('s')\n",
    "t, zeta, omega = sp.symbols('t, zeta, omega', positive=True, real=True)"
   ]
  },
  {
   "cell_type": "markdown",
   "id": "4f6ce7dd-9f02-4ae0-9762-0378eb04dc4f",
   "metadata": {},
   "source": [
    "From the Transfer function we extract $\\omega_n$ and $\\zeta$"
   ]
  },
  {
   "cell_type": "code",
   "execution_count": 2,
   "id": "3b04fe0f-465a-4aab-94c6-e33f064469b3",
   "metadata": {},
   "outputs": [
    {
     "data": {
      "text/latex": [
       "$Y(s)=\\frac{7}{s \\left(s^{2} + \\frac{127 s}{40} + 7\\right)}$"
      ],
      "text/plain": [
       "<IPython.core.display.Latex object>"
      ]
     },
     "metadata": {},
     "output_type": "display_data"
    }
   ],
   "source": [
    "omega = sp.sqrt(7)\n",
    "zeta = sp.Rational(3175, 1000)/2/omega\n",
    "R = 1/s\n",
    "T = omega**2/(s**2 + 2*zeta*omega*s + omega**2)\n",
    "Y = R*T\n",
    "eq_disp('Y(s)', Y)"
   ]
  },
  {
   "cell_type": "markdown",
   "id": "9f34500e-d42c-4576-9669-495412ed0fa0",
   "metadata": {},
   "source": [
    "The formula for percent overshoot is:\n",
    "$$\\sigma_p \\%=\\frac{y\\left(T_p\\right)-y(\\infty)}{y(\\infty)} \\times 100 \\%$$\n",
    "where \n",
    "$$\\left.\\frac{d y(t)}{d t}\\right|_{t=T_p}=\\left.0\\right|_{(\\text {first })}$$\n",
    "First we must find y(t)"
   ]
  },
  {
   "cell_type": "markdown",
   "id": "63012243-9e08-4b2c-80ec-23ff599c3970",
   "metadata": {},
   "source": [
    "We can construct the partial fractions according to:\n",
    "$$T(s)R(s)=\\frac{K_{s 1}}{s+s_1}+\\frac{K_{s 2}}{s+s_2}+\\cdots+\\frac{K_{s n}}{s+s_n}$$\n",
    "First solve for the n poles "
   ]
  },
  {
   "cell_type": "code",
   "execution_count": 3,
   "id": "95d20c8d-2cad-4bab-b9bd-731de015ba2b",
   "metadata": {},
   "outputs": [
    {
     "data": {
      "text/latex": [
       "$-s_0=0$"
      ],
      "text/plain": [
       "<IPython.core.display.Latex object>"
      ]
     },
     "metadata": {},
     "output_type": "display_data"
    },
    {
     "data": {
      "text/latex": [
       "$-s_1=- \\frac{127}{80} - \\frac{\\sqrt{28671} i}{80}$"
      ],
      "text/plain": [
       "<IPython.core.display.Latex object>"
      ]
     },
     "metadata": {},
     "output_type": "display_data"
    },
    {
     "data": {
      "text/latex": [
       "$-s_2=- \\frac{127}{80} + \\frac{\\sqrt{28671} i}{80}$"
      ],
      "text/plain": [
       "<IPython.core.display.Latex object>"
      ]
     },
     "metadata": {},
     "output_type": "display_data"
    }
   ],
   "source": [
    "p, q = Y.as_numer_denom()\n",
    "poles = sp.solve(q,s)\n",
    "        \n",
    "for i, pole in enumerate(poles):\n",
    "    eq_disp(f'-s_{i}', pole)"
   ]
  },
  {
   "cell_type": "markdown",
   "id": "32fdad97-b0f4-46d8-815d-7eee0f8dfebe",
   "metadata": {},
   "source": [
    "Now we find the numerators $K_{s_i}$"
   ]
  },
  {
   "cell_type": "code",
   "execution_count": 4,
   "id": "87b02396-8b7b-41d3-8020-071757549cb8",
   "metadata": {},
   "outputs": [
    {
     "data": {
      "text/latex": [
       "$y(y)=40.0 + 66.665 e^{- 20 t} \\cos{\\left(\\frac{20 \\sqrt{28671} t}{127} + 2.49806829346609 \\right)}$"
      ],
      "text/plain": [
       "<IPython.core.display.Latex object>"
      ]
     },
     "metadata": {},
     "output_type": "display_data"
    }
   ],
   "source": [
    "K_s = []\n",
    "p_fracs = []\n",
    "y = 0\n",
    "\n",
    "conjugates = set()\n",
    "\n",
    "for i, pole in enumerate(poles):\n",
    "    if pole in conjugates:\n",
    "        continue\n",
    "    Ki = sp.simplify(p/np.prod([(x+pole) for x in poles if x != pole])).subs(s, pole)\n",
    "    if pole.is_real:\n",
    "        y += sp.inverse_laplace_transform(Ki/(s-pole), s, t)\n",
    "    else:\n",
    "        alpha = sp.re(Ki)\n",
    "        beta = abs(sp.im(Ki))\n",
    "        theta = sp.atan2(sp.re(Ki), sp.im(Ki)).evalf()\n",
    "        r = sp.sqrt(beta**2 + alpha**2)\n",
    "        y += 2*r*sp.exp(-alpha*t)*sp.cos(beta*t + theta)\n",
    "        conjugates.add(sp.re(pole)-sp.I*sp.im(pole))\n",
    "\n",
    "y = y.evalf(5)\n",
    "eq_disp('y(y)',y)"
   ]
  },
  {
   "cell_type": "markdown",
   "id": "1d92494b",
   "metadata": {},
   "source": [
    "From the partial fraction expansion we can take the inverse laplace transform"
   ]
  },
  {
   "cell_type": "markdown",
   "id": "2f76de10",
   "metadata": {},
   "source": [
    "y = sp.inverse_laplace_transform(Y, s,t)\n",
    "y"
   ]
  },
  {
   "cell_type": "markdown",
   "id": "4d2e761f-78cb-47f2-bfbe-3f0ef4ac59c2",
   "metadata": {},
   "source": [
    "Transform to the time domain"
   ]
  },
  {
   "cell_type": "code",
   "execution_count": 5,
   "id": "f7d2e2d7",
   "metadata": {},
   "outputs": [
    {
     "data": {
      "text/latex": [
       "$\\displaystyle - 10.498 \\sqrt{28671} e^{- 20 t} \\sin{\\left(\\frac{20 \\sqrt{28671} t}{127} + 2.49806829346609 \\right)} - 1333.3 e^{- 20 t} \\cos{\\left(\\frac{20 \\sqrt{28671} t}{127} + 2.49806829346609 \\right)}$"
      ],
      "text/plain": [
       "-10.498*sqrt(28671)*exp(-20*t)*sin(20*sqrt(28671)*t/127 + 2.49806829346609) - 1333.3*exp(-20*t)*cos(20*sqrt(28671)*t/127 + 2.49806829346609)"
      ]
     },
     "execution_count": 5,
     "metadata": {},
     "output_type": "execute_result"
    }
   ],
   "source": [
    "dy = y.diff(t)\n",
    "dy"
   ]
  },
  {
   "cell_type": "code",
   "execution_count": 6,
   "id": "a3fd4860",
   "metadata": {},
   "outputs": [
    {
     "data": {
      "text/latex": [
       "$\\displaystyle - 1777.63483664948 e^{- 20 t} \\sin{\\left(\\frac{20 \\sqrt{28671} t}{127} + 2.49806829346609 \\right)} - 1333.291015625 e^{- 20 t} \\cos{\\left(\\frac{20 \\sqrt{28671} t}{127} + 2.49806829346609 \\right)}$"
      ],
      "text/plain": [
       "-1777.63483664948*exp(-20*t)*sin(20*sqrt(28671)*t/127 + 2.49806829346609) - 1333.291015625*exp(-20*t)*cos(20*sqrt(28671)*t/127 + 2.49806829346609)"
      ]
     },
     "execution_count": 6,
     "metadata": {},
     "output_type": "execute_result"
    }
   ],
   "source": [
    "sp.N(dy)"
   ]
  },
  {
   "cell_type": "markdown",
   "id": "373fac01",
   "metadata": {},
   "source": [
    "Peak time is then calculated"
   ]
  },
  {
   "cell_type": "code",
   "execution_count": 17,
   "id": "f1364bb1",
   "metadata": {},
   "outputs": [
    {
     "ename": "ValueError",
     "evalue": "min() arg is an empty sequence",
     "output_type": "error",
     "traceback": [
      "\u001b[1;31m---------------------------------------------------------------------------\u001b[0m",
      "\u001b[1;31mValueError\u001b[0m                                Traceback (most recent call last)",
      "\u001b[1;32mc:\\Users\\osteb\\OneDrive - Aarhus universitet\\Kandidat\\10 semester\\Control and sensor tech\\Homeworks\\Homework_4\\Homework4.ipynb Cell 15\u001b[0m in \u001b[0;36m<cell line: 2>\u001b[1;34m()\u001b[0m\n\u001b[0;32m      <a href='vscode-notebook-cell:/c%3A/Users/osteb/OneDrive%20-%20Aarhus%20universitet/Kandidat/10%20semester/Control%20and%20sensor%20tech/Homeworks/Homework_4/Homework4.ipynb#X23sZmlsZQ%3D%3D?line=0'>1</a>\u001b[0m sol \u001b[39m=\u001b[39m sp\u001b[39m.\u001b[39msolve(dy\u001b[39m.\u001b[39mevalf(\u001b[39m5\u001b[39m), t)\n\u001b[1;32m----> <a href='vscode-notebook-cell:/c%3A/Users/osteb/OneDrive%20-%20Aarhus%20universitet/Kandidat/10%20semester/Control%20and%20sensor%20tech/Homeworks/Homework_4/Homework4.ipynb#X23sZmlsZQ%3D%3D?line=1'>2</a>\u001b[0m Tp \u001b[39m=\u001b[39m \u001b[39mmin\u001b[39;49m([x \u001b[39mfor\u001b[39;49;00m x \u001b[39min\u001b[39;49;00m sol \u001b[39mif\u001b[39;49;00m x \u001b[39m!=\u001b[39;49m \u001b[39m0\u001b[39;49m])\n\u001b[0;32m      <a href='vscode-notebook-cell:/c%3A/Users/osteb/OneDrive%20-%20Aarhus%20universitet/Kandidat/10%20semester/Control%20and%20sensor%20tech/Homeworks/Homework_4/Homework4.ipynb#X23sZmlsZQ%3D%3D?line=2'>3</a>\u001b[0m eq_disp(\u001b[39m'\u001b[39m\u001b[39mT_p\u001b[39m\u001b[39m'\u001b[39m, sp\u001b[39m.\u001b[39mN(Tp,\u001b[39m3\u001b[39m))\n",
      "\u001b[1;31mValueError\u001b[0m: min() arg is an empty sequence"
     ]
    }
   ],
   "source": [
    "sol = sp.solve(dy.evalf(5), t)\n",
    "Tp = min([x for x in sol if x != 0])\n",
    "eq_disp('T_p', sp.N(Tp,3))"
   ]
  },
  {
   "cell_type": "markdown",
   "id": "1117e4de",
   "metadata": {},
   "source": [
    "Now the steady state value is calculated by \n",
    "$$\\lim_{t\\rightarrow\\infty}y(t)$$"
   ]
  },
  {
   "cell_type": "code",
   "execution_count": null,
   "id": "f442eb17",
   "metadata": {},
   "outputs": [
    {
     "data": {
      "text/latex": [
       "$y(\\infty)=40$"
      ],
      "text/plain": [
       "<IPython.core.display.Latex object>"
      ]
     },
     "metadata": {},
     "output_type": "display_data"
    }
   ],
   "source": [
    "y_ss = sp.limit(y, t, sp.oo)\n",
    "eq_disp('y(\\infty)', y_ss)"
   ]
  },
  {
   "cell_type": "code",
   "execution_count": null,
   "id": "5e176ffe",
   "metadata": {},
   "outputs": [],
   "source": []
  },
  {
   "cell_type": "markdown",
   "id": "5a075bb9",
   "metadata": {},
   "source": [
    "Finally %overshoot can be calculated"
   ]
  },
  {
   "cell_type": "code",
   "execution_count": null,
   "id": "8f953384",
   "metadata": {},
   "outputs": [
    {
     "data": {
      "text/latex": [
       "$\\sigma_p\\%=216.0$"
      ],
      "text/plain": [
       "<IPython.core.display.Latex object>"
      ]
     },
     "metadata": {},
     "output_type": "display_data"
    }
   ],
   "source": [
    "sigma_p = ((y.subs(t, Tp) - y_ss)/y_ss*100).evalf()\n",
    "eq_disp('\\\\sigma_p\\%', sp.N(sigma_p,3))\n"
   ]
  },
  {
   "cell_type": "markdown",
   "id": "f198f07c",
   "metadata": {},
   "source": [
    "The setling time at 2% threshold is calculated by:\n",
    "$$\n",
    "T_s=4 \\tau=\\frac{4}{\\xi \\omega_n}\n",
    "$$"
   ]
  },
  {
   "cell_type": "code",
   "execution_count": null,
   "id": "942ecb0d",
   "metadata": {},
   "outputs": [
    {
     "data": {
      "text/latex": [
       "$T_s=2.52$"
      ],
      "text/plain": [
       "<IPython.core.display.Latex object>"
      ]
     },
     "metadata": {},
     "output_type": "display_data"
    }
   ],
   "source": [
    "Ts = 4/(zeta*omega)\n",
    "eq_disp('T_s', sp.N(Ts,3))"
   ]
  },
  {
   "cell_type": "markdown",
   "id": "3698d695",
   "metadata": {},
   "source": [
    "## b)"
   ]
  },
  {
   "cell_type": "markdown",
   "id": "a17df8fc",
   "metadata": {},
   "source": [
    "To verify our results we plot $y(t)$ and anotate the plot with the peak time $T_p$ and the settling time $T_s$ "
   ]
  },
  {
   "cell_type": "code",
   "execution_count": 8,
   "id": "3e5642f9",
   "metadata": {},
   "outputs": [
    {
     "ename": "NameError",
     "evalue": "name 'Ts' is not defined",
     "output_type": "error",
     "traceback": [
      "\u001b[1;31m---------------------------------------------------------------------------\u001b[0m",
      "\u001b[1;31mNameError\u001b[0m                                 Traceback (most recent call last)",
      "\u001b[1;32mc:\\Users\\osteb\\OneDrive - Aarhus universitet\\Kandidat\\10 semester\\Control and sensor tech\\Homeworks\\Homework_4\\Homework4.ipynb Cell 26\u001b[0m in \u001b[0;36m<cell line: 4>\u001b[1;34m()\u001b[0m\n\u001b[0;32m      <a href='vscode-notebook-cell:/c%3A/Users/osteb/OneDrive%20-%20Aarhus%20universitet/Kandidat/10%20semester/Control%20and%20sensor%20tech/Homeworks/Homework_4/Homework4.ipynb#X35sZmlsZQ%3D%3D?line=1'>2</a>\u001b[0m tspan \u001b[39m=\u001b[39m np\u001b[39m.\u001b[39mr_[\u001b[39m0\u001b[39m:\u001b[39m5\u001b[39m:\u001b[39m0.05\u001b[39m]\n\u001b[0;32m      <a href='vscode-notebook-cell:/c%3A/Users/osteb/OneDrive%20-%20Aarhus%20universitet/Kandidat/10%20semester/Control%20and%20sensor%20tech/Homeworks/Homework_4/Homework4.ipynb#X35sZmlsZQ%3D%3D?line=2'>3</a>\u001b[0m plt\u001b[39m.\u001b[39mplot(tspan, y_f(tspan), linewidth\u001b[39m=\u001b[39m\u001b[39m1\u001b[39m)\n\u001b[1;32m----> <a href='vscode-notebook-cell:/c%3A/Users/osteb/OneDrive%20-%20Aarhus%20universitet/Kandidat/10%20semester/Control%20and%20sensor%20tech/Homeworks/Homework_4/Homework4.ipynb#X35sZmlsZQ%3D%3D?line=3'>4</a>\u001b[0m plt\u001b[39m.\u001b[39mplot(\u001b[39mfloat\u001b[39m(Ts), y_f(\u001b[39mfloat\u001b[39m(Ts)),linestyle\u001b[39m=\u001b[39m\u001b[39m'\u001b[39m\u001b[39mNone\u001b[39m\u001b[39m'\u001b[39m, markersize\u001b[39m=\u001b[39m\u001b[39m7\u001b[39m, marker\u001b[39m=\u001b[39m\u001b[39m'\u001b[39m\u001b[39mx\u001b[39m\u001b[39m'\u001b[39m)\n\u001b[0;32m      <a href='vscode-notebook-cell:/c%3A/Users/osteb/OneDrive%20-%20Aarhus%20universitet/Kandidat/10%20semester/Control%20and%20sensor%20tech/Homeworks/Homework_4/Homework4.ipynb#X35sZmlsZQ%3D%3D?line=4'>5</a>\u001b[0m plt\u001b[39m.\u001b[39mplot(\u001b[39mfloat\u001b[39m(Tp), y_f(\u001b[39mfloat\u001b[39m(Tp)),linestyle\u001b[39m=\u001b[39m\u001b[39m'\u001b[39m\u001b[39mNone\u001b[39m\u001b[39m'\u001b[39m, markersize\u001b[39m=\u001b[39m\u001b[39m7\u001b[39m, marker\u001b[39m=\u001b[39m\u001b[39m'\u001b[39m\u001b[39mx\u001b[39m\u001b[39m'\u001b[39m)\n\u001b[0;32m      <a href='vscode-notebook-cell:/c%3A/Users/osteb/OneDrive%20-%20Aarhus%20universitet/Kandidat/10%20semester/Control%20and%20sensor%20tech/Homeworks/Homework_4/Homework4.ipynb#X35sZmlsZQ%3D%3D?line=5'>6</a>\u001b[0m plt\u001b[39m.\u001b[39mplot(tspan, \u001b[39mfloat\u001b[39m(y_ss)\u001b[39m*\u001b[39mnp\u001b[39m.\u001b[39mones(\u001b[39mlen\u001b[39m(tspan)), \u001b[39m'\u001b[39m\u001b[39mk.\u001b[39m\u001b[39m'\u001b[39m, markersize\u001b[39m=\u001b[39m\u001b[39m1\u001b[39m)\n",
      "\u001b[1;31mNameError\u001b[0m: name 'Ts' is not defined"
     ]
    },
    {
     "data": {
      "image/png": "[encoded data removed]",
      "text/plain": [
       "<Figure size 640x480 with 1 Axes>"
      ]
     },
     "metadata": {},
     "output_type": "display_data"
    }
   ],
   "source": [
    "y_f = sp.lambdify(t, y)\n",
    "tspan = np.r_[0:5:0.05]\n",
    "plt.plot(tspan, y_f(tspan), linewidth=1)\n",
    "plt.plot(float(Ts), y_f(float(Ts)),linestyle='None', markersize=7, marker='x')\n",
    "plt.plot(float(Tp), y_f(float(Tp)),linestyle='None', markersize=7, marker='x')\n",
    "plt.plot(tspan, float(y_ss)*np.ones(len(tspan)), 'k.', markersize=1)\n",
    "plt.legend(['$y(t)$', '$T_s$', '$T_p$', '$y_{ss}$'])\n",
    "plt.xlabel('$t$')\n",
    "plt.ylabel('$y(t)$')\n",
    "plt.title('unit step response')\n",
    "plt.show()"
   ]
  },
  {
   "cell_type": "markdown",
   "id": "28bb861b",
   "metadata": {},
   "source": [
    "# P5.22"
   ]
  },
  {
   "cell_type": "markdown",
   "id": "0d0cb83d",
   "metadata": {},
   "source": [
    "## a)"
   ]
  },
  {
   "cell_type": "code",
   "execution_count": null,
   "id": "593f68a6",
   "metadata": {},
   "outputs": [],
   "source": [
    "K, s, tau = sp.symbols('K, s, tau')\n",
    "tau = sp.Rational(243,100)\n",
    "GcG = 2/(s+sp.Rational(2,10)*K)\n",
    "H = 2/(2*s + tau)"
   ]
  },
  {
   "cell_type": "markdown",
   "id": "1964a560",
   "metadata": {},
   "source": [
    "First we simplify the system to a single transferfunction"
   ]
  },
  {
   "cell_type": "code",
   "execution_count": null,
   "id": "0b0a8155",
   "metadata": {},
   "outputs": [
    {
     "data": {
      "text/latex": [
       "$T=\\frac{10 \\cdot \\left(200 s + 243\\right)}{\\left(K + 5 s\\right) \\left(200 s + 243\\right) + 2000}$"
      ],
      "text/plain": [
       "<IPython.core.display.Latex object>"
      ]
     },
     "metadata": {},
     "output_type": "display_data"
    }
   ],
   "source": [
    "T = reduce_feedback(GcG, H)\n",
    "eq_disp('T', T)"
   ]
  },
  {
   "cell_type": "markdown",
   "id": "e9269308",
   "metadata": {},
   "source": [
    "Now since \n",
    "$$Y(s) = T(s)R(s)$$\n",
    "$$E(s) = R-Y = (1-T(s))R$$\n",
    "now since $R(s) = \\frac{1}{s}$ we get (using final value theorem):\n",
    "$$e_{ss} = \\lim_{t\\rightarrow \\infty}E(t) =s\\lim_{t\\rightarrow 0}E(s) = (1-T(s))$$"
   ]
  },
  {
   "cell_type": "code",
   "execution_count": null,
   "id": "3b14a258",
   "metadata": {},
   "outputs": [
    {
     "data": {
      "text/latex": [
       "$e_{ss}=1 - \\frac{2430}{243 K + 2000}$"
      ],
      "text/plain": [
       "<IPython.core.display.Latex object>"
      ]
     },
     "metadata": {},
     "output_type": "display_data"
    }
   ],
   "source": [
    "e_ss = 1-sp.limit(T, s, 0)\n",
    "eq_disp('e_{ss}', e_ss)"
   ]
  },
  {
   "cell_type": "markdown",
   "id": "d3a582b4",
   "metadata": {},
   "source": [
    "Now we can solve for $K$ such that $e_{ss}=0$"
   ]
  },
  {
   "cell_type": "code",
   "execution_count": null,
   "id": "2db088de",
   "metadata": {},
   "outputs": [
    {
     "data": {
      "text/latex": [
       "$K=1.77$"
      ],
      "text/plain": [
       "<IPython.core.display.Latex object>"
      ]
     },
     "metadata": {},
     "output_type": "display_data"
    }
   ],
   "source": [
    "K_ss0 = sp.solve(e_ss, K)[0]\n",
    "eq_disp('K', sp.N(K_ss0,3))"
   ]
  },
  {
   "cell_type": "markdown",
   "id": "1c305ba9",
   "metadata": {},
   "source": [
    "## b)"
   ]
  },
  {
   "cell_type": "code",
   "execution_count": null,
   "id": "429ee86e",
   "metadata": {},
   "outputs": [
    {
     "data": {
      "text/latex": [
       "$Y=\\frac{486 \\cdot \\left(200 s + 243\\right)}{s \\left(48600 s^{2} + 76249 s + 118098\\right)}$"
      ],
      "text/plain": [
       "<IPython.core.display.Latex object>"
      ]
     },
     "metadata": {},
     "output_type": "display_data"
    }
   ],
   "source": [
    "T = T.subs(K, K_ss0)\n",
    "R = 1/s\n",
    "Y = sp.simplify(T*R)\n",
    "eq_disp('Y', Y)"
   ]
  },
  {
   "cell_type": "markdown",
   "id": "32fdad97-b0f4-46d8-815d-7eee0f8dfebe",
   "metadata": {},
   "source": [
    "Now we find the numerators $K_{s_i}$"
   ]
  },
  {
   "cell_type": "markdown",
   "id": "4d2e761f-78cb-47f2-bfbe-3f0ef4ac59c2",
   "metadata": {},
   "source": [
    "Transform to the time domain"
   ]
  },
  {
   "cell_type": "code",
   "execution_count": null,
   "id": "2f76de10",
   "metadata": {},
   "outputs": [
    {
     "data": {
      "text/latex": [
       "$\\displaystyle 5.83 \\cdot 10^{-11} \\cdot \\left(1.55 \\cdot 10^{10} \\sin{\\left(\\frac{\\sqrt{17144341199} t}{97200} \\right)} - 1.71 \\cdot 10^{10} \\cos{\\left(\\frac{\\sqrt{17144341199} t}{97200} \\right)}\\right) e^{- \\frac{76249 t}{97200}} + 1.0$"
      ],
      "text/plain": [
       "5.83e-11*(1.55e+10*sin(sqrt(17144341199)*t/97200) - 1.71e+10*cos(sqrt(17144341199)*t/97200))*exp(-76249*t/97200) + 1.0"
      ]
     },
     "execution_count": 317,
     "metadata": {},
     "output_type": "execute_result"
    }
   ],
   "source": [
    "y=0\n",
    "for term in sp.Add.make_args(Y.apart(s)):\n",
    "    y += sp.inverse_laplace_transform(term, s, t)\n",
    "sp.N(y,3)"
   ]
  },
  {
   "cell_type": "code",
   "execution_count": null,
   "id": "f7d2e2d7",
   "metadata": {},
   "outputs": [
    {
     "data": {
      "text/latex": [
       "$\\displaystyle - 0.784 \\cdot \\left(0.902 \\sin{\\left(\\frac{\\sqrt{17144341199} t}{97200} \\right)} - \\cos{\\left(\\frac{\\sqrt{17144341199} t}{97200} \\right)}\\right) e^{- \\frac{76249 t}{97200}} + \\left(1.35 \\sin{\\left(\\frac{\\sqrt{17144341199} t}{97200} \\right)} + 1.22 \\cos{\\left(\\frac{\\sqrt{17144341199} t}{97200} \\right)}\\right) e^{- \\frac{76249 t}{97200}}$"
      ],
      "text/plain": [
       "-0.784*(0.902*sin(sqrt(17144341199)*t/97200) - cos(sqrt(17144341199)*t/97200))*exp(-76249*t/97200) + (1.35*sin(sqrt(17144341199)*t/97200) + 1.22*cos(sqrt(17144341199)*t/97200))*exp(-76249*t/97200)"
      ]
     },
     "execution_count": 318,
     "metadata": {},
     "output_type": "execute_result"
    }
   ],
   "source": [
    "dy = y.diff(t)\n",
    "sp.N(dy,3)"
   ]
  },
  {
   "cell_type": "markdown",
   "id": "373fac01",
   "metadata": {},
   "source": [
    "Peak time is then calculated"
   ]
  },
  {
   "cell_type": "code",
   "execution_count": null,
   "id": "f1364bb1",
   "metadata": {},
   "outputs": [
    {
     "data": {
      "text/latex": [
       "$T_p=0.0106$"
      ],
      "text/plain": [
       "<IPython.core.display.Latex object>"
      ]
     },
     "metadata": {},
     "output_type": "display_data"
    }
   ],
   "source": [
    "from scipy.optimize import minimize\n",
    "Tp = min([x for x in sol if x != 0])\n",
    "eq_disp('T_p', sp.N(Tp,3))"
   ]
  },
  {
   "cell_type": "markdown",
   "id": "1117e4de",
   "metadata": {},
   "source": [
    "Now the steady state value is calculated by \n",
    "$$\\lim_{t\\rightarrow\\infty}y(t)$$"
   ]
  },
  {
   "cell_type": "code",
   "execution_count": null,
   "id": "f442eb17",
   "metadata": {},
   "outputs": [
    {
     "data": {
      "text/latex": [
       "$y(\\infty)=1$"
      ],
      "text/plain": [
       "<IPython.core.display.Latex object>"
      ]
     },
     "metadata": {},
     "output_type": "display_data"
    }
   ],
   "source": [
    "y_ss = sp.limit(y, t, sp.oo)\n",
    "eq_disp('y(\\infty)', y_ss)"
   ]
  },
  {
   "cell_type": "markdown",
   "id": "5a075bb9",
   "metadata": {},
   "source": [
    "Finally %overshoot can be calculated"
   ]
  },
  {
   "cell_type": "code",
   "execution_count": null,
   "id": "8f953384",
   "metadata": {},
   "outputs": [
    {
     "data": {
      "text/latex": [
       "$\\sigma_p\\%=-97.9$"
      ],
      "text/plain": [
       "<IPython.core.display.Latex object>"
      ]
     },
     "metadata": {},
     "output_type": "display_data"
    }
   ],
   "source": [
    "sigma_p = (y.subs(t, Tp) - y_ss)/y_ss*100\n",
    "eq_disp('\\\\sigma_p\\%', sp.N(sigma_p,3))"
   ]
  }
 ],
 "metadata": {
  "kernelspec": {
   "display_name": "Python 3.9.12 ('base')",
   "language": "python",
   "name": "python3"
  },
  "language_info": {
   "codemirror_mode": {
    "name": "ipython",
    "version": 3
   },
   "file_extension": ".py",
   "mimetype": "text/x-python",
   "name": "python",
   "nbconvert_exporter": "python",
   "pygments_lexer": "ipython3",
   "version": "3.9.12"
  },
  "vscode": {
   "interpreter": {
    "hash": "26e04c728766cb3a286926c7774992480ad79a49d3b860a30eec8d895b8ee1d8"
   }
  }
 },
 "nbformat": 4,
 "nbformat_minor": 5
}
