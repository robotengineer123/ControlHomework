{
 "cells": [
  {
   "cell_type": "code",
   "execution_count": 7,
   "id": "bdb4c44f-a0af-411d-a2f9-15cf629efc40",
   "metadata": {},
   "outputs": [],
   "source": [
    "import numpy as np\n",
    "import sympy as sp\n",
    "import matplotlib.pyplot as plt\n",
    "from IPython.display import display, Latex, Math\n",
    "def eq_disp(varstring, expr):\n",
    "    display(Latex(f\"${varstring}={sp.latex(expr)}$\"))\n",
    "\n",
    "def reduce_feedback(G_fwd, G_bwd):\n",
    "    \"\"\"Assumes feedback is deducted from signal, if not\n",
    "    change sign of feedback\"\"\"\n",
    "    return sp.simplify(G_fwd/(1+G_fwd*G_bwd))\n",
    "\n",
    "s, t, zeta, omega = sp.symbols('s, t, zeta, omega')"
   ]
  },
  {
   "cell_type": "markdown",
   "id": "4f6ce7dd-9f02-4ae0-9762-0378eb04dc4f",
   "metadata": {},
   "source": [
    "From the Transfer function we extract $\\omega_n$ and $\\zeta$"
   ]
  },
  {
   "cell_type": "code",
   "execution_count": 8,
   "id": "3b04fe0f-465a-4aab-94c6-e33f064469b3",
   "metadata": {},
   "outputs": [
    {
     "data": {
      "text/latex": [
       "$Y(s)=\\frac{7}{s \\left(s^{2} + 3.175 s + 7\\right)}$"
      ],
      "text/plain": [
       "<IPython.core.display.Latex object>"
      ]
     },
     "metadata": {},
     "output_type": "display_data"
    }
   ],
   "source": [
    "omega = sp.sqrt(7)\n",
    "zeta = 3.175/2/omega\n",
    "R = 1/s\n",
    "T = omega**2/(s**2 + 2*zeta*omega*s + omega**2)\n",
    "Y = R*T\n",
    "eq_disp('Y(s)', Y)"
   ]
  },
  {
   "cell_type": "code",
   "execution_count": 9,
   "id": "bdc5fb53-05be-428c-8949-42a913909e9c",
   "metadata": {},
   "outputs": [
    {
     "data": {
      "text/latex": [
       "$\\displaystyle - 1.0 {G_{3, 3}^{0, 3}\\left(\\begin{matrix} -3.175, -0.5875 - 2.11656413793676 i, -0.5875 + 2.11656413793676 i &  \\\\ & -2.175, -1.5875 - 2.11656413793676 i, -1.5875 + 2.11656413793676 i \\end{matrix} \\middle| {e^{t}} \\right)} + 1.0 \\theta\\left(t\\right)$"
      ],
      "text/plain": [
       "-1.0*meijerg(((-3.175, -0.5875 - 2.11656413793676*I, -0.5875 + 2.11656413793676*I), ()), ((), (-2.175, -1.5875 - 2.11656413793676*I, -1.5875 + 2.11656413793676*I)), exp(t)) + 1.0*Heaviside(t)"
      ]
     },
     "execution_count": 9,
     "metadata": {},
     "output_type": "execute_result"
    }
   ],
   "source": [
    "sp.inverse_laplace_transform(Y.apart(), s, t) "
   ]
  },
  {
   "cell_type": "markdown",
   "id": "9f34500e-d42c-4576-9669-495412ed0fa0",
   "metadata": {},
   "source": [
    "The formula for percent overshoot is:\n",
    "$$\\sigma_p \\%=\\frac{y\\left(T_p\\right)-y(\\infty)}{y(\\infty)} \\times 100 \\%$$\n",
    "where \n",
    "$$\\left.\\frac{d y(t)}{d t}\\right|_{t=T_p}=\\left.0\\right|_{(\\text {first })}$$\n",
    "First we must find y(t)"
   ]
  },
  {
   "cell_type": "markdown",
   "id": "63012243-9e08-4b2c-80ec-23ff599c3970",
   "metadata": {},
   "source": [
    "We can construct the partial fractions according to:\n",
    "$$T(s)R(s)=\\frac{K_{s 1}}{s+s_1}+\\frac{K_{s 2}}{s+s_2}+\\cdots+\\frac{K_{s n}}{s+s_n}$$\n",
    "First solve for the n poles "
   ]
  },
  {
   "cell_type": "code",
   "execution_count": 10,
   "id": "95d20c8d-2cad-4bab-b9bd-731de015ba2b",
   "metadata": {},
   "outputs": [
    {
     "data": {
      "text/latex": [
       "$-s_0=0.0$"
      ],
      "text/plain": [
       "<IPython.core.display.Latex object>"
      ]
     },
     "metadata": {},
     "output_type": "display_data"
    },
    {
     "data": {
      "text/latex": [
       "$-s_1=-1.5875 - 2.11656413793676 i$"
      ],
      "text/plain": [
       "<IPython.core.display.Latex object>"
      ]
     },
     "metadata": {},
     "output_type": "display_data"
    },
    {
     "data": {
      "text/latex": [
       "$-s_2=-1.5875 + 2.11656413793676 i$"
      ],
      "text/plain": [
       "<IPython.core.display.Latex object>"
      ]
     },
     "metadata": {},
     "output_type": "display_data"
    }
   ],
   "source": [
    "p, q = Y.as_numer_denom()\n",
    "poles = sp.solve(q,s)\n",
    "for i, pole in enumerate(poles):\n",
    "    eq_disp(f'-s_{i}', pole)"
   ]
  },
  {
   "cell_type": "markdown",
   "id": "32fdad97-b0f4-46d8-815d-7eee0f8dfebe",
   "metadata": {},
   "source": [
    "Now we find the numerators $K_{s_i}$"
   ]
  },
  {
   "cell_type": "code",
   "execution_count": 23,
   "id": "87b02396-8b7b-41d3-8020-071757549cb8",
   "metadata": {},
   "outputs": [
    {
     "data": {
      "text/latex": [
       "$Y(s)=\\frac{0.5 - 0.666634374153312 i}{s + 1.5875 + 2.11656413793676 i} + \\frac{0.5 + 0.666634374153312 i}{s + 1.5875 - 2.11656413793676 i} + \\frac{1.0}{s}$"
      ],
      "text/plain": [
       "<IPython.core.display.Latex object>"
      ]
     },
     "metadata": {},
     "output_type": "display_data"
    }
   ],
   "source": [
    "K_s = []\n",
    "for i, pole in enumerate(poles):\n",
    "    K_s.append(sp.simplify(p/np.prod([(s+poles[j]) for j in range(len(poles)) if j != i])).subs(s, pole))\n",
    "\n",
    "p_fracs = [K_s[i]/(s-poles[i]) for i in range(len(K_s))]\n",
    "Y = sum(p_fracs)\n",
    "eq_disp('Y(s)',Y)"
   ]
  },
  {
   "cell_type": "markdown",
   "id": "4d2e761f-78cb-47f2-bfbe-3f0ef4ac59c2",
   "metadata": {},
   "source": [
    "Transform to the time domain"
   ]
  },
  {
   "cell_type": "code",
   "execution_count": 26,
   "id": "3a034027-d21e-4c74-b8d5-61f9f884839e",
   "metadata": {},
   "outputs": [
    {
     "data": {
      "text/latex": [
       "$\\displaystyle - 1.0 {G_{3, 3}^{0, 3}\\left(\\begin{matrix} -3.175, -0.5875 - 2.11656413793676 i, -0.5875 + 2.11656413793676 i &  \\\\ & -2.175, -1.5875 - 2.11656413793676 i, -1.5875 + 2.11656413793676 i \\end{matrix} \\middle| {e^{t}} \\right)} + 1.0 \\theta\\left(t\\right)$"
      ],
      "text/plain": [
       "-1.0*meijerg(((-3.175, -0.5875 - 2.11656413793676*I, -0.5875 + 2.11656413793676*I), ()), ((), (-2.175, -1.5875 - 2.11656413793676*I, -1.5875 + 2.11656413793676*I)), exp(t)) + 1.0*Heaviside(t)"
      ]
     },
     "execution_count": 26,
     "metadata": {},
     "output_type": "execute_result"
    }
   ],
   "source": [
    "y = sp.inverse_laplace_transform(Y, s, t)\n",
    "y"
   ]
  }
 ],
 "metadata": {
  "kernelspec": {
   "display_name": "Python 3.9.12 ('main')",
   "language": "python",
   "name": "python3"
  },
  "language_info": {
   "codemirror_mode": {
    "name": "ipython",
    "version": 3
   },
   "file_extension": ".py",
   "mimetype": "text/x-python",
   "name": "python",
   "nbconvert_exporter": "python",
   "pygments_lexer": "ipython3",
   "version": "3.9.12"
  },
  "vscode": {
   "interpreter": {
    "hash": "189c722359e8ae24941e7529d2e8e4a55dd6824955770f169083d5c2e0c1346f"
   }
  }
 },
 "nbformat": 4,
 "nbformat_minor": 5
}
